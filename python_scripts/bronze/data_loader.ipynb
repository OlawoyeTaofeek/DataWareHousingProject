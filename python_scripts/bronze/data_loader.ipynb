{
 "cells": [
  {
   "cell_type": "code",
   "execution_count": 4,
   "metadata": {},
   "outputs": [],
   "source": [
    "import os\n",
    "from pathlib import Path"
   ]
  },
  {
   "cell_type": "code",
   "execution_count": 9,
   "metadata": {},
   "outputs": [
    {
     "name": "stdout",
     "output_type": "stream",
     "text": [
      "c:\\Users\\user\\Desktop\\FullDataAnalyticsProject\\python_scripts\\bronze\n"
     ]
    }
   ],
   "source": [
    "root_directory = os.getcwd()\n",
    "print(root_directory) "
   ]
  },
  {
   "cell_type": "code",
   "execution_count": 11,
   "metadata": {},
   "outputs": [
    {
     "name": "stdout",
     "output_type": "stream",
     "text": [
      "C:\\Users\\user\\Desktop\\FullDataAnalyticsProject\\python_scripts\\bronze\n"
     ]
    }
   ],
   "source": [
    "root_directory = Path().resolve()\n",
    "print(root_directory)"
   ]
  },
  {
   "cell_type": "code",
   "execution_count": 13,
   "metadata": {},
   "outputs": [
    {
     "name": "stdout",
     "output_type": "stream",
     "text": [
      "C:\\Users\\user\\Desktop\\FullDataAnalyticsProject\n"
     ]
    }
   ],
   "source": [
    "root_directory = Path().resolve().parent.parent\n",
    "print(root_directory)"
   ]
  },
  {
   "cell_type": "code",
   "execution_count": 14,
   "metadata": {},
   "outputs": [
    {
     "data": {
      "text/plain": [
       "'C:\\\\Users\\\\user\\\\Desktop\\\\FullDataAnalyticsProject\\\\Datasets'"
      ]
     },
     "execution_count": 14,
     "metadata": {},
     "output_type": "execute_result"
    }
   ],
   "source": [
    "root_path = os.path.join(root_directory, 'Datasets')\n",
    "root_path"
   ]
  },
  {
   "cell_type": "code",
   "execution_count": 18,
   "metadata": {},
   "outputs": [
    {
     "name": "stdout",
     "output_type": "stream",
     "text": [
      "['source_crm', 'source_erp']\n"
     ]
    }
   ],
   "source": [
    "folders = os.listdir(root_path)\n",
    "print(folders)"
   ]
  },
  {
   "cell_type": "code",
   "execution_count": 19,
   "metadata": {},
   "outputs": [
    {
     "name": "stdout",
     "output_type": "stream",
     "text": [
      "['cust_info.csv', 'prd_info.csv', 'sales_details.csv']\n"
     ]
    }
   ],
   "source": [
    "print(os.listdir(os.path.join(root_path, folders[0])))"
   ]
  },
  {
   "cell_type": "code",
   "execution_count": 20,
   "metadata": {},
   "outputs": [
    {
     "name": "stdout",
     "output_type": "stream",
     "text": [
      "Folder 'uncleaned_crm_datasets' created successfully!\n"
     ]
    }
   ],
   "source": [
    "folder_path = \"uncleaned_crm_datasets\"\n",
    "os.makedirs(folder_path, exist_ok=True)  # Avoids error if folder exists\n",
    "\n",
    "print(f\"Folder '{folder_path}' created successfully!\")"
   ]
  },
  {
   "cell_type": "code",
   "execution_count": 24,
   "metadata": {},
   "outputs": [
    {
     "name": "stdout",
     "output_type": "stream",
     "text": [
      "['crm_cust_info.csv', 'crm_prd_info.csv', 'crm_sales_details.csv']\n"
     ]
    }
   ],
   "source": [
    "crm_data_list = os.listdir(os.path.join(root_path, folders[0]))\n",
    "new_names = []\n",
    "\n",
    "for data in crm_data_list:\n",
    "    new_names.append(f'crm_{data}')\n",
    "print(new_names)"
   ]
  },
  {
   "cell_type": "code",
   "execution_count": 23,
   "metadata": {},
   "outputs": [],
   "source": [
    "import pandas as pd"
   ]
  },
  {
   "cell_type": "code",
   "execution_count": 25,
   "metadata": {},
   "outputs": [],
   "source": [
    "for data in crm_data_list:\n",
    "    path = os.path.join(root_path, folders[0], data)\n",
    "    df = pd.read_csv(path)\n",
    "    df.to_csv(f\"{folder_path}/{data}\", index=False)"
   ]
  },
  {
   "cell_type": "code",
   "execution_count": 26,
   "metadata": {},
   "outputs": [
    {
     "data": {
      "text/plain": [
       "WindowsPath('C:/Users/user/Desktop/FullDataAnalyticsProject/python_scripts/bronze')"
      ]
     },
     "execution_count": 26,
     "metadata": {},
     "output_type": "execute_result"
    }
   ],
   "source": [
    "Path().resolve()"
   ]
  },
  {
   "cell_type": "code",
   "execution_count": 31,
   "metadata": {},
   "outputs": [
    {
     "name": "stdout",
     "output_type": "stream",
     "text": [
      "C:\\Users\\user\\Desktop\\FullDataAnalyticsProject\\python_scripts\\bronze\n"
     ]
    }
   ],
   "source": [
    "root_directory = Path().resolve()\n",
    "print(root_directory)"
   ]
  },
  {
   "cell_type": "code",
   "execution_count": 32,
   "metadata": {},
   "outputs": [
    {
     "name": "stdout",
     "output_type": "stream",
     "text": [
      "cust_info.csv\n",
      "Renamed: C:\\Users\\user\\Desktop\\FullDataAnalyticsProject\\python_scripts\\bronze\\uncleaned_crm_datasets\\cust_info.csv -> C:\\Users\\user\\Desktop\\FullDataAnalyticsProject\\python_scripts\\bronze\\uncleaned_crm_datasets\\crm_cust_info.csv\n",
      "prd_info.csv\n",
      "Renamed: C:\\Users\\user\\Desktop\\FullDataAnalyticsProject\\python_scripts\\bronze\\uncleaned_crm_datasets\\prd_info.csv -> C:\\Users\\user\\Desktop\\FullDataAnalyticsProject\\python_scripts\\bronze\\uncleaned_crm_datasets\\crm_prd_info.csv\n",
      "sales_details.csv\n",
      "Renamed: C:\\Users\\user\\Desktop\\FullDataAnalyticsProject\\python_scripts\\bronze\\uncleaned_crm_datasets\\sales_details.csv -> C:\\Users\\user\\Desktop\\FullDataAnalyticsProject\\python_scripts\\bronze\\uncleaned_crm_datasets\\crm_sales_details.csv\n"
     ]
    }
   ],
   "source": [
    "folder_path = os.path.join(root_directory, \"uncleaned_crm_datasets\")\n",
    "\n",
    "# Loop through files in the folder\n",
    "for filename in os.listdir(folder_path):\n",
    "    print(filename)\n",
    "    old_path = os.path.join(folder_path, filename)\n",
    "    new_path = os.path.join(folder_path, f'crm_{filename}')\n",
    "\n",
    "    # Rename the file\n",
    "    os.rename(old_path, new_path)\n",
    "    print(f\"Renamed: {old_path} -> {new_path}\")"
   ]
  },
  {
   "cell_type": "code",
   "execution_count": null,
   "metadata": {},
   "outputs": [],
   "source": []
  }
 ],
 "metadata": {
  "kernelspec": {
   "display_name": "warehouse_env",
   "language": "python",
   "name": "python3"
  },
  "language_info": {
   "codemirror_mode": {
    "name": "ipython",
    "version": 3
   },
   "file_extension": ".py",
   "mimetype": "text/x-python",
   "name": "python",
   "nbconvert_exporter": "python",
   "pygments_lexer": "ipython3",
   "version": "3.13.2"
  }
 },
 "nbformat": 4,
 "nbformat_minor": 2
}

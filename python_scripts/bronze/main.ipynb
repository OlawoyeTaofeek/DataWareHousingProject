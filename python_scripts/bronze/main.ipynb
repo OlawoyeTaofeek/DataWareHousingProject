{
 "cells": [
  {
   "cell_type": "code",
   "execution_count": 186,
   "metadata": {},
   "outputs": [
    {
     "data": {
      "application/vnd.microsoft.datawrangler.viewer.v0+json": {
       "columns": [
        {
         "name": "index",
         "rawType": "int64",
         "type": "integer"
        },
        {
         "name": "cst_id",
         "rawType": "float64",
         "type": "float"
        },
        {
         "name": "cst_key",
         "rawType": "object",
         "type": "string"
        },
        {
         "name": "cst_firstname",
         "rawType": "object",
         "type": "string"
        },
        {
         "name": "cst_lastname",
         "rawType": "object",
         "type": "string"
        },
        {
         "name": "cst_marital_status",
         "rawType": "object",
         "type": "string"
        },
        {
         "name": "cst_gndr",
         "rawType": "object",
         "type": "string"
        },
        {
         "name": "cst_create_date",
         "rawType": "object",
         "type": "string"
        }
       ],
       "conversionMethod": "pd.DataFrame",
       "ref": "87e7b577-73bc-4440-a57a-5490d7aab002",
       "rows": [
        [
         "0",
         "11000.0",
         "AW00011000",
         " Jon",
         "Yang ",
         "M",
         "M",
         "2025-10-06"
        ],
        [
         "1",
         "11001.0",
         "AW00011001",
         "Eugene",
         "Huang  ",
         "S",
         "M",
         "2025-10-06"
        ],
        [
         "2",
         "11002.0",
         "AW00011002",
         "Ruben",
         " Torres",
         "M",
         "M",
         "2025-10-06"
        ],
        [
         "3",
         "11003.0",
         "AW00011003",
         "Christy",
         "  Zhu",
         "S",
         "F",
         "2025-10-06"
        ],
        [
         "4",
         "11004.0",
         "AW00011004",
         " Elizabeth",
         "Johnson",
         "S",
         "F",
         "2025-10-06"
        ]
       ],
       "shape": {
        "columns": 7,
        "rows": 5
       }
      },
      "text/html": [
       "<div>\n",
       "<style scoped>\n",
       "    .dataframe tbody tr th:only-of-type {\n",
       "        vertical-align: middle;\n",
       "    }\n",
       "\n",
       "    .dataframe tbody tr th {\n",
       "        vertical-align: top;\n",
       "    }\n",
       "\n",
       "    .dataframe thead th {\n",
       "        text-align: right;\n",
       "    }\n",
       "</style>\n",
       "<table border=\"1\" class=\"dataframe\">\n",
       "  <thead>\n",
       "    <tr style=\"text-align: right;\">\n",
       "      <th></th>\n",
       "      <th>cst_id</th>\n",
       "      <th>cst_key</th>\n",
       "      <th>cst_firstname</th>\n",
       "      <th>cst_lastname</th>\n",
       "      <th>cst_marital_status</th>\n",
       "      <th>cst_gndr</th>\n",
       "      <th>cst_create_date</th>\n",
       "    </tr>\n",
       "  </thead>\n",
       "  <tbody>\n",
       "    <tr>\n",
       "      <th>0</th>\n",
       "      <td>11000.0</td>\n",
       "      <td>AW00011000</td>\n",
       "      <td>Jon</td>\n",
       "      <td>Yang</td>\n",
       "      <td>M</td>\n",
       "      <td>M</td>\n",
       "      <td>2025-10-06</td>\n",
       "    </tr>\n",
       "    <tr>\n",
       "      <th>1</th>\n",
       "      <td>11001.0</td>\n",
       "      <td>AW00011001</td>\n",
       "      <td>Eugene</td>\n",
       "      <td>Huang</td>\n",
       "      <td>S</td>\n",
       "      <td>M</td>\n",
       "      <td>2025-10-06</td>\n",
       "    </tr>\n",
       "    <tr>\n",
       "      <th>2</th>\n",
       "      <td>11002.0</td>\n",
       "      <td>AW00011002</td>\n",
       "      <td>Ruben</td>\n",
       "      <td>Torres</td>\n",
       "      <td>M</td>\n",
       "      <td>M</td>\n",
       "      <td>2025-10-06</td>\n",
       "    </tr>\n",
       "    <tr>\n",
       "      <th>3</th>\n",
       "      <td>11003.0</td>\n",
       "      <td>AW00011003</td>\n",
       "      <td>Christy</td>\n",
       "      <td>Zhu</td>\n",
       "      <td>S</td>\n",
       "      <td>F</td>\n",
       "      <td>2025-10-06</td>\n",
       "    </tr>\n",
       "    <tr>\n",
       "      <th>4</th>\n",
       "      <td>11004.0</td>\n",
       "      <td>AW00011004</td>\n",
       "      <td>Elizabeth</td>\n",
       "      <td>Johnson</td>\n",
       "      <td>S</td>\n",
       "      <td>F</td>\n",
       "      <td>2025-10-06</td>\n",
       "    </tr>\n",
       "  </tbody>\n",
       "</table>\n",
       "</div>"
      ],
      "text/plain": [
       "    cst_id     cst_key cst_firstname cst_lastname cst_marital_status cst_gndr  \\\n",
       "0  11000.0  AW00011000           Jon        Yang                   M        M   \n",
       "1  11001.0  AW00011001        Eugene      Huang                    S        M   \n",
       "2  11002.0  AW00011002         Ruben       Torres                  M        M   \n",
       "3  11003.0  AW00011003       Christy          Zhu                  S        F   \n",
       "4  11004.0  AW00011004     Elizabeth      Johnson                  S        F   \n",
       "\n",
       "  cst_create_date  \n",
       "0      2025-10-06  \n",
       "1      2025-10-06  \n",
       "2      2025-10-06  \n",
       "3      2025-10-06  \n",
       "4      2025-10-06  "
      ]
     },
     "execution_count": 186,
     "metadata": {},
     "output_type": "execute_result"
    }
   ],
   "source": [
    "import pandas as pd   \n",
    "import numpy as np\n",
    "\n",
    "# Load data\n",
    "cust_info = pd.read_csv(r\"C:\\Users\\user\\Desktop\\FullDataAnalyticsProject\\Datasets\\source_crm\\cust_info.csv\")\n",
    "cust_info.head()"
   ]
  },
  {
   "cell_type": "code",
   "execution_count": 187,
   "metadata": {},
   "outputs": [
    {
     "name": "stdout",
     "output_type": "stream",
     "text": [
      "<class 'pandas.core.frame.DataFrame'>\n",
      "RangeIndex: 18494 entries, 0 to 18493\n",
      "Data columns (total 7 columns):\n",
      " #   Column              Non-Null Count  Dtype  \n",
      "---  ------              --------------  -----  \n",
      " 0   cst_id              18490 non-null  float64\n",
      " 1   cst_key             18494 non-null  object \n",
      " 2   cst_firstname       18486 non-null  object \n",
      " 3   cst_lastname        18487 non-null  object \n",
      " 4   cst_marital_status  18487 non-null  object \n",
      " 5   cst_gndr            13916 non-null  object \n",
      " 6   cst_create_date     18490 non-null  object \n",
      "dtypes: float64(1), object(6)\n",
      "memory usage: 1011.5+ KB\n"
     ]
    }
   ],
   "source": [
    "## Data Inspections\n",
    "cust_info.info()"
   ]
  },
  {
   "cell_type": "code",
   "execution_count": 188,
   "metadata": {},
   "outputs": [
    {
     "data": {
      "text/plain": [
       "Index(['cst_id', 'cst_key', 'cst_firstname', 'cst_lastname',\n",
       "       'cst_marital_status', 'cst_gndr', 'cst_create_date'],\n",
       "      dtype='object')"
      ]
     },
     "execution_count": 188,
     "metadata": {},
     "output_type": "execute_result"
    }
   ],
   "source": [
    "cust_info.columns"
   ]
  },
  {
   "cell_type": "code",
   "execution_count": 189,
   "metadata": {},
   "outputs": [
    {
     "data": {
      "text/plain": [
       "cst_id                   4\n",
       "cst_key                  0\n",
       "cst_firstname            8\n",
       "cst_lastname             7\n",
       "cst_marital_status       7\n",
       "cst_gndr              4578\n",
       "cst_create_date          4\n",
       "dtype: int64"
      ]
     },
     "execution_count": 189,
     "metadata": {},
     "output_type": "execute_result"
    }
   ],
   "source": [
    "## Exploration for data problem detections\n",
    "cust_info.isna().sum()"
   ]
  },
  {
   "cell_type": "code",
   "execution_count": 190,
   "metadata": {},
   "outputs": [
    {
     "data": {
      "application/vnd.microsoft.datawrangler.viewer.v0+json": {
       "columns": [
        {
         "name": "index",
         "rawType": "int64",
         "type": "integer"
        },
        {
         "name": "cst_id",
         "rawType": "float64",
         "type": "float"
        },
        {
         "name": "cst_key",
         "rawType": "object",
         "type": "string"
        },
        {
         "name": "cst_firstname",
         "rawType": "object",
         "type": "unknown"
        },
        {
         "name": "cst_lastname",
         "rawType": "object",
         "type": "unknown"
        },
        {
         "name": "cst_marital_status",
         "rawType": "object",
         "type": "unknown"
        },
        {
         "name": "cst_gndr",
         "rawType": "object",
         "type": "unknown"
        },
        {
         "name": "cst_create_date",
         "rawType": "object",
         "type": "unknown"
        }
       ],
       "conversionMethod": "pd.DataFrame",
       "ref": "d3beace7-4b99-4d07-a9c9-cc485307ec31",
       "rows": [
        [
         "160",
         "11160.0",
         "AW00011160",
         "Maurice",
         "Tang",
         "S",
         null,
         "2025-10-07"
        ],
        [
         "161",
         "11161.0",
         "AW00011161",
         "Emily",
         "Wood",
         "S",
         null,
         "2025-10-07"
        ],
        [
         "162",
         "11162.0",
         "AW00011162",
         "Chase",
         "Cox",
         "S",
         null,
         "2025-10-07"
        ],
        [
         "163",
         "11163.0",
         "AW00011163",
         "Gabriel",
         "Wang",
         "M",
         null,
         "2025-10-07"
        ],
        [
         "164",
         "11164.0",
         "AW00011164",
         "Devin",
         "Brooks",
         "S",
         null,
         "2025-10-07"
        ],
        [
         "165",
         "11165.0",
         "AW00011165",
         "Jocelyn",
         "Alexander",
         "M",
         null,
         "2025-10-07"
        ],
        [
         "166",
         "11166.0",
         "AW00011166",
         "Ashley",
         "Martinez",
         "S",
         null,
         "2025-10-07"
        ],
        [
         "167",
         "11167.0",
         "AW00011167",
         "Jasmine",
         " Barnes",
         "S",
         null,
         "2025-10-07"
        ],
        [
         "168",
         "11168.0",
         "AW00011168",
         "David",
         " Rodriguez",
         "S",
         null,
         "2025-10-07"
        ],
        [
         "169",
         "11169.0",
         "AW00011169",
         "Bryce",
         "Richardson",
         "M",
         null,
         "2025-10-07"
        ],
        [
         "170",
         "11170.0",
         "AW00011170",
         "Carol",
         " Howard",
         "M",
         null,
         "2025-10-07"
        ],
        [
         "171",
         "11171.0",
         "AW00011171",
         "Jonathan",
         "Hill",
         "S",
         null,
         "2025-10-07"
        ],
        [
         "172",
         "11172.0",
         "AW00011172",
         "Gabrielle",
         "Adams",
         "M",
         null,
         "2025-10-07"
        ],
        [
         "173",
         "11173.0",
         "AW00011173",
         "Sarah",
         "Thomas",
         "S",
         null,
         "2025-10-07"
        ],
        [
         "174",
         "11174.0",
         "AW00011174",
         "Nicholas",
         "Robinson",
         "M",
         null,
         "2025-10-07"
        ],
        [
         "175",
         "11175.0",
         "AW00011175",
         "Luis",
         "Wang",
         "S",
         null,
         "2025-10-07"
        ],
        [
         "176",
         "11176.0",
         "AW00011176",
         "Mason",
         "Roberts",
         "M",
         null,
         "2025-10-07"
        ],
        [
         "177",
         "11177.0",
         "AW00011177",
         "Jose",
         "Flores",
         "M",
         null,
         "2025-10-07"
        ],
        [
         "178",
         "11178.0",
         "AW00011178",
         "Nathan",
         "Johnson",
         "M",
         null,
         "2025-10-07"
        ],
        [
         "179",
         "11179.0",
         "AW00011179",
         "Molly",
         "Rodriguez",
         "M",
         null,
         "2025-10-07"
        ],
        [
         "180",
         "11180.0",
         "AW00011180",
         "April",
         "Anand",
         "M",
         null,
         "2025-10-07"
        ],
        [
         "181",
         "11181.0",
         "AW00011181",
         "Devin",
         "Martin",
         "M",
         null,
         "2025-10-07"
        ],
        [
         "182",
         "11182.0",
         "AW00011182",
         "Stephanie",
         "Torres",
         "S",
         null,
         "2025-10-07"
        ],
        [
         "183",
         "11183.0",
         "AW00011183",
         "Jasmine",
         "Lee",
         "S",
         null,
         "2025-10-07"
        ],
        [
         "184",
         "11184.0",
         "AW00011184",
         "Meghan",
         "Hernandez",
         "S",
         null,
         "2025-10-07"
        ],
        [
         "185",
         "11185.0",
         "AW00011185",
         "Ashley",
         "Henderson",
         "S",
         null,
         "2025-10-07"
        ],
        [
         "186",
         "11186.0",
         "AW00011186",
         "Sarah",
         "Price",
         "S",
         null,
         "2025-10-07"
        ],
        [
         "187",
         "11187.0",
         "AW00011187",
         "Jennifer",
         "Cooper",
         "M",
         null,
         "2025-10-07"
        ],
        [
         "188",
         "11188.0",
         "AW00011188",
         "Catherine",
         "Morris",
         "M",
         null,
         "2025-10-07"
        ],
        [
         "189",
         "11189.0",
         "AW00011189",
         "Lawrence",
         "Blanco",
         "S",
         null,
         "2025-10-07"
        ],
        [
         "190",
         "11190.0",
         "AW00011190",
         "Carson",
         "Bryant",
         "M",
         null,
         "2025-10-07"
        ],
        [
         "191",
         "11191.0",
         "AW00011191",
         "Kristi",
         "Perez",
         "S",
         null,
         "2025-10-07"
        ],
        [
         "192",
         "11192.0",
         "AW00011192",
         "James",
         "Brown",
         "M",
         null,
         "2025-10-07"
        ],
        [
         "193",
         "11193.0",
         "AW00011193",
         "Ian",
         "Gray",
         "M",
         null,
         "2025-10-07"
        ],
        [
         "194",
         "11194.0",
         "AW00011194",
         "Jacqueline",
         "Price",
         "M",
         null,
         "2025-10-07"
        ],
        [
         "195",
         "11195.0",
         "AW00011195",
         "Megan",
         "Henderson",
         "M",
         null,
         "2025-10-07"
        ],
        [
         "196",
         "11196.0",
         "AW00011196",
         "Alfredo",
         "Romero",
         "M",
         null,
         "2025-10-07"
        ],
        [
         "197",
         "11197.0",
         "AW00011197",
         "Andrea",
         "Morris",
         "M",
         null,
         "2025-10-08"
        ],
        [
         "198",
         "11198.0",
         "AW00011198",
         "Brooke",
         "Sanders",
         "S",
         null,
         "2025-10-08"
        ],
        [
         "199",
         "11199.0",
         "AW00011199",
         "Jacqueline",
         "Bennett",
         "M",
         null,
         "2025-10-08"
        ],
        [
         "200",
         "11200.0",
         "AW00011200",
         "Jason",
         "Griffin",
         "M",
         null,
         "2025-10-08"
        ],
        [
         "201",
         "11201.0",
         "AW00011201",
         "Amanda",
         "Foster",
         "M",
         null,
         "2025-10-08"
        ],
        [
         "202",
         "11202.0",
         "AW00011202",
         "Alexia",
         "Price",
         "M",
         null,
         "2025-10-08"
        ],
        [
         "203",
         "11203.0",
         "AW00011203",
         "Luis",
         "Diaz",
         "M",
         null,
         "2025-10-08"
        ],
        [
         "204",
         "11204.0",
         "AW00011204",
         "Destiny",
         "Rivera",
         "M",
         null,
         "2025-10-08"
        ],
        [
         "205",
         "11205.0",
         "AW00011205",
         "Abby",
         "Fernandez",
         "M",
         null,
         "2025-10-08"
        ],
        [
         "206",
         "11206.0",
         "AW00011206",
         "Blake",
         " Flores ",
         "M",
         null,
         "2025-10-08"
        ],
        [
         "207",
         "11207.0",
         "AW00011207",
         "Danielle",
         "Cox",
         "S",
         null,
         "2025-10-08"
        ],
        [
         "208",
         "11208.0",
         "AW00011208",
         " Maria ",
         " Reed",
         "M",
         null,
         "2025-10-08"
        ],
        [
         "209",
         "11209.0",
         "AW00011209",
         " Allison ",
         "Evans",
         "M",
         null,
         "2025-10-08"
        ]
       ],
       "shape": {
        "columns": 7,
        "rows": 4579
       }
      },
      "text/html": [
       "<div>\n",
       "<style scoped>\n",
       "    .dataframe tbody tr th:only-of-type {\n",
       "        vertical-align: middle;\n",
       "    }\n",
       "\n",
       "    .dataframe tbody tr th {\n",
       "        vertical-align: top;\n",
       "    }\n",
       "\n",
       "    .dataframe thead th {\n",
       "        text-align: right;\n",
       "    }\n",
       "</style>\n",
       "<table border=\"1\" class=\"dataframe\">\n",
       "  <thead>\n",
       "    <tr style=\"text-align: right;\">\n",
       "      <th></th>\n",
       "      <th>cst_id</th>\n",
       "      <th>cst_key</th>\n",
       "      <th>cst_firstname</th>\n",
       "      <th>cst_lastname</th>\n",
       "      <th>cst_marital_status</th>\n",
       "      <th>cst_gndr</th>\n",
       "      <th>cst_create_date</th>\n",
       "    </tr>\n",
       "  </thead>\n",
       "  <tbody>\n",
       "    <tr>\n",
       "      <th>160</th>\n",
       "      <td>11160.0</td>\n",
       "      <td>AW00011160</td>\n",
       "      <td>Maurice</td>\n",
       "      <td>Tang</td>\n",
       "      <td>S</td>\n",
       "      <td>NaN</td>\n",
       "      <td>2025-10-07</td>\n",
       "    </tr>\n",
       "    <tr>\n",
       "      <th>161</th>\n",
       "      <td>11161.0</td>\n",
       "      <td>AW00011161</td>\n",
       "      <td>Emily</td>\n",
       "      <td>Wood</td>\n",
       "      <td>S</td>\n",
       "      <td>NaN</td>\n",
       "      <td>2025-10-07</td>\n",
       "    </tr>\n",
       "    <tr>\n",
       "      <th>162</th>\n",
       "      <td>11162.0</td>\n",
       "      <td>AW00011162</td>\n",
       "      <td>Chase</td>\n",
       "      <td>Cox</td>\n",
       "      <td>S</td>\n",
       "      <td>NaN</td>\n",
       "      <td>2025-10-07</td>\n",
       "    </tr>\n",
       "    <tr>\n",
       "      <th>163</th>\n",
       "      <td>11163.0</td>\n",
       "      <td>AW00011163</td>\n",
       "      <td>Gabriel</td>\n",
       "      <td>Wang</td>\n",
       "      <td>M</td>\n",
       "      <td>NaN</td>\n",
       "      <td>2025-10-07</td>\n",
       "    </tr>\n",
       "    <tr>\n",
       "      <th>164</th>\n",
       "      <td>11164.0</td>\n",
       "      <td>AW00011164</td>\n",
       "      <td>Devin</td>\n",
       "      <td>Brooks</td>\n",
       "      <td>S</td>\n",
       "      <td>NaN</td>\n",
       "      <td>2025-10-07</td>\n",
       "    </tr>\n",
       "    <tr>\n",
       "      <th>...</th>\n",
       "      <td>...</td>\n",
       "      <td>...</td>\n",
       "      <td>...</td>\n",
       "      <td>...</td>\n",
       "      <td>...</td>\n",
       "      <td>...</td>\n",
       "      <td>...</td>\n",
       "    </tr>\n",
       "    <tr>\n",
       "      <th>18489</th>\n",
       "      <td>29482.0</td>\n",
       "      <td>AW00029482</td>\n",
       "      <td>Clayton</td>\n",
       "      <td>Zhang</td>\n",
       "      <td>M</td>\n",
       "      <td>NaN</td>\n",
       "      <td>2026-01-25</td>\n",
       "    </tr>\n",
       "    <tr>\n",
       "      <th>18490</th>\n",
       "      <td>29483.0</td>\n",
       "      <td>AW00029483</td>\n",
       "      <td>NaN</td>\n",
       "      <td>Navarro</td>\n",
       "      <td>NaN</td>\n",
       "      <td>NaN</td>\n",
       "      <td>2026-01-25</td>\n",
       "    </tr>\n",
       "    <tr>\n",
       "      <th>18491</th>\n",
       "      <td>29483.0</td>\n",
       "      <td>AW00029483</td>\n",
       "      <td>Marc</td>\n",
       "      <td>Navarro</td>\n",
       "      <td>M</td>\n",
       "      <td>NaN</td>\n",
       "      <td>2026-01-27</td>\n",
       "    </tr>\n",
       "    <tr>\n",
       "      <th>18492</th>\n",
       "      <td>NaN</td>\n",
       "      <td>13451235</td>\n",
       "      <td>NaN</td>\n",
       "      <td>NaN</td>\n",
       "      <td>NaN</td>\n",
       "      <td>NaN</td>\n",
       "      <td>NaN</td>\n",
       "    </tr>\n",
       "    <tr>\n",
       "      <th>18493</th>\n",
       "      <td>NaN</td>\n",
       "      <td>A01Ass</td>\n",
       "      <td>NaN</td>\n",
       "      <td>NaN</td>\n",
       "      <td>NaN</td>\n",
       "      <td>NaN</td>\n",
       "      <td>NaN</td>\n",
       "    </tr>\n",
       "  </tbody>\n",
       "</table>\n",
       "<p>4579 rows × 7 columns</p>\n",
       "</div>"
      ],
      "text/plain": [
       "        cst_id     cst_key cst_firstname cst_lastname cst_marital_status  \\\n",
       "160    11160.0  AW00011160       Maurice         Tang                  S   \n",
       "161    11161.0  AW00011161         Emily         Wood                  S   \n",
       "162    11162.0  AW00011162         Chase          Cox                  S   \n",
       "163    11163.0  AW00011163       Gabriel         Wang                  M   \n",
       "164    11164.0  AW00011164         Devin       Brooks                  S   \n",
       "...        ...         ...           ...          ...                ...   \n",
       "18489  29482.0  AW00029482       Clayton        Zhang                  M   \n",
       "18490  29483.0  AW00029483           NaN      Navarro                NaN   \n",
       "18491  29483.0  AW00029483          Marc      Navarro                  M   \n",
       "18492      NaN    13451235           NaN          NaN                NaN   \n",
       "18493      NaN      A01Ass           NaN          NaN                NaN   \n",
       "\n",
       "      cst_gndr cst_create_date  \n",
       "160        NaN      2025-10-07  \n",
       "161        NaN      2025-10-07  \n",
       "162        NaN      2025-10-07  \n",
       "163        NaN      2025-10-07  \n",
       "164        NaN      2025-10-07  \n",
       "...        ...             ...  \n",
       "18489      NaN      2026-01-25  \n",
       "18490      NaN      2026-01-25  \n",
       "18491      NaN      2026-01-27  \n",
       "18492      NaN             NaN  \n",
       "18493      NaN             NaN  \n",
       "\n",
       "[4579 rows x 7 columns]"
      ]
     },
     "execution_count": 190,
     "metadata": {},
     "output_type": "execute_result"
    }
   ],
   "source": [
    "# Extract rows with missing values\n",
    "missing_rows = cust_info[cust_info.isnull().any(axis=1)]\n",
    "\n",
    "missing_rows"
   ]
  },
  {
   "cell_type": "code",
   "execution_count": 191,
   "metadata": {},
   "outputs": [
    {
     "name": "stdout",
     "output_type": "stream",
     "text": [
      "['M' 'S' nan]\n"
     ]
    }
   ],
   "source": [
    "print(cust_info['cst_marital_status'].unique())"
   ]
  },
  {
   "cell_type": "code",
   "execution_count": 192,
   "metadata": {},
   "outputs": [
    {
     "data": {
      "application/vnd.microsoft.datawrangler.viewer.v0+json": {
       "columns": [
        {
         "name": "index",
         "rawType": "int64",
         "type": "integer"
        },
        {
         "name": "cst_id",
         "rawType": "float64",
         "type": "float"
        },
        {
         "name": "cst_key",
         "rawType": "object",
         "type": "string"
        },
        {
         "name": "cst_firstname",
         "rawType": "object",
         "type": "unknown"
        },
        {
         "name": "cst_lastname",
         "rawType": "object",
         "type": "unknown"
        },
        {
         "name": "cst_marital_status",
         "rawType": "object",
         "type": "unknown"
        },
        {
         "name": "cst_gndr",
         "rawType": "object",
         "type": "unknown"
        },
        {
         "name": "cst_create_date",
         "rawType": "object",
         "type": "unknown"
        }
       ],
       "conversionMethod": "pd.DataFrame",
       "ref": "4a45d8d2-5bce-4bb6-b524-42e00c21fc26",
       "rows": [
        [
         "18446",
         null,
         "SF566",
         null,
         null,
         null,
         null,
         null
        ],
        [
         "18469",
         "29466.0",
         "AW00029466",
         null,
         null,
         null,
         null,
         "2026-01-25"
        ],
        [
         "18478",
         "29473.0",
         "AW00029473",
         "Carmen",
         null,
         null,
         null,
         "2026-01-25"
        ],
        [
         "18482",
         null,
         "PO25",
         null,
         null,
         null,
         null,
         null
        ],
        [
         "18490",
         "29483.0",
         "AW00029483",
         null,
         "Navarro",
         null,
         null,
         "2026-01-25"
        ],
        [
         "18492",
         null,
         "13451235",
         null,
         null,
         null,
         null,
         null
        ],
        [
         "18493",
         null,
         "A01Ass",
         null,
         null,
         null,
         null,
         null
        ]
       ],
       "shape": {
        "columns": 7,
        "rows": 7
       }
      },
      "text/html": [
       "<div>\n",
       "<style scoped>\n",
       "    .dataframe tbody tr th:only-of-type {\n",
       "        vertical-align: middle;\n",
       "    }\n",
       "\n",
       "    .dataframe tbody tr th {\n",
       "        vertical-align: top;\n",
       "    }\n",
       "\n",
       "    .dataframe thead th {\n",
       "        text-align: right;\n",
       "    }\n",
       "</style>\n",
       "<table border=\"1\" class=\"dataframe\">\n",
       "  <thead>\n",
       "    <tr style=\"text-align: right;\">\n",
       "      <th></th>\n",
       "      <th>cst_id</th>\n",
       "      <th>cst_key</th>\n",
       "      <th>cst_firstname</th>\n",
       "      <th>cst_lastname</th>\n",
       "      <th>cst_marital_status</th>\n",
       "      <th>cst_gndr</th>\n",
       "      <th>cst_create_date</th>\n",
       "    </tr>\n",
       "  </thead>\n",
       "  <tbody>\n",
       "    <tr>\n",
       "      <th>18446</th>\n",
       "      <td>NaN</td>\n",
       "      <td>SF566</td>\n",
       "      <td>NaN</td>\n",
       "      <td>NaN</td>\n",
       "      <td>NaN</td>\n",
       "      <td>NaN</td>\n",
       "      <td>NaN</td>\n",
       "    </tr>\n",
       "    <tr>\n",
       "      <th>18469</th>\n",
       "      <td>29466.0</td>\n",
       "      <td>AW00029466</td>\n",
       "      <td>NaN</td>\n",
       "      <td>NaN</td>\n",
       "      <td>NaN</td>\n",
       "      <td>NaN</td>\n",
       "      <td>2026-01-25</td>\n",
       "    </tr>\n",
       "    <tr>\n",
       "      <th>18478</th>\n",
       "      <td>29473.0</td>\n",
       "      <td>AW00029473</td>\n",
       "      <td>Carmen</td>\n",
       "      <td>NaN</td>\n",
       "      <td>NaN</td>\n",
       "      <td>NaN</td>\n",
       "      <td>2026-01-25</td>\n",
       "    </tr>\n",
       "    <tr>\n",
       "      <th>18482</th>\n",
       "      <td>NaN</td>\n",
       "      <td>PO25</td>\n",
       "      <td>NaN</td>\n",
       "      <td>NaN</td>\n",
       "      <td>NaN</td>\n",
       "      <td>NaN</td>\n",
       "      <td>NaN</td>\n",
       "    </tr>\n",
       "    <tr>\n",
       "      <th>18490</th>\n",
       "      <td>29483.0</td>\n",
       "      <td>AW00029483</td>\n",
       "      <td>NaN</td>\n",
       "      <td>Navarro</td>\n",
       "      <td>NaN</td>\n",
       "      <td>NaN</td>\n",
       "      <td>2026-01-25</td>\n",
       "    </tr>\n",
       "    <tr>\n",
       "      <th>18492</th>\n",
       "      <td>NaN</td>\n",
       "      <td>13451235</td>\n",
       "      <td>NaN</td>\n",
       "      <td>NaN</td>\n",
       "      <td>NaN</td>\n",
       "      <td>NaN</td>\n",
       "      <td>NaN</td>\n",
       "    </tr>\n",
       "    <tr>\n",
       "      <th>18493</th>\n",
       "      <td>NaN</td>\n",
       "      <td>A01Ass</td>\n",
       "      <td>NaN</td>\n",
       "      <td>NaN</td>\n",
       "      <td>NaN</td>\n",
       "      <td>NaN</td>\n",
       "      <td>NaN</td>\n",
       "    </tr>\n",
       "  </tbody>\n",
       "</table>\n",
       "</div>"
      ],
      "text/plain": [
       "        cst_id     cst_key cst_firstname cst_lastname cst_marital_status  \\\n",
       "18446      NaN       SF566           NaN          NaN                NaN   \n",
       "18469  29466.0  AW00029466           NaN          NaN                NaN   \n",
       "18478  29473.0  AW00029473        Carmen          NaN                NaN   \n",
       "18482      NaN        PO25           NaN          NaN                NaN   \n",
       "18490  29483.0  AW00029483           NaN      Navarro                NaN   \n",
       "18492      NaN    13451235           NaN          NaN                NaN   \n",
       "18493      NaN      A01Ass           NaN          NaN                NaN   \n",
       "\n",
       "      cst_gndr cst_create_date  \n",
       "18446      NaN             NaN  \n",
       "18469      NaN      2026-01-25  \n",
       "18478      NaN      2026-01-25  \n",
       "18482      NaN             NaN  \n",
       "18490      NaN      2026-01-25  \n",
       "18492      NaN             NaN  \n",
       "18493      NaN             NaN  "
      ]
     },
     "execution_count": 192,
     "metadata": {},
     "output_type": "execute_result"
    }
   ],
   "source": [
    "cust_info[cust_info['cst_marital_status'].isna()]"
   ]
  },
  {
   "cell_type": "code",
   "execution_count": 193,
   "metadata": {},
   "outputs": [
    {
     "data": {
      "application/vnd.microsoft.datawrangler.viewer.v0+json": {
       "columns": [
        {
         "name": "index",
         "rawType": "int64",
         "type": "integer"
        },
        {
         "name": "cst_id",
         "rawType": "float64",
         "type": "float"
        },
        {
         "name": "cst_key",
         "rawType": "object",
         "type": "string"
        },
        {
         "name": "cst_firstname",
         "rawType": "object",
         "type": "unknown"
        },
        {
         "name": "cst_lastname",
         "rawType": "object",
         "type": "unknown"
        },
        {
         "name": "cst_marital_status",
         "rawType": "object",
         "type": "unknown"
        },
        {
         "name": "cst_gndr",
         "rawType": "object",
         "type": "unknown"
        },
        {
         "name": "cst_create_date",
         "rawType": "object",
         "type": "unknown"
        }
       ],
       "conversionMethod": "pd.DataFrame",
       "ref": "85cf9cfb-b402-48e1-89f6-5527f268fbf6",
       "rows": [
        [
         "18482",
         null,
         "PO25",
         null,
         null,
         null,
         null,
         null
        ],
        [
         "18492",
         null,
         "13451235",
         null,
         null,
         null,
         null,
         null
        ],
        [
         "18493",
         null,
         "A01Ass",
         null,
         null,
         null,
         null,
         null
        ]
       ],
       "shape": {
        "columns": 7,
        "rows": 3
       }
      },
      "text/html": [
       "<div>\n",
       "<style scoped>\n",
       "    .dataframe tbody tr th:only-of-type {\n",
       "        vertical-align: middle;\n",
       "    }\n",
       "\n",
       "    .dataframe tbody tr th {\n",
       "        vertical-align: top;\n",
       "    }\n",
       "\n",
       "    .dataframe thead th {\n",
       "        text-align: right;\n",
       "    }\n",
       "</style>\n",
       "<table border=\"1\" class=\"dataframe\">\n",
       "  <thead>\n",
       "    <tr style=\"text-align: right;\">\n",
       "      <th></th>\n",
       "      <th>cst_id</th>\n",
       "      <th>cst_key</th>\n",
       "      <th>cst_firstname</th>\n",
       "      <th>cst_lastname</th>\n",
       "      <th>cst_marital_status</th>\n",
       "      <th>cst_gndr</th>\n",
       "      <th>cst_create_date</th>\n",
       "    </tr>\n",
       "  </thead>\n",
       "  <tbody>\n",
       "    <tr>\n",
       "      <th>18482</th>\n",
       "      <td>NaN</td>\n",
       "      <td>PO25</td>\n",
       "      <td>NaN</td>\n",
       "      <td>NaN</td>\n",
       "      <td>NaN</td>\n",
       "      <td>NaN</td>\n",
       "      <td>NaN</td>\n",
       "    </tr>\n",
       "    <tr>\n",
       "      <th>18492</th>\n",
       "      <td>NaN</td>\n",
       "      <td>13451235</td>\n",
       "      <td>NaN</td>\n",
       "      <td>NaN</td>\n",
       "      <td>NaN</td>\n",
       "      <td>NaN</td>\n",
       "      <td>NaN</td>\n",
       "    </tr>\n",
       "    <tr>\n",
       "      <th>18493</th>\n",
       "      <td>NaN</td>\n",
       "      <td>A01Ass</td>\n",
       "      <td>NaN</td>\n",
       "      <td>NaN</td>\n",
       "      <td>NaN</td>\n",
       "      <td>NaN</td>\n",
       "      <td>NaN</td>\n",
       "    </tr>\n",
       "  </tbody>\n",
       "</table>\n",
       "</div>"
      ],
      "text/plain": [
       "       cst_id   cst_key cst_firstname cst_lastname cst_marital_status  \\\n",
       "18482     NaN      PO25           NaN          NaN                NaN   \n",
       "18492     NaN  13451235           NaN          NaN                NaN   \n",
       "18493     NaN    A01Ass           NaN          NaN                NaN   \n",
       "\n",
       "      cst_gndr cst_create_date  \n",
       "18482      NaN             NaN  \n",
       "18492      NaN             NaN  \n",
       "18493      NaN             NaN  "
      ]
     },
     "execution_count": 193,
     "metadata": {},
     "output_type": "execute_result"
    }
   ],
   "source": [
    "# Notice 1: Check for null value and duplicates\n",
    "cust_info[cust_info['cst_id'].isna() & cust_info['cst_id'].duplicated()]"
   ]
  },
  {
   "cell_type": "code",
   "execution_count": 194,
   "metadata": {},
   "outputs": [
    {
     "data": {
      "application/vnd.microsoft.datawrangler.viewer.v0+json": {
       "columns": [
        {
         "name": "index",
         "rawType": "int64",
         "type": "integer"
        },
        {
         "name": "cst_id",
         "rawType": "float64",
         "type": "float"
        },
        {
         "name": "Number_of_duplicates",
         "rawType": "int64",
         "type": "integer"
        }
       ],
       "conversionMethod": "pd.DataFrame",
       "ref": "095cf5a3-cfa8-4013-a93f-549267642447",
       "rows": [
        [
         "18433",
         "29433.0",
         "2"
        ],
        [
         "18449",
         "29449.0",
         "2"
        ],
        [
         "18466",
         "29466.0",
         "3"
        ],
        [
         "18473",
         "29473.0",
         "2"
        ],
        [
         "18483",
         "29483.0",
         "2"
        ]
       ],
       "shape": {
        "columns": 2,
        "rows": 5
       }
      },
      "text/html": [
       "<div>\n",
       "<style scoped>\n",
       "    .dataframe tbody tr th:only-of-type {\n",
       "        vertical-align: middle;\n",
       "    }\n",
       "\n",
       "    .dataframe tbody tr th {\n",
       "        vertical-align: top;\n",
       "    }\n",
       "\n",
       "    .dataframe thead th {\n",
       "        text-align: right;\n",
       "    }\n",
       "</style>\n",
       "<table border=\"1\" class=\"dataframe\">\n",
       "  <thead>\n",
       "    <tr style=\"text-align: right;\">\n",
       "      <th></th>\n",
       "      <th>cst_id</th>\n",
       "      <th>Number_of_duplicates</th>\n",
       "    </tr>\n",
       "  </thead>\n",
       "  <tbody>\n",
       "    <tr>\n",
       "      <th>18433</th>\n",
       "      <td>29433.0</td>\n",
       "      <td>2</td>\n",
       "    </tr>\n",
       "    <tr>\n",
       "      <th>18449</th>\n",
       "      <td>29449.0</td>\n",
       "      <td>2</td>\n",
       "    </tr>\n",
       "    <tr>\n",
       "      <th>18466</th>\n",
       "      <td>29466.0</td>\n",
       "      <td>3</td>\n",
       "    </tr>\n",
       "    <tr>\n",
       "      <th>18473</th>\n",
       "      <td>29473.0</td>\n",
       "      <td>2</td>\n",
       "    </tr>\n",
       "    <tr>\n",
       "      <th>18483</th>\n",
       "      <td>29483.0</td>\n",
       "      <td>2</td>\n",
       "    </tr>\n",
       "  </tbody>\n",
       "</table>\n",
       "</div>"
      ],
      "text/plain": [
       "        cst_id  Number_of_duplicates\n",
       "18433  29433.0                     2\n",
       "18449  29449.0                     2\n",
       "18466  29466.0                     3\n",
       "18473  29473.0                     2\n",
       "18483  29483.0                     2"
      ]
     },
     "execution_count": 194,
     "metadata": {},
     "output_type": "execute_result"
    }
   ],
   "source": [
    "# Group by 'cst_id' and count occurrences\n",
    "duplicates = cust_info.groupby('cst_id').size().reset_index(name='Number_of_duplicates')\n",
    "\n",
    "# Filter for duplicates (count > 1) OR where 'cst_id' is NaN\n",
    "duplicates_filtered = duplicates[(duplicates['Number_of_duplicates'] > 1) | (duplicates['cst_id'].isna())]\n",
    "\n",
    "duplicates_filtered"
   ]
  },
  {
   "cell_type": "code",
   "execution_count": 195,
   "metadata": {},
   "outputs": [],
   "source": [
    "# Group by 'cst_id' and count occurrences, keeping NaN values\n",
    "duplicates = cust_info.groupby('cst_id', dropna=False).size().reset_index(name='Number_of_duplicates')\n",
    "\n",
    "# Filter for duplicates (count > 1) OR where 'cst_id' is NaN\n",
    "duplicates_filtered = duplicates[duplicates['Number_of_duplicates'] > 1]"
   ]
  },
  {
   "cell_type": "code",
   "execution_count": 196,
   "metadata": {},
   "outputs": [
    {
     "data": {
      "application/vnd.microsoft.datawrangler.viewer.v0+json": {
       "columns": [
        {
         "name": "index",
         "rawType": "int64",
         "type": "integer"
        },
        {
         "name": "cst_id",
         "rawType": "float64",
         "type": "float"
        },
        {
         "name": "Number_of_duplicates",
         "rawType": "int64",
         "type": "integer"
        }
       ],
       "conversionMethod": "pd.DataFrame",
       "ref": "2a09c8fa-e3bc-46f7-8f0e-aab8b94ccd89",
       "rows": [
        [
         "18433",
         "29433.0",
         "2"
        ],
        [
         "18449",
         "29449.0",
         "2"
        ],
        [
         "18466",
         "29466.0",
         "3"
        ],
        [
         "18473",
         "29473.0",
         "2"
        ],
        [
         "18483",
         "29483.0",
         "2"
        ],
        [
         "18484",
         null,
         "4"
        ]
       ],
       "shape": {
        "columns": 2,
        "rows": 6
       }
      },
      "text/html": [
       "<div>\n",
       "<style scoped>\n",
       "    .dataframe tbody tr th:only-of-type {\n",
       "        vertical-align: middle;\n",
       "    }\n",
       "\n",
       "    .dataframe tbody tr th {\n",
       "        vertical-align: top;\n",
       "    }\n",
       "\n",
       "    .dataframe thead th {\n",
       "        text-align: right;\n",
       "    }\n",
       "</style>\n",
       "<table border=\"1\" class=\"dataframe\">\n",
       "  <thead>\n",
       "    <tr style=\"text-align: right;\">\n",
       "      <th></th>\n",
       "      <th>cst_id</th>\n",
       "      <th>Number_of_duplicates</th>\n",
       "    </tr>\n",
       "  </thead>\n",
       "  <tbody>\n",
       "    <tr>\n",
       "      <th>18433</th>\n",
       "      <td>29433.0</td>\n",
       "      <td>2</td>\n",
       "    </tr>\n",
       "    <tr>\n",
       "      <th>18449</th>\n",
       "      <td>29449.0</td>\n",
       "      <td>2</td>\n",
       "    </tr>\n",
       "    <tr>\n",
       "      <th>18466</th>\n",
       "      <td>29466.0</td>\n",
       "      <td>3</td>\n",
       "    </tr>\n",
       "    <tr>\n",
       "      <th>18473</th>\n",
       "      <td>29473.0</td>\n",
       "      <td>2</td>\n",
       "    </tr>\n",
       "    <tr>\n",
       "      <th>18483</th>\n",
       "      <td>29483.0</td>\n",
       "      <td>2</td>\n",
       "    </tr>\n",
       "    <tr>\n",
       "      <th>18484</th>\n",
       "      <td>NaN</td>\n",
       "      <td>4</td>\n",
       "    </tr>\n",
       "  </tbody>\n",
       "</table>\n",
       "</div>"
      ],
      "text/plain": [
       "        cst_id  Number_of_duplicates\n",
       "18433  29433.0                     2\n",
       "18449  29449.0                     2\n",
       "18466  29466.0                     3\n",
       "18473  29473.0                     2\n",
       "18483  29483.0                     2\n",
       "18484      NaN                     4"
      ]
     },
     "execution_count": 196,
     "metadata": {},
     "output_type": "execute_result"
    }
   ],
   "source": [
    "duplicates_filtered"
   ]
  },
  {
   "cell_type": "markdown",
   "metadata": {},
   "source": [
    "- There are duplicated rows in the cust_info for the id, and 4 missing rows"
   ]
  },
  {
   "cell_type": "code",
   "execution_count": 197,
   "metadata": {},
   "outputs": [
    {
     "data": {
      "application/vnd.microsoft.datawrangler.viewer.v0+json": {
       "columns": [
        {
         "name": "index",
         "rawType": "int64",
         "type": "integer"
        },
        {
         "name": "cst_id",
         "rawType": "float64",
         "type": "float"
        },
        {
         "name": "cst_key",
         "rawType": "object",
         "type": "string"
        },
        {
         "name": "cst_firstname",
         "rawType": "object",
         "type": "unknown"
        },
        {
         "name": "cst_lastname",
         "rawType": "object",
         "type": "unknown"
        },
        {
         "name": "cst_marital_status",
         "rawType": "object",
         "type": "unknown"
        },
        {
         "name": "cst_gndr",
         "rawType": "object",
         "type": "unknown"
        },
        {
         "name": "cst_create_date",
         "rawType": "object",
         "type": "string"
        }
       ],
       "conversionMethod": "pd.DataFrame",
       "ref": "5d33292e-ee29-4ea2-ba53-6670fb86ec0d",
       "rows": [
        [
         "18469",
         "29466.0",
         "AW00029466",
         null,
         null,
         null,
         null,
         "2026-01-25"
        ],
        [
         "18470",
         "29466.0",
         "AW00029466",
         "Lance",
         "Jimenez",
         "M",
         null,
         "2026-01-26"
        ],
        [
         "18471",
         "29466.0",
         "AW00029466",
         "Lance",
         "Jimenez",
         "M",
         "M",
         "2026-01-27"
        ]
       ],
       "shape": {
        "columns": 7,
        "rows": 3
       }
      },
      "text/html": [
       "<div>\n",
       "<style scoped>\n",
       "    .dataframe tbody tr th:only-of-type {\n",
       "        vertical-align: middle;\n",
       "    }\n",
       "\n",
       "    .dataframe tbody tr th {\n",
       "        vertical-align: top;\n",
       "    }\n",
       "\n",
       "    .dataframe thead th {\n",
       "        text-align: right;\n",
       "    }\n",
       "</style>\n",
       "<table border=\"1\" class=\"dataframe\">\n",
       "  <thead>\n",
       "    <tr style=\"text-align: right;\">\n",
       "      <th></th>\n",
       "      <th>cst_id</th>\n",
       "      <th>cst_key</th>\n",
       "      <th>cst_firstname</th>\n",
       "      <th>cst_lastname</th>\n",
       "      <th>cst_marital_status</th>\n",
       "      <th>cst_gndr</th>\n",
       "      <th>cst_create_date</th>\n",
       "    </tr>\n",
       "  </thead>\n",
       "  <tbody>\n",
       "    <tr>\n",
       "      <th>18469</th>\n",
       "      <td>29466.0</td>\n",
       "      <td>AW00029466</td>\n",
       "      <td>NaN</td>\n",
       "      <td>NaN</td>\n",
       "      <td>NaN</td>\n",
       "      <td>NaN</td>\n",
       "      <td>2026-01-25</td>\n",
       "    </tr>\n",
       "    <tr>\n",
       "      <th>18470</th>\n",
       "      <td>29466.0</td>\n",
       "      <td>AW00029466</td>\n",
       "      <td>Lance</td>\n",
       "      <td>Jimenez</td>\n",
       "      <td>M</td>\n",
       "      <td>NaN</td>\n",
       "      <td>2026-01-26</td>\n",
       "    </tr>\n",
       "    <tr>\n",
       "      <th>18471</th>\n",
       "      <td>29466.0</td>\n",
       "      <td>AW00029466</td>\n",
       "      <td>Lance</td>\n",
       "      <td>Jimenez</td>\n",
       "      <td>M</td>\n",
       "      <td>M</td>\n",
       "      <td>2026-01-27</td>\n",
       "    </tr>\n",
       "  </tbody>\n",
       "</table>\n",
       "</div>"
      ],
      "text/plain": [
       "        cst_id     cst_key cst_firstname cst_lastname cst_marital_status  \\\n",
       "18469  29466.0  AW00029466           NaN          NaN                NaN   \n",
       "18470  29466.0  AW00029466         Lance      Jimenez                  M   \n",
       "18471  29466.0  AW00029466         Lance      Jimenez                  M   \n",
       "\n",
       "      cst_gndr cst_create_date  \n",
       "18469      NaN      2026-01-25  \n",
       "18470      NaN      2026-01-26  \n",
       "18471        M      2026-01-27  "
      ]
     },
     "execution_count": 197,
     "metadata": {},
     "output_type": "execute_result"
    }
   ],
   "source": [
    "cust_info[cust_info['cst_id'] == 29466]"
   ]
  },
  {
   "cell_type": "code",
   "execution_count": 198,
   "metadata": {},
   "outputs": [
    {
     "data": {
      "application/vnd.microsoft.datawrangler.viewer.v0+json": {
       "columns": [
        {
         "name": "index",
         "rawType": "int64",
         "type": "integer"
        },
        {
         "name": "cst_id",
         "rawType": "float64",
         "type": "float"
        },
        {
         "name": "cst_key",
         "rawType": "object",
         "type": "string"
        },
        {
         "name": "cst_firstname",
         "rawType": "object",
         "type": "unknown"
        },
        {
         "name": "cst_lastname",
         "rawType": "object",
         "type": "unknown"
        },
        {
         "name": "cst_marital_status",
         "rawType": "object",
         "type": "string"
        },
        {
         "name": "cst_gndr",
         "rawType": "object",
         "type": "string"
        },
        {
         "name": "cst_create_date",
         "rawType": "object",
         "type": "string"
        }
       ],
       "conversionMethod": "pd.DataFrame",
       "ref": "8dafdee3-60c4-4295-ab59-6e979f0e800c",
       "rows": [
        [
         "18433",
         "29433.0",
         "AW00029433",
         null,
         null,
         "M",
         "M",
         "2026-01-25"
        ],
        [
         "18434",
         "29433.0",
         "AW00029433",
         "Thomas",
         "King",
         "M",
         "M",
         "2026-01-27"
        ]
       ],
       "shape": {
        "columns": 7,
        "rows": 2
       }
      },
      "text/html": [
       "<div>\n",
       "<style scoped>\n",
       "    .dataframe tbody tr th:only-of-type {\n",
       "        vertical-align: middle;\n",
       "    }\n",
       "\n",
       "    .dataframe tbody tr th {\n",
       "        vertical-align: top;\n",
       "    }\n",
       "\n",
       "    .dataframe thead th {\n",
       "        text-align: right;\n",
       "    }\n",
       "</style>\n",
       "<table border=\"1\" class=\"dataframe\">\n",
       "  <thead>\n",
       "    <tr style=\"text-align: right;\">\n",
       "      <th></th>\n",
       "      <th>cst_id</th>\n",
       "      <th>cst_key</th>\n",
       "      <th>cst_firstname</th>\n",
       "      <th>cst_lastname</th>\n",
       "      <th>cst_marital_status</th>\n",
       "      <th>cst_gndr</th>\n",
       "      <th>cst_create_date</th>\n",
       "    </tr>\n",
       "  </thead>\n",
       "  <tbody>\n",
       "    <tr>\n",
       "      <th>18433</th>\n",
       "      <td>29433.0</td>\n",
       "      <td>AW00029433</td>\n",
       "      <td>NaN</td>\n",
       "      <td>NaN</td>\n",
       "      <td>M</td>\n",
       "      <td>M</td>\n",
       "      <td>2026-01-25</td>\n",
       "    </tr>\n",
       "    <tr>\n",
       "      <th>18434</th>\n",
       "      <td>29433.0</td>\n",
       "      <td>AW00029433</td>\n",
       "      <td>Thomas</td>\n",
       "      <td>King</td>\n",
       "      <td>M</td>\n",
       "      <td>M</td>\n",
       "      <td>2026-01-27</td>\n",
       "    </tr>\n",
       "  </tbody>\n",
       "</table>\n",
       "</div>"
      ],
      "text/plain": [
       "        cst_id     cst_key cst_firstname cst_lastname cst_marital_status  \\\n",
       "18433  29433.0  AW00029433           NaN          NaN                  M   \n",
       "18434  29433.0  AW00029433        Thomas         King                  M   \n",
       "\n",
       "      cst_gndr cst_create_date  \n",
       "18433        M      2026-01-25  \n",
       "18434        M      2026-01-27  "
      ]
     },
     "execution_count": 198,
     "metadata": {},
     "output_type": "execute_result"
    }
   ],
   "source": [
    "cust_info[cust_info['cst_id'] == 29433]"
   ]
  },
  {
   "cell_type": "markdown",
   "metadata": {},
   "source": [
    "- So we are only going to be taking one of the duplicate for 29466 which is the latest one"
   ]
  },
  {
   "cell_type": "code",
   "execution_count": 199,
   "metadata": {},
   "outputs": [],
   "source": [
    "import warnings\n",
    "warnings.filterwarnings(\"ignore\")"
   ]
  },
  {
   "cell_type": "code",
   "execution_count": 200,
   "metadata": {},
   "outputs": [],
   "source": [
    "df_29466 = cust_info[cust_info['cst_id'] == 29466]\n",
    "df_29466['cst_create_date'] = pd.to_datetime(df_29466['cst_create_date'], format='%Y-%m-%d').dt.date\n",
    "df_29466['latest_ranking'] = df_29466.groupby('cst_id')['cst_create_date'].rank(method='first', ascending=False)"
   ]
  },
  {
   "cell_type": "code",
   "execution_count": 201,
   "metadata": {},
   "outputs": [],
   "source": [
    "df_29466 = df_29466.sort_values(by='cst_create_date', ascending=False)"
   ]
  },
  {
   "cell_type": "code",
   "execution_count": 202,
   "metadata": {},
   "outputs": [
    {
     "data": {
      "application/vnd.microsoft.datawrangler.viewer.v0+json": {
       "columns": [
        {
         "name": "index",
         "rawType": "int64",
         "type": "integer"
        },
        {
         "name": "cst_id",
         "rawType": "float64",
         "type": "float"
        },
        {
         "name": "cst_key",
         "rawType": "object",
         "type": "string"
        },
        {
         "name": "cst_firstname",
         "rawType": "object",
         "type": "unknown"
        },
        {
         "name": "cst_lastname",
         "rawType": "object",
         "type": "unknown"
        },
        {
         "name": "cst_marital_status",
         "rawType": "object",
         "type": "unknown"
        },
        {
         "name": "cst_gndr",
         "rawType": "object",
         "type": "unknown"
        },
        {
         "name": "cst_create_date",
         "rawType": "object",
         "type": "unknown"
        },
        {
         "name": "latest_ranking",
         "rawType": "float64",
         "type": "float"
        }
       ],
       "conversionMethod": "pd.DataFrame",
       "ref": "11969087-247a-40ce-a84f-958290c4c3b9",
       "rows": [
        [
         "18471",
         "29466.0",
         "AW00029466",
         "Lance",
         "Jimenez",
         "M",
         "M",
         "2026-01-27",
         "1.0"
        ],
        [
         "18470",
         "29466.0",
         "AW00029466",
         "Lance",
         "Jimenez",
         "M",
         null,
         "2026-01-26",
         "2.0"
        ],
        [
         "18469",
         "29466.0",
         "AW00029466",
         null,
         null,
         null,
         null,
         "2026-01-25",
         "3.0"
        ]
       ],
       "shape": {
        "columns": 8,
        "rows": 3
       }
      },
      "text/html": [
       "<div>\n",
       "<style scoped>\n",
       "    .dataframe tbody tr th:only-of-type {\n",
       "        vertical-align: middle;\n",
       "    }\n",
       "\n",
       "    .dataframe tbody tr th {\n",
       "        vertical-align: top;\n",
       "    }\n",
       "\n",
       "    .dataframe thead th {\n",
       "        text-align: right;\n",
       "    }\n",
       "</style>\n",
       "<table border=\"1\" class=\"dataframe\">\n",
       "  <thead>\n",
       "    <tr style=\"text-align: right;\">\n",
       "      <th></th>\n",
       "      <th>cst_id</th>\n",
       "      <th>cst_key</th>\n",
       "      <th>cst_firstname</th>\n",
       "      <th>cst_lastname</th>\n",
       "      <th>cst_marital_status</th>\n",
       "      <th>cst_gndr</th>\n",
       "      <th>cst_create_date</th>\n",
       "      <th>latest_ranking</th>\n",
       "    </tr>\n",
       "  </thead>\n",
       "  <tbody>\n",
       "    <tr>\n",
       "      <th>18471</th>\n",
       "      <td>29466.0</td>\n",
       "      <td>AW00029466</td>\n",
       "      <td>Lance</td>\n",
       "      <td>Jimenez</td>\n",
       "      <td>M</td>\n",
       "      <td>M</td>\n",
       "      <td>2026-01-27</td>\n",
       "      <td>1.0</td>\n",
       "    </tr>\n",
       "    <tr>\n",
       "      <th>18470</th>\n",
       "      <td>29466.0</td>\n",
       "      <td>AW00029466</td>\n",
       "      <td>Lance</td>\n",
       "      <td>Jimenez</td>\n",
       "      <td>M</td>\n",
       "      <td>NaN</td>\n",
       "      <td>2026-01-26</td>\n",
       "      <td>2.0</td>\n",
       "    </tr>\n",
       "    <tr>\n",
       "      <th>18469</th>\n",
       "      <td>29466.0</td>\n",
       "      <td>AW00029466</td>\n",
       "      <td>NaN</td>\n",
       "      <td>NaN</td>\n",
       "      <td>NaN</td>\n",
       "      <td>NaN</td>\n",
       "      <td>2026-01-25</td>\n",
       "      <td>3.0</td>\n",
       "    </tr>\n",
       "  </tbody>\n",
       "</table>\n",
       "</div>"
      ],
      "text/plain": [
       "        cst_id     cst_key cst_firstname cst_lastname cst_marital_status  \\\n",
       "18471  29466.0  AW00029466         Lance      Jimenez                  M   \n",
       "18470  29466.0  AW00029466         Lance      Jimenez                  M   \n",
       "18469  29466.0  AW00029466           NaN          NaN                NaN   \n",
       "\n",
       "      cst_gndr cst_create_date  latest_ranking  \n",
       "18471        M      2026-01-27             1.0  \n",
       "18470      NaN      2026-01-26             2.0  \n",
       "18469      NaN      2026-01-25             3.0  "
      ]
     },
     "execution_count": 202,
     "metadata": {},
     "output_type": "execute_result"
    }
   ],
   "source": [
    "df_29466"
   ]
  },
  {
   "cell_type": "markdown",
   "metadata": {},
   "source": [
    "- So we are only going to be taking one of the duplicate for 29466 which is the latest one"
   ]
  },
  {
   "cell_type": "code",
   "execution_count": 203,
   "metadata": {},
   "outputs": [],
   "source": [
    "df = cust_info.copy()"
   ]
  },
  {
   "cell_type": "code",
   "execution_count": 204,
   "metadata": {},
   "outputs": [
    {
     "data": {
      "application/vnd.microsoft.datawrangler.viewer.v0+json": {
       "columns": [
        {
         "name": "index",
         "rawType": "int64",
         "type": "integer"
        },
        {
         "name": "cst_id",
         "rawType": "float64",
         "type": "float"
        },
        {
         "name": "cst_key",
         "rawType": "object",
         "type": "string"
        },
        {
         "name": "cst_firstname",
         "rawType": "object",
         "type": "unknown"
        },
        {
         "name": "cst_lastname",
         "rawType": "object",
         "type": "unknown"
        },
        {
         "name": "cst_marital_status",
         "rawType": "object",
         "type": "unknown"
        },
        {
         "name": "cst_gndr",
         "rawType": "object",
         "type": "unknown"
        },
        {
         "name": "cst_create_date",
         "rawType": "object",
         "type": "unknown"
        },
        {
         "name": "latest_ranking",
         "rawType": "float64",
         "type": "float"
        }
       ],
       "conversionMethod": "pd.DataFrame",
       "ref": "c8574a1c-0666-4798-aa38-878a170bb4bb",
       "rows": [
        [
         "0",
         "11000.0",
         "AW00011000",
         " Jon",
         "Yang ",
         "M",
         "M",
         "2025-10-06",
         "1.0"
        ],
        [
         "1",
         "11001.0",
         "AW00011001",
         "Eugene",
         "Huang  ",
         "S",
         "M",
         "2025-10-06",
         "1.0"
        ],
        [
         "2",
         "11002.0",
         "AW00011002",
         "Ruben",
         " Torres",
         "M",
         "M",
         "2025-10-06",
         "1.0"
        ],
        [
         "3",
         "11003.0",
         "AW00011003",
         "Christy",
         "  Zhu",
         "S",
         "F",
         "2025-10-06",
         "1.0"
        ],
        [
         "4",
         "11004.0",
         "AW00011004",
         " Elizabeth",
         "Johnson",
         "S",
         "F",
         "2025-10-06",
         "1.0"
        ],
        [
         "5",
         "11005.0",
         "AW00011005",
         "Julio",
         "Ruiz",
         "S",
         "M",
         "2025-10-06",
         "1.0"
        ],
        [
         "6",
         "11006.0",
         "AW00011006",
         "Janet",
         "Alvarez",
         "S",
         "F",
         "2025-10-06",
         "1.0"
        ],
        [
         "7",
         "11007.0",
         "AW00011007",
         "Marco",
         "Mehta",
         "M",
         "M",
         "2025-10-06",
         "1.0"
        ],
        [
         "8",
         "11008.0",
         "AW00011008",
         "Rob",
         "Verhoff",
         "S",
         "F",
         "2025-10-06",
         "1.0"
        ],
        [
         "9",
         "11009.0",
         "AW00011009",
         "Shannon",
         "Carlson",
         "S",
         "M",
         "2025-10-06",
         "1.0"
        ],
        [
         "10",
         "11010.0",
         "AW00011010",
         "Jacquelyn",
         "Suarez",
         "S",
         "F",
         "2025-10-06",
         "1.0"
        ],
        [
         "11",
         "11011.0",
         "AW00011011",
         "Curtis",
         "Lu",
         "M",
         "M",
         "2025-10-06",
         "1.0"
        ],
        [
         "12",
         "11012.0",
         "AW00011012",
         "  Lauren",
         " Walker",
         "M",
         "F",
         "2025-10-06",
         "1.0"
        ],
        [
         "13",
         "11013.0",
         "AW00011013",
         " Ian ",
         " Jenkins ",
         "M",
         "M",
         "2025-10-06",
         "1.0"
        ],
        [
         "14",
         "11014.0",
         "AW00011014",
         "Sydney",
         "Bennett",
         "S",
         "F",
         "2025-10-06",
         "1.0"
        ],
        [
         "15",
         "11015.0",
         "AW00011015",
         "  Chloe",
         "Young",
         "S",
         "F",
         "2025-10-06",
         "1.0"
        ],
        [
         "16",
         "11016.0",
         "AW00011016",
         "Wyatt",
         "Hill",
         "M",
         "M",
         "2025-10-07",
         "1.0"
        ],
        [
         "17",
         "11017.0",
         "AW00011017",
         "Shannon",
         "Wang",
         "S",
         "F",
         "2025-10-07",
         "1.0"
        ],
        [
         "18",
         "11018.0",
         "AW00011018",
         "Clarence",
         "Rai",
         "S",
         "M",
         "2025-10-07",
         "1.0"
        ],
        [
         "19",
         "11019.0",
         "AW00011019",
         "Luke",
         "Lal",
         "S",
         "M",
         "2025-10-07",
         "1.0"
        ],
        [
         "20",
         "11020.0",
         "AW00011020",
         "Jordan",
         "King",
         "S",
         "M",
         "2025-10-07",
         "1.0"
        ],
        [
         "21",
         "11021.0",
         "AW00011021",
         " Destiny",
         "Wilson ",
         "S",
         "F",
         "2025-10-07",
         "1.0"
        ],
        [
         "22",
         "11022.0",
         "AW00011022",
         "Ethan",
         "Zhang",
         "M",
         "M",
         "2025-10-07",
         "1.0"
        ],
        [
         "23",
         "11023.0",
         "AW00011023",
         "Seth",
         "Edwards",
         "M",
         "M",
         "2025-10-07",
         "1.0"
        ],
        [
         "24",
         "11024.0",
         "AW00011024",
         "Russell",
         "Xie",
         "M",
         "M",
         "2025-10-07",
         "1.0"
        ],
        [
         "25",
         "11025.0",
         "AW00011025",
         "Alejandro",
         "Beck",
         "M",
         "M",
         "2025-10-07",
         "1.0"
        ],
        [
         "26",
         "11026.0",
         "AW00011026",
         "Harold",
         "Sai",
         "S",
         "M",
         "2025-10-07",
         "1.0"
        ],
        [
         "27",
         "11027.0",
         "AW00011027",
         "Jessie",
         "Zhao",
         "M",
         "M",
         "2025-10-07",
         "1.0"
        ],
        [
         "28",
         "11028.0",
         "AW00011028",
         "Jill",
         "Jimenez",
         "M",
         "F",
         "2025-10-07",
         "1.0"
        ],
        [
         "29",
         "11029.0",
         "AW00011029",
         "Jimmy",
         "Moreno",
         "M",
         "M",
         "2025-10-07",
         "1.0"
        ],
        [
         "30",
         "11030.0",
         "AW00011030",
         "Bethany",
         "Yuan",
         "M",
         "F",
         "2025-10-07",
         "1.0"
        ],
        [
         "31",
         "11031.0",
         "AW00011031",
         "Theresa",
         "Ramos",
         "M",
         "F",
         "2025-10-07",
         "1.0"
        ],
        [
         "32",
         "11032.0",
         "AW00011032",
         "Denise",
         "Stone",
         "M",
         "F",
         "2025-10-07",
         "1.0"
        ],
        [
         "33",
         "11033.0",
         "AW00011033",
         "Jaime",
         "Nath",
         "M",
         "M",
         "2025-10-07",
         "1.0"
        ],
        [
         "34",
         "11034.0",
         "AW00011034",
         "Ebony",
         "Gonzalez",
         "M",
         "F",
         "2025-10-07",
         "1.0"
        ],
        [
         "35",
         "11035.0",
         "AW00011035",
         "Wendy",
         "Dominguez",
         "M",
         "F",
         "2025-10-07",
         "1.0"
        ],
        [
         "36",
         "11036.0",
         "AW00011036",
         "Jennifer",
         "Russell",
         "M",
         "F",
         "2025-10-07",
         "1.0"
        ],
        [
         "37",
         "11037.0",
         "AW00011037",
         "Chloe",
         "Garcia",
         "S",
         "F",
         "2025-10-07",
         "1.0"
        ],
        [
         "38",
         "11038.0",
         "AW00011038",
         "Diana",
         "Hernandez",
         "M",
         "F",
         "2025-10-07",
         "1.0"
        ],
        [
         "39",
         "11039.0",
         "AW00011039",
         "Marc",
         "Martin",
         "M",
         "M",
         "2025-10-07",
         "1.0"
        ],
        [
         "40",
         "11040.0",
         "AW00011040",
         "Jesse",
         "Murphy",
         "M",
         "M",
         "2025-10-07",
         "1.0"
        ],
        [
         "41",
         "11041.0",
         "AW00011041",
         "Amanda",
         "Carter",
         "M",
         "F",
         "2025-10-07",
         "1.0"
        ],
        [
         "42",
         "11042.0",
         "AW00011042",
         "Megan",
         "Sanchez",
         "M",
         "F",
         "2025-10-07",
         "1.0"
        ],
        [
         "43",
         "11043.0",
         "AW00011043",
         "Nathan",
         "Simmons",
         "M",
         "M",
         "2025-10-07",
         "1.0"
        ],
        [
         "44",
         "11044.0",
         "AW00011044",
         "Adam",
         "Flores",
         "M",
         "M",
         "2025-10-07",
         "1.0"
        ],
        [
         "45",
         "11045.0",
         "AW00011045",
         "Leonard",
         "Nara",
         "S",
         "M",
         "2025-10-07",
         "1.0"
        ],
        [
         "46",
         "11046.0",
         "AW00011046",
         "Christine",
         "Yuan",
         "M",
         "F",
         "2025-10-07",
         "1.0"
        ],
        [
         "47",
         "11047.0",
         "AW00011047",
         "Jaclyn",
         "Lu",
         "M",
         "F",
         "2025-10-07",
         "1.0"
        ],
        [
         "48",
         "11048.0",
         "AW00011048",
         "Jeremy",
         "Powell",
         "M",
         "M",
         "2025-10-07",
         "1.0"
        ],
        [
         "49",
         "11049.0",
         "AW00011049",
         "Carol",
         "Rai",
         "S",
         "F",
         "2025-10-07",
         "1.0"
        ]
       ],
       "shape": {
        "columns": 8,
        "rows": 18494
       }
      },
      "text/html": [
       "<div>\n",
       "<style scoped>\n",
       "    .dataframe tbody tr th:only-of-type {\n",
       "        vertical-align: middle;\n",
       "    }\n",
       "\n",
       "    .dataframe tbody tr th {\n",
       "        vertical-align: top;\n",
       "    }\n",
       "\n",
       "    .dataframe thead th {\n",
       "        text-align: right;\n",
       "    }\n",
       "</style>\n",
       "<table border=\"1\" class=\"dataframe\">\n",
       "  <thead>\n",
       "    <tr style=\"text-align: right;\">\n",
       "      <th></th>\n",
       "      <th>cst_id</th>\n",
       "      <th>cst_key</th>\n",
       "      <th>cst_firstname</th>\n",
       "      <th>cst_lastname</th>\n",
       "      <th>cst_marital_status</th>\n",
       "      <th>cst_gndr</th>\n",
       "      <th>cst_create_date</th>\n",
       "      <th>latest_ranking</th>\n",
       "    </tr>\n",
       "  </thead>\n",
       "  <tbody>\n",
       "    <tr>\n",
       "      <th>0</th>\n",
       "      <td>11000.0</td>\n",
       "      <td>AW00011000</td>\n",
       "      <td>Jon</td>\n",
       "      <td>Yang</td>\n",
       "      <td>M</td>\n",
       "      <td>M</td>\n",
       "      <td>2025-10-06</td>\n",
       "      <td>1.0</td>\n",
       "    </tr>\n",
       "    <tr>\n",
       "      <th>1</th>\n",
       "      <td>11001.0</td>\n",
       "      <td>AW00011001</td>\n",
       "      <td>Eugene</td>\n",
       "      <td>Huang</td>\n",
       "      <td>S</td>\n",
       "      <td>M</td>\n",
       "      <td>2025-10-06</td>\n",
       "      <td>1.0</td>\n",
       "    </tr>\n",
       "    <tr>\n",
       "      <th>2</th>\n",
       "      <td>11002.0</td>\n",
       "      <td>AW00011002</td>\n",
       "      <td>Ruben</td>\n",
       "      <td>Torres</td>\n",
       "      <td>M</td>\n",
       "      <td>M</td>\n",
       "      <td>2025-10-06</td>\n",
       "      <td>1.0</td>\n",
       "    </tr>\n",
       "    <tr>\n",
       "      <th>3</th>\n",
       "      <td>11003.0</td>\n",
       "      <td>AW00011003</td>\n",
       "      <td>Christy</td>\n",
       "      <td>Zhu</td>\n",
       "      <td>S</td>\n",
       "      <td>F</td>\n",
       "      <td>2025-10-06</td>\n",
       "      <td>1.0</td>\n",
       "    </tr>\n",
       "    <tr>\n",
       "      <th>4</th>\n",
       "      <td>11004.0</td>\n",
       "      <td>AW00011004</td>\n",
       "      <td>Elizabeth</td>\n",
       "      <td>Johnson</td>\n",
       "      <td>S</td>\n",
       "      <td>F</td>\n",
       "      <td>2025-10-06</td>\n",
       "      <td>1.0</td>\n",
       "    </tr>\n",
       "    <tr>\n",
       "      <th>...</th>\n",
       "      <td>...</td>\n",
       "      <td>...</td>\n",
       "      <td>...</td>\n",
       "      <td>...</td>\n",
       "      <td>...</td>\n",
       "      <td>...</td>\n",
       "      <td>...</td>\n",
       "      <td>...</td>\n",
       "    </tr>\n",
       "    <tr>\n",
       "      <th>18489</th>\n",
       "      <td>29482.0</td>\n",
       "      <td>AW00029482</td>\n",
       "      <td>Clayton</td>\n",
       "      <td>Zhang</td>\n",
       "      <td>M</td>\n",
       "      <td>NaN</td>\n",
       "      <td>2026-01-25</td>\n",
       "      <td>1.0</td>\n",
       "    </tr>\n",
       "    <tr>\n",
       "      <th>18490</th>\n",
       "      <td>29483.0</td>\n",
       "      <td>AW00029483</td>\n",
       "      <td>NaN</td>\n",
       "      <td>Navarro</td>\n",
       "      <td>NaN</td>\n",
       "      <td>NaN</td>\n",
       "      <td>2026-01-25</td>\n",
       "      <td>2.0</td>\n",
       "    </tr>\n",
       "    <tr>\n",
       "      <th>18491</th>\n",
       "      <td>29483.0</td>\n",
       "      <td>AW00029483</td>\n",
       "      <td>Marc</td>\n",
       "      <td>Navarro</td>\n",
       "      <td>M</td>\n",
       "      <td>NaN</td>\n",
       "      <td>2026-01-27</td>\n",
       "      <td>1.0</td>\n",
       "    </tr>\n",
       "    <tr>\n",
       "      <th>18492</th>\n",
       "      <td>NaN</td>\n",
       "      <td>13451235</td>\n",
       "      <td>NaN</td>\n",
       "      <td>NaN</td>\n",
       "      <td>NaN</td>\n",
       "      <td>NaN</td>\n",
       "      <td>NaT</td>\n",
       "      <td>NaN</td>\n",
       "    </tr>\n",
       "    <tr>\n",
       "      <th>18493</th>\n",
       "      <td>NaN</td>\n",
       "      <td>A01Ass</td>\n",
       "      <td>NaN</td>\n",
       "      <td>NaN</td>\n",
       "      <td>NaN</td>\n",
       "      <td>NaN</td>\n",
       "      <td>NaT</td>\n",
       "      <td>NaN</td>\n",
       "    </tr>\n",
       "  </tbody>\n",
       "</table>\n",
       "<p>18494 rows × 8 columns</p>\n",
       "</div>"
      ],
      "text/plain": [
       "        cst_id     cst_key cst_firstname cst_lastname cst_marital_status  \\\n",
       "0      11000.0  AW00011000           Jon        Yang                   M   \n",
       "1      11001.0  AW00011001        Eugene      Huang                    S   \n",
       "2      11002.0  AW00011002         Ruben       Torres                  M   \n",
       "3      11003.0  AW00011003       Christy          Zhu                  S   \n",
       "4      11004.0  AW00011004     Elizabeth      Johnson                  S   \n",
       "...        ...         ...           ...          ...                ...   \n",
       "18489  29482.0  AW00029482       Clayton        Zhang                  M   \n",
       "18490  29483.0  AW00029483           NaN      Navarro                NaN   \n",
       "18491  29483.0  AW00029483          Marc      Navarro                  M   \n",
       "18492      NaN    13451235           NaN          NaN                NaN   \n",
       "18493      NaN      A01Ass           NaN          NaN                NaN   \n",
       "\n",
       "      cst_gndr cst_create_date  latest_ranking  \n",
       "0            M      2025-10-06             1.0  \n",
       "1            M      2025-10-06             1.0  \n",
       "2            M      2025-10-06             1.0  \n",
       "3            F      2025-10-06             1.0  \n",
       "4            F      2025-10-06             1.0  \n",
       "...        ...             ...             ...  \n",
       "18489      NaN      2026-01-25             1.0  \n",
       "18490      NaN      2026-01-25             2.0  \n",
       "18491      NaN      2026-01-27             1.0  \n",
       "18492      NaN             NaT             NaN  \n",
       "18493      NaN             NaT             NaN  \n",
       "\n",
       "[18494 rows x 8 columns]"
      ]
     },
     "execution_count": 204,
     "metadata": {},
     "output_type": "execute_result"
    }
   ],
   "source": [
    "df['cst_create_date'] = pd.to_datetime(df['cst_create_date'], format='%Y-%m-%d').dt.date\n",
    "df['latest_ranking'] = df.groupby('cst_id')['cst_create_date'].rank(method='first', ascending=False)\n",
    "df"
   ]
  },
  {
   "cell_type": "code",
   "execution_count": 205,
   "metadata": {},
   "outputs": [
    {
     "data": {
      "application/vnd.microsoft.datawrangler.viewer.v0+json": {
       "columns": [
        {
         "name": "index",
         "rawType": "int64",
         "type": "integer"
        },
        {
         "name": "cst_id",
         "rawType": "float64",
         "type": "float"
        },
        {
         "name": "cst_key",
         "rawType": "object",
         "type": "string"
        },
        {
         "name": "cst_firstname",
         "rawType": "object",
         "type": "string"
        },
        {
         "name": "cst_lastname",
         "rawType": "object",
         "type": "string"
        },
        {
         "name": "cst_marital_status",
         "rawType": "object",
         "type": "string"
        },
        {
         "name": "cst_gndr",
         "rawType": "object",
         "type": "string"
        },
        {
         "name": "cst_create_date",
         "rawType": "object",
         "type": "unknown"
        },
        {
         "name": "latest_ranking",
         "rawType": "float64",
         "type": "float"
        }
       ],
       "conversionMethod": "pd.DataFrame",
       "ref": "e3d18755-76d7-42a4-8336-bd6a79ed9289",
       "rows": [
        [
         "18471",
         "29466.0",
         "AW00029466",
         "Lance",
         "Jimenez",
         "M",
         "M",
         "2026-01-27",
         "1.0"
        ]
       ],
       "shape": {
        "columns": 8,
        "rows": 1
       }
      },
      "text/html": [
       "<div>\n",
       "<style scoped>\n",
       "    .dataframe tbody tr th:only-of-type {\n",
       "        vertical-align: middle;\n",
       "    }\n",
       "\n",
       "    .dataframe tbody tr th {\n",
       "        vertical-align: top;\n",
       "    }\n",
       "\n",
       "    .dataframe thead th {\n",
       "        text-align: right;\n",
       "    }\n",
       "</style>\n",
       "<table border=\"1\" class=\"dataframe\">\n",
       "  <thead>\n",
       "    <tr style=\"text-align: right;\">\n",
       "      <th></th>\n",
       "      <th>cst_id</th>\n",
       "      <th>cst_key</th>\n",
       "      <th>cst_firstname</th>\n",
       "      <th>cst_lastname</th>\n",
       "      <th>cst_marital_status</th>\n",
       "      <th>cst_gndr</th>\n",
       "      <th>cst_create_date</th>\n",
       "      <th>latest_ranking</th>\n",
       "    </tr>\n",
       "  </thead>\n",
       "  <tbody>\n",
       "    <tr>\n",
       "      <th>18471</th>\n",
       "      <td>29466.0</td>\n",
       "      <td>AW00029466</td>\n",
       "      <td>Lance</td>\n",
       "      <td>Jimenez</td>\n",
       "      <td>M</td>\n",
       "      <td>M</td>\n",
       "      <td>2026-01-27</td>\n",
       "      <td>1.0</td>\n",
       "    </tr>\n",
       "  </tbody>\n",
       "</table>\n",
       "</div>"
      ],
      "text/plain": [
       "        cst_id     cst_key cst_firstname cst_lastname cst_marital_status  \\\n",
       "18471  29466.0  AW00029466         Lance      Jimenez                  M   \n",
       "\n",
       "      cst_gndr cst_create_date  latest_ranking  \n",
       "18471        M      2026-01-27             1.0  "
      ]
     },
     "execution_count": 205,
     "metadata": {},
     "output_type": "execute_result"
    }
   ],
   "source": [
    "df['cst_create_date'] = pd.to_datetime(df['cst_create_date'], format='%Y-%m-%d').dt.date\n",
    "df['latest_ranking'] = df.groupby('cst_id')['cst_create_date'].rank(method='first', ascending=False)\n",
    "df[(df['cst_id'] == 29466) & (df['latest_ranking'] == 1)]"
   ]
  },
  {
   "cell_type": "code",
   "execution_count": 206,
   "metadata": {},
   "outputs": [
    {
     "name": "stdout",
     "output_type": "stream",
     "text": [
      "(18494, 7)\n"
     ]
    }
   ],
   "source": [
    "print(cust_info.shape)"
   ]
  },
  {
   "cell_type": "code",
   "execution_count": 207,
   "metadata": {},
   "outputs": [
    {
     "name": "stdout",
     "output_type": "stream",
     "text": [
      "(18484, 8)\n"
     ]
    }
   ],
   "source": [
    "print(df[df['latest_ranking'] == 1].shape)"
   ]
  },
  {
   "cell_type": "code",
   "execution_count": 208,
   "metadata": {},
   "outputs": [
    {
     "name": "stdout",
     "output_type": "stream",
     "text": [
      "(18484, 7)\n"
     ]
    }
   ],
   "source": [
    "new_df = df[df['latest_ranking'] == 1].iloc[0:, 0:-1]\n",
    "print(new_df.shape)"
   ]
  },
  {
   "cell_type": "code",
   "execution_count": 209,
   "metadata": {},
   "outputs": [
    {
     "data": {
      "application/vnd.microsoft.datawrangler.viewer.v0+json": {
       "columns": [
        {
         "name": "index",
         "rawType": "int64",
         "type": "integer"
        },
        {
         "name": "cst_id",
         "rawType": "float64",
         "type": "float"
        },
        {
         "name": "cst_key",
         "rawType": "object",
         "type": "string"
        },
        {
         "name": "cst_firstname",
         "rawType": "object",
         "type": "string"
        },
        {
         "name": "cst_lastname",
         "rawType": "object",
         "type": "string"
        },
        {
         "name": "cst_marital_status",
         "rawType": "object",
         "type": "string"
        },
        {
         "name": "cst_gndr",
         "rawType": "object",
         "type": "string"
        },
        {
         "name": "cst_create_date",
         "rawType": "object",
         "type": "unknown"
        }
       ],
       "conversionMethod": "pd.DataFrame",
       "ref": "426c0eb1-141f-4eda-8002-dbe746ecf9b3",
       "rows": [
        [
         "0",
         "11000.0",
         "AW00011000",
         " Jon",
         "Yang ",
         "M",
         "M",
         "2025-10-06"
        ],
        [
         "1",
         "11001.0",
         "AW00011001",
         "Eugene",
         "Huang  ",
         "S",
         "M",
         "2025-10-06"
        ],
        [
         "2",
         "11002.0",
         "AW00011002",
         "Ruben",
         " Torres",
         "M",
         "M",
         "2025-10-06"
        ],
        [
         "3",
         "11003.0",
         "AW00011003",
         "Christy",
         "  Zhu",
         "S",
         "F",
         "2025-10-06"
        ],
        [
         "4",
         "11004.0",
         "AW00011004",
         " Elizabeth",
         "Johnson",
         "S",
         "F",
         "2025-10-06"
        ]
       ],
       "shape": {
        "columns": 7,
        "rows": 5
       }
      },
      "text/html": [
       "<div>\n",
       "<style scoped>\n",
       "    .dataframe tbody tr th:only-of-type {\n",
       "        vertical-align: middle;\n",
       "    }\n",
       "\n",
       "    .dataframe tbody tr th {\n",
       "        vertical-align: top;\n",
       "    }\n",
       "\n",
       "    .dataframe thead th {\n",
       "        text-align: right;\n",
       "    }\n",
       "</style>\n",
       "<table border=\"1\" class=\"dataframe\">\n",
       "  <thead>\n",
       "    <tr style=\"text-align: right;\">\n",
       "      <th></th>\n",
       "      <th>cst_id</th>\n",
       "      <th>cst_key</th>\n",
       "      <th>cst_firstname</th>\n",
       "      <th>cst_lastname</th>\n",
       "      <th>cst_marital_status</th>\n",
       "      <th>cst_gndr</th>\n",
       "      <th>cst_create_date</th>\n",
       "    </tr>\n",
       "  </thead>\n",
       "  <tbody>\n",
       "    <tr>\n",
       "      <th>0</th>\n",
       "      <td>11000.0</td>\n",
       "      <td>AW00011000</td>\n",
       "      <td>Jon</td>\n",
       "      <td>Yang</td>\n",
       "      <td>M</td>\n",
       "      <td>M</td>\n",
       "      <td>2025-10-06</td>\n",
       "    </tr>\n",
       "    <tr>\n",
       "      <th>1</th>\n",
       "      <td>11001.0</td>\n",
       "      <td>AW00011001</td>\n",
       "      <td>Eugene</td>\n",
       "      <td>Huang</td>\n",
       "      <td>S</td>\n",
       "      <td>M</td>\n",
       "      <td>2025-10-06</td>\n",
       "    </tr>\n",
       "    <tr>\n",
       "      <th>2</th>\n",
       "      <td>11002.0</td>\n",
       "      <td>AW00011002</td>\n",
       "      <td>Ruben</td>\n",
       "      <td>Torres</td>\n",
       "      <td>M</td>\n",
       "      <td>M</td>\n",
       "      <td>2025-10-06</td>\n",
       "    </tr>\n",
       "    <tr>\n",
       "      <th>3</th>\n",
       "      <td>11003.0</td>\n",
       "      <td>AW00011003</td>\n",
       "      <td>Christy</td>\n",
       "      <td>Zhu</td>\n",
       "      <td>S</td>\n",
       "      <td>F</td>\n",
       "      <td>2025-10-06</td>\n",
       "    </tr>\n",
       "    <tr>\n",
       "      <th>4</th>\n",
       "      <td>11004.0</td>\n",
       "      <td>AW00011004</td>\n",
       "      <td>Elizabeth</td>\n",
       "      <td>Johnson</td>\n",
       "      <td>S</td>\n",
       "      <td>F</td>\n",
       "      <td>2025-10-06</td>\n",
       "    </tr>\n",
       "  </tbody>\n",
       "</table>\n",
       "</div>"
      ],
      "text/plain": [
       "    cst_id     cst_key cst_firstname cst_lastname cst_marital_status cst_gndr  \\\n",
       "0  11000.0  AW00011000           Jon        Yang                   M        M   \n",
       "1  11001.0  AW00011001        Eugene      Huang                    S        M   \n",
       "2  11002.0  AW00011002         Ruben       Torres                  M        M   \n",
       "3  11003.0  AW00011003       Christy          Zhu                  S        F   \n",
       "4  11004.0  AW00011004     Elizabeth      Johnson                  S        F   \n",
       "\n",
       "  cst_create_date  \n",
       "0      2025-10-06  \n",
       "1      2025-10-06  \n",
       "2      2025-10-06  \n",
       "3      2025-10-06  \n",
       "4      2025-10-06  "
      ]
     },
     "execution_count": 209,
     "metadata": {},
     "output_type": "execute_result"
    }
   ],
   "source": [
    "new_df.head()"
   ]
  },
  {
   "cell_type": "code",
   "execution_count": 210,
   "metadata": {},
   "outputs": [
    {
     "data": {
      "application/vnd.microsoft.datawrangler.viewer.v0+json": {
       "columns": [
        {
         "name": "index",
         "rawType": "int64",
         "type": "integer"
        },
        {
         "name": "cst_id",
         "rawType": "float64",
         "type": "float"
        },
        {
         "name": "cst_key",
         "rawType": "object",
         "type": "string"
        },
        {
         "name": "cst_firstname",
         "rawType": "object",
         "type": "string"
        },
        {
         "name": "cst_lastname",
         "rawType": "object",
         "type": "string"
        },
        {
         "name": "cst_marital_status",
         "rawType": "object",
         "type": "string"
        },
        {
         "name": "cst_gndr",
         "rawType": "object",
         "type": "string"
        },
        {
         "name": "cst_create_date",
         "rawType": "object",
         "type": "unknown"
        }
       ],
       "conversionMethod": "pd.DataFrame",
       "ref": "ae58db4e-1fb4-4f4e-be5e-93c9250f16c1",
       "rows": [
        [
         "18434",
         "29433.0",
         "AW00029433",
         "Thomas",
         "King",
         "M",
         "M",
         "2026-01-27"
        ]
       ],
       "shape": {
        "columns": 7,
        "rows": 1
       }
      },
      "text/html": [
       "<div>\n",
       "<style scoped>\n",
       "    .dataframe tbody tr th:only-of-type {\n",
       "        vertical-align: middle;\n",
       "    }\n",
       "\n",
       "    .dataframe tbody tr th {\n",
       "        vertical-align: top;\n",
       "    }\n",
       "\n",
       "    .dataframe thead th {\n",
       "        text-align: right;\n",
       "    }\n",
       "</style>\n",
       "<table border=\"1\" class=\"dataframe\">\n",
       "  <thead>\n",
       "    <tr style=\"text-align: right;\">\n",
       "      <th></th>\n",
       "      <th>cst_id</th>\n",
       "      <th>cst_key</th>\n",
       "      <th>cst_firstname</th>\n",
       "      <th>cst_lastname</th>\n",
       "      <th>cst_marital_status</th>\n",
       "      <th>cst_gndr</th>\n",
       "      <th>cst_create_date</th>\n",
       "    </tr>\n",
       "  </thead>\n",
       "  <tbody>\n",
       "    <tr>\n",
       "      <th>18434</th>\n",
       "      <td>29433.0</td>\n",
       "      <td>AW00029433</td>\n",
       "      <td>Thomas</td>\n",
       "      <td>King</td>\n",
       "      <td>M</td>\n",
       "      <td>M</td>\n",
       "      <td>2026-01-27</td>\n",
       "    </tr>\n",
       "  </tbody>\n",
       "</table>\n",
       "</div>"
      ],
      "text/plain": [
       "        cst_id     cst_key cst_firstname cst_lastname cst_marital_status  \\\n",
       "18434  29433.0  AW00029433        Thomas         King                  M   \n",
       "\n",
       "      cst_gndr cst_create_date  \n",
       "18434        M      2026-01-27  "
      ]
     },
     "execution_count": 210,
     "metadata": {},
     "output_type": "execute_result"
    }
   ],
   "source": [
    "new_df[new_df['cst_id'] == 29433]"
   ]
  },
  {
   "cell_type": "code",
   "execution_count": 211,
   "metadata": {},
   "outputs": [
    {
     "name": "stdout",
     "output_type": "stream",
     "text": [
      "<class 'pandas.core.frame.DataFrame'>\n",
      "Index: 18484 entries, 0 to 18491\n",
      "Data columns (total 7 columns):\n",
      " #   Column              Non-Null Count  Dtype  \n",
      "---  ------              --------------  -----  \n",
      " 0   cst_id              18484 non-null  float64\n",
      " 1   cst_key             18484 non-null  object \n",
      " 2   cst_firstname       18484 non-null  object \n",
      " 3   cst_lastname        18484 non-null  object \n",
      " 4   cst_marital_status  18484 non-null  object \n",
      " 5   cst_gndr            13915 non-null  object \n",
      " 6   cst_create_date     18484 non-null  object \n",
      "dtypes: float64(1), object(6)\n",
      "memory usage: 1.1+ MB\n"
     ]
    }
   ],
   "source": [
    "# So now let's take care of the string columns\n",
    "new_df.info()"
   ]
  },
  {
   "cell_type": "code",
   "execution_count": 212,
   "metadata": {},
   "outputs": [],
   "source": [
    "new_df['cst_create_date'] = pd.to_datetime(new_df['cst_create_date'], format='%Y-%m-%d')"
   ]
  },
  {
   "cell_type": "code",
   "execution_count": 213,
   "metadata": {},
   "outputs": [
    {
     "name": "stdout",
     "output_type": "stream",
     "text": [
      "<class 'pandas.core.frame.DataFrame'>\n",
      "Index: 18484 entries, 0 to 18491\n",
      "Data columns (total 7 columns):\n",
      " #   Column              Non-Null Count  Dtype         \n",
      "---  ------              --------------  -----         \n",
      " 0   cst_id              18484 non-null  float64       \n",
      " 1   cst_key             18484 non-null  object        \n",
      " 2   cst_firstname       18484 non-null  object        \n",
      " 3   cst_lastname        18484 non-null  object        \n",
      " 4   cst_marital_status  18484 non-null  object        \n",
      " 5   cst_gndr            13915 non-null  object        \n",
      " 6   cst_create_date     18484 non-null  datetime64[ns]\n",
      "dtypes: datetime64[ns](1), float64(1), object(5)\n",
      "memory usage: 1.1+ MB\n"
     ]
    }
   ],
   "source": [
    "new_df.info()"
   ]
  },
  {
   "cell_type": "code",
   "execution_count": 214,
   "metadata": {},
   "outputs": [],
   "source": [
    "new_df['cst_id'] = new_df['cst_id'].astype(int)"
   ]
  },
  {
   "cell_type": "code",
   "execution_count": 215,
   "metadata": {},
   "outputs": [
    {
     "data": {
      "application/vnd.microsoft.datawrangler.viewer.v0+json": {
       "columns": [
        {
         "name": "index",
         "rawType": "int64",
         "type": "integer"
        },
        {
         "name": "cst_id",
         "rawType": "int64",
         "type": "integer"
        },
        {
         "name": "cst_key",
         "rawType": "object",
         "type": "string"
        },
        {
         "name": "cst_firstname",
         "rawType": "object",
         "type": "string"
        },
        {
         "name": "cst_lastname",
         "rawType": "object",
         "type": "string"
        },
        {
         "name": "cst_marital_status",
         "rawType": "object",
         "type": "string"
        },
        {
         "name": "cst_gndr",
         "rawType": "object",
         "type": "string"
        },
        {
         "name": "cst_create_date",
         "rawType": "datetime64[ns]",
         "type": "datetime"
        }
       ],
       "conversionMethod": "pd.DataFrame",
       "ref": "4aba577a-fd00-414b-99a1-e850d79fa491",
       "rows": [
        [
         "0",
         "11000",
         "AW00011000",
         " Jon",
         "Yang ",
         "M",
         "M",
         "2025-10-06 00:00:00"
        ],
        [
         "1",
         "11001",
         "AW00011001",
         "Eugene",
         "Huang  ",
         "S",
         "M",
         "2025-10-06 00:00:00"
        ],
        [
         "2",
         "11002",
         "AW00011002",
         "Ruben",
         " Torres",
         "M",
         "M",
         "2025-10-06 00:00:00"
        ],
        [
         "3",
         "11003",
         "AW00011003",
         "Christy",
         "  Zhu",
         "S",
         "F",
         "2025-10-06 00:00:00"
        ],
        [
         "4",
         "11004",
         "AW00011004",
         " Elizabeth",
         "Johnson",
         "S",
         "F",
         "2025-10-06 00:00:00"
        ]
       ],
       "shape": {
        "columns": 7,
        "rows": 5
       }
      },
      "text/html": [
       "<div>\n",
       "<style scoped>\n",
       "    .dataframe tbody tr th:only-of-type {\n",
       "        vertical-align: middle;\n",
       "    }\n",
       "\n",
       "    .dataframe tbody tr th {\n",
       "        vertical-align: top;\n",
       "    }\n",
       "\n",
       "    .dataframe thead th {\n",
       "        text-align: right;\n",
       "    }\n",
       "</style>\n",
       "<table border=\"1\" class=\"dataframe\">\n",
       "  <thead>\n",
       "    <tr style=\"text-align: right;\">\n",
       "      <th></th>\n",
       "      <th>cst_id</th>\n",
       "      <th>cst_key</th>\n",
       "      <th>cst_firstname</th>\n",
       "      <th>cst_lastname</th>\n",
       "      <th>cst_marital_status</th>\n",
       "      <th>cst_gndr</th>\n",
       "      <th>cst_create_date</th>\n",
       "    </tr>\n",
       "  </thead>\n",
       "  <tbody>\n",
       "    <tr>\n",
       "      <th>0</th>\n",
       "      <td>11000</td>\n",
       "      <td>AW00011000</td>\n",
       "      <td>Jon</td>\n",
       "      <td>Yang</td>\n",
       "      <td>M</td>\n",
       "      <td>M</td>\n",
       "      <td>2025-10-06</td>\n",
       "    </tr>\n",
       "    <tr>\n",
       "      <th>1</th>\n",
       "      <td>11001</td>\n",
       "      <td>AW00011001</td>\n",
       "      <td>Eugene</td>\n",
       "      <td>Huang</td>\n",
       "      <td>S</td>\n",
       "      <td>M</td>\n",
       "      <td>2025-10-06</td>\n",
       "    </tr>\n",
       "    <tr>\n",
       "      <th>2</th>\n",
       "      <td>11002</td>\n",
       "      <td>AW00011002</td>\n",
       "      <td>Ruben</td>\n",
       "      <td>Torres</td>\n",
       "      <td>M</td>\n",
       "      <td>M</td>\n",
       "      <td>2025-10-06</td>\n",
       "    </tr>\n",
       "    <tr>\n",
       "      <th>3</th>\n",
       "      <td>11003</td>\n",
       "      <td>AW00011003</td>\n",
       "      <td>Christy</td>\n",
       "      <td>Zhu</td>\n",
       "      <td>S</td>\n",
       "      <td>F</td>\n",
       "      <td>2025-10-06</td>\n",
       "    </tr>\n",
       "    <tr>\n",
       "      <th>4</th>\n",
       "      <td>11004</td>\n",
       "      <td>AW00011004</td>\n",
       "      <td>Elizabeth</td>\n",
       "      <td>Johnson</td>\n",
       "      <td>S</td>\n",
       "      <td>F</td>\n",
       "      <td>2025-10-06</td>\n",
       "    </tr>\n",
       "  </tbody>\n",
       "</table>\n",
       "</div>"
      ],
      "text/plain": [
       "   cst_id     cst_key cst_firstname cst_lastname cst_marital_status cst_gndr  \\\n",
       "0   11000  AW00011000           Jon        Yang                   M        M   \n",
       "1   11001  AW00011001        Eugene      Huang                    S        M   \n",
       "2   11002  AW00011002         Ruben       Torres                  M        M   \n",
       "3   11003  AW00011003       Christy          Zhu                  S        F   \n",
       "4   11004  AW00011004     Elizabeth      Johnson                  S        F   \n",
       "\n",
       "  cst_create_date  \n",
       "0      2025-10-06  \n",
       "1      2025-10-06  \n",
       "2      2025-10-06  \n",
       "3      2025-10-06  \n",
       "4      2025-10-06  "
      ]
     },
     "execution_count": 215,
     "metadata": {},
     "output_type": "execute_result"
    }
   ],
   "source": [
    "new_df.head()"
   ]
  },
  {
   "cell_type": "markdown",
   "metadata": {},
   "source": [
    "- Cheking for Unwanted spacing in the cst_firstname nd cst_lastname "
   ]
  },
  {
   "cell_type": "code",
   "execution_count": 216,
   "metadata": {},
   "outputs": [
    {
     "data": {
      "application/vnd.microsoft.datawrangler.viewer.v0+json": {
       "columns": [
        {
         "name": "index",
         "rawType": "int64",
         "type": "integer"
        },
        {
         "name": "cst_id",
         "rawType": "int64",
         "type": "integer"
        },
        {
         "name": "cst_key",
         "rawType": "object",
         "type": "string"
        },
        {
         "name": "cst_firstname",
         "rawType": "object",
         "type": "string"
        },
        {
         "name": "cst_lastname",
         "rawType": "object",
         "type": "string"
        },
        {
         "name": "cst_marital_status",
         "rawType": "object",
         "type": "string"
        },
        {
         "name": "cst_gndr",
         "rawType": "object",
         "type": "unknown"
        },
        {
         "name": "cst_create_date",
         "rawType": "datetime64[ns]",
         "type": "datetime"
        }
       ],
       "conversionMethod": "pd.DataFrame",
       "ref": "5619de46-3d6d-448a-b317-8e003b21afac",
       "rows": [
        [
         "0",
         "11000",
         "AW00011000",
         " Jon",
         "Yang ",
         "M",
         "M",
         "2025-10-06 00:00:00"
        ],
        [
         "4",
         "11004",
         "AW00011004",
         " Elizabeth",
         "Johnson",
         "S",
         "F",
         "2025-10-06 00:00:00"
        ],
        [
         "12",
         "11012",
         "AW00011012",
         "  Lauren",
         " Walker",
         "M",
         "F",
         "2025-10-06 00:00:00"
        ],
        [
         "13",
         "11013",
         "AW00011013",
         " Ian ",
         " Jenkins ",
         "M",
         "M",
         "2025-10-06 00:00:00"
        ],
        [
         "15",
         "11015",
         "AW00011015",
         "  Chloe",
         "Young",
         "S",
         "F",
         "2025-10-06 00:00:00"
        ],
        [
         "21",
         "11021",
         "AW00011021",
         " Destiny",
         "Wilson ",
         "S",
         "F",
         "2025-10-07 00:00:00"
        ],
        [
         "63",
         "11063",
         "AW00011063",
         " Angela  ",
         " Murphy  ",
         "S",
         "F",
         "2025-10-07 00:00:00"
        ],
        [
         "65",
         "11065",
         "AW00011065",
         "Jessica  ",
         "Henderson ",
         "M",
         "F",
         "2025-10-07 00:00:00"
        ],
        [
         "67",
         "11067",
         "AW00011067",
         " Caleb",
         " Carter",
         "S",
         "M",
         "2025-10-07 00:00:00"
        ],
        [
         "70",
         "11070",
         "AW00011070",
         " Willie ",
         " Raji",
         "M",
         "M",
         "2025-10-07 00:00:00"
        ],
        [
         "109",
         "11109",
         "AW00011109",
         " Ruben ",
         "Kapoor ",
         "S",
         "M",
         "2025-10-07 00:00:00"
        ],
        [
         "140",
         "11140",
         "AW00011140",
         " Javier ",
         "Alvarez",
         "S",
         "M",
         "2025-10-07 00:00:00"
        ],
        [
         "141",
         "11141",
         "AW00011141",
         " Nicole",
         "Ramirez",
         "M",
         "F",
         "2025-10-07 00:00:00"
        ],
        [
         "208",
         "11208",
         "AW00011208",
         " Maria ",
         " Reed",
         "M",
         null,
         "2025-10-08 00:00:00"
        ],
        [
         "209",
         "11209",
         "AW00011209",
         " Allison ",
         "Evans",
         "M",
         null,
         "2025-10-08 00:00:00"
        ],
        [
         "229",
         "11229",
         "AW00011229",
         " Adrian ",
         "Stewart",
         "S",
         null,
         "2025-10-08 00:00:00"
        ],
        [
         "259",
         "11259",
         "AW00011259",
         "Victoria  ",
         "Stewart",
         "M",
         null,
         "2025-10-08 00:00:00"
        ]
       ],
       "shape": {
        "columns": 7,
        "rows": 17
       }
      },
      "text/html": [
       "<div>\n",
       "<style scoped>\n",
       "    .dataframe tbody tr th:only-of-type {\n",
       "        vertical-align: middle;\n",
       "    }\n",
       "\n",
       "    .dataframe tbody tr th {\n",
       "        vertical-align: top;\n",
       "    }\n",
       "\n",
       "    .dataframe thead th {\n",
       "        text-align: right;\n",
       "    }\n",
       "</style>\n",
       "<table border=\"1\" class=\"dataframe\">\n",
       "  <thead>\n",
       "    <tr style=\"text-align: right;\">\n",
       "      <th></th>\n",
       "      <th>cst_id</th>\n",
       "      <th>cst_key</th>\n",
       "      <th>cst_firstname</th>\n",
       "      <th>cst_lastname</th>\n",
       "      <th>cst_marital_status</th>\n",
       "      <th>cst_gndr</th>\n",
       "      <th>cst_create_date</th>\n",
       "    </tr>\n",
       "  </thead>\n",
       "  <tbody>\n",
       "    <tr>\n",
       "      <th>0</th>\n",
       "      <td>11000</td>\n",
       "      <td>AW00011000</td>\n",
       "      <td>Jon</td>\n",
       "      <td>Yang</td>\n",
       "      <td>M</td>\n",
       "      <td>M</td>\n",
       "      <td>2025-10-06</td>\n",
       "    </tr>\n",
       "    <tr>\n",
       "      <th>4</th>\n",
       "      <td>11004</td>\n",
       "      <td>AW00011004</td>\n",
       "      <td>Elizabeth</td>\n",
       "      <td>Johnson</td>\n",
       "      <td>S</td>\n",
       "      <td>F</td>\n",
       "      <td>2025-10-06</td>\n",
       "    </tr>\n",
       "    <tr>\n",
       "      <th>12</th>\n",
       "      <td>11012</td>\n",
       "      <td>AW00011012</td>\n",
       "      <td>Lauren</td>\n",
       "      <td>Walker</td>\n",
       "      <td>M</td>\n",
       "      <td>F</td>\n",
       "      <td>2025-10-06</td>\n",
       "    </tr>\n",
       "    <tr>\n",
       "      <th>13</th>\n",
       "      <td>11013</td>\n",
       "      <td>AW00011013</td>\n",
       "      <td>Ian</td>\n",
       "      <td>Jenkins</td>\n",
       "      <td>M</td>\n",
       "      <td>M</td>\n",
       "      <td>2025-10-06</td>\n",
       "    </tr>\n",
       "    <tr>\n",
       "      <th>15</th>\n",
       "      <td>11015</td>\n",
       "      <td>AW00011015</td>\n",
       "      <td>Chloe</td>\n",
       "      <td>Young</td>\n",
       "      <td>S</td>\n",
       "      <td>F</td>\n",
       "      <td>2025-10-06</td>\n",
       "    </tr>\n",
       "    <tr>\n",
       "      <th>21</th>\n",
       "      <td>11021</td>\n",
       "      <td>AW00011021</td>\n",
       "      <td>Destiny</td>\n",
       "      <td>Wilson</td>\n",
       "      <td>S</td>\n",
       "      <td>F</td>\n",
       "      <td>2025-10-07</td>\n",
       "    </tr>\n",
       "    <tr>\n",
       "      <th>63</th>\n",
       "      <td>11063</td>\n",
       "      <td>AW00011063</td>\n",
       "      <td>Angela</td>\n",
       "      <td>Murphy</td>\n",
       "      <td>S</td>\n",
       "      <td>F</td>\n",
       "      <td>2025-10-07</td>\n",
       "    </tr>\n",
       "    <tr>\n",
       "      <th>65</th>\n",
       "      <td>11065</td>\n",
       "      <td>AW00011065</td>\n",
       "      <td>Jessica</td>\n",
       "      <td>Henderson</td>\n",
       "      <td>M</td>\n",
       "      <td>F</td>\n",
       "      <td>2025-10-07</td>\n",
       "    </tr>\n",
       "    <tr>\n",
       "      <th>67</th>\n",
       "      <td>11067</td>\n",
       "      <td>AW00011067</td>\n",
       "      <td>Caleb</td>\n",
       "      <td>Carter</td>\n",
       "      <td>S</td>\n",
       "      <td>M</td>\n",
       "      <td>2025-10-07</td>\n",
       "    </tr>\n",
       "    <tr>\n",
       "      <th>70</th>\n",
       "      <td>11070</td>\n",
       "      <td>AW00011070</td>\n",
       "      <td>Willie</td>\n",
       "      <td>Raji</td>\n",
       "      <td>M</td>\n",
       "      <td>M</td>\n",
       "      <td>2025-10-07</td>\n",
       "    </tr>\n",
       "    <tr>\n",
       "      <th>109</th>\n",
       "      <td>11109</td>\n",
       "      <td>AW00011109</td>\n",
       "      <td>Ruben</td>\n",
       "      <td>Kapoor</td>\n",
       "      <td>S</td>\n",
       "      <td>M</td>\n",
       "      <td>2025-10-07</td>\n",
       "    </tr>\n",
       "    <tr>\n",
       "      <th>140</th>\n",
       "      <td>11140</td>\n",
       "      <td>AW00011140</td>\n",
       "      <td>Javier</td>\n",
       "      <td>Alvarez</td>\n",
       "      <td>S</td>\n",
       "      <td>M</td>\n",
       "      <td>2025-10-07</td>\n",
       "    </tr>\n",
       "    <tr>\n",
       "      <th>141</th>\n",
       "      <td>11141</td>\n",
       "      <td>AW00011141</td>\n",
       "      <td>Nicole</td>\n",
       "      <td>Ramirez</td>\n",
       "      <td>M</td>\n",
       "      <td>F</td>\n",
       "      <td>2025-10-07</td>\n",
       "    </tr>\n",
       "    <tr>\n",
       "      <th>208</th>\n",
       "      <td>11208</td>\n",
       "      <td>AW00011208</td>\n",
       "      <td>Maria</td>\n",
       "      <td>Reed</td>\n",
       "      <td>M</td>\n",
       "      <td>NaN</td>\n",
       "      <td>2025-10-08</td>\n",
       "    </tr>\n",
       "    <tr>\n",
       "      <th>209</th>\n",
       "      <td>11209</td>\n",
       "      <td>AW00011209</td>\n",
       "      <td>Allison</td>\n",
       "      <td>Evans</td>\n",
       "      <td>M</td>\n",
       "      <td>NaN</td>\n",
       "      <td>2025-10-08</td>\n",
       "    </tr>\n",
       "    <tr>\n",
       "      <th>229</th>\n",
       "      <td>11229</td>\n",
       "      <td>AW00011229</td>\n",
       "      <td>Adrian</td>\n",
       "      <td>Stewart</td>\n",
       "      <td>S</td>\n",
       "      <td>NaN</td>\n",
       "      <td>2025-10-08</td>\n",
       "    </tr>\n",
       "    <tr>\n",
       "      <th>259</th>\n",
       "      <td>11259</td>\n",
       "      <td>AW00011259</td>\n",
       "      <td>Victoria</td>\n",
       "      <td>Stewart</td>\n",
       "      <td>M</td>\n",
       "      <td>NaN</td>\n",
       "      <td>2025-10-08</td>\n",
       "    </tr>\n",
       "  </tbody>\n",
       "</table>\n",
       "</div>"
      ],
      "text/plain": [
       "     cst_id     cst_key cst_firstname cst_lastname cst_marital_status  \\\n",
       "0     11000  AW00011000           Jon        Yang                   M   \n",
       "4     11004  AW00011004     Elizabeth      Johnson                  S   \n",
       "12    11012  AW00011012        Lauren       Walker                  M   \n",
       "13    11013  AW00011013          Ian      Jenkins                   M   \n",
       "15    11015  AW00011015         Chloe        Young                  S   \n",
       "21    11021  AW00011021       Destiny      Wilson                   S   \n",
       "63    11063  AW00011063      Angela       Murphy                    S   \n",
       "65    11065  AW00011065     Jessica     Henderson                   M   \n",
       "67    11067  AW00011067         Caleb       Carter                  S   \n",
       "70    11070  AW00011070       Willie          Raji                  M   \n",
       "109   11109  AW00011109        Ruben       Kapoor                   S   \n",
       "140   11140  AW00011140       Javier       Alvarez                  S   \n",
       "141   11141  AW00011141        Nicole      Ramirez                  M   \n",
       "208   11208  AW00011208        Maria          Reed                  M   \n",
       "209   11209  AW00011209      Allison         Evans                  M   \n",
       "229   11229  AW00011229       Adrian       Stewart                  S   \n",
       "259   11259  AW00011259    Victoria        Stewart                  M   \n",
       "\n",
       "    cst_gndr cst_create_date  \n",
       "0          M      2025-10-06  \n",
       "4          F      2025-10-06  \n",
       "12         F      2025-10-06  \n",
       "13         M      2025-10-06  \n",
       "15         F      2025-10-06  \n",
       "21         F      2025-10-07  \n",
       "63         F      2025-10-07  \n",
       "65         F      2025-10-07  \n",
       "67         M      2025-10-07  \n",
       "70         M      2025-10-07  \n",
       "109        M      2025-10-07  \n",
       "140        M      2025-10-07  \n",
       "141        F      2025-10-07  \n",
       "208      NaN      2025-10-08  \n",
       "209      NaN      2025-10-08  \n",
       "229      NaN      2025-10-08  \n",
       "259      NaN      2025-10-08  "
      ]
     },
     "execution_count": 216,
     "metadata": {},
     "output_type": "execute_result"
    }
   ],
   "source": [
    "new_df[(new_df['cst_firstname'] != new_df['cst_firstname'].str.strip())]"
   ]
  },
  {
   "cell_type": "code",
   "execution_count": 217,
   "metadata": {},
   "outputs": [
    {
     "data": {
      "application/vnd.microsoft.datawrangler.viewer.v0+json": {
       "columns": [
        {
         "name": "index",
         "rawType": "int64",
         "type": "integer"
        },
        {
         "name": "cst_id",
         "rawType": "int64",
         "type": "integer"
        },
        {
         "name": "cst_key",
         "rawType": "object",
         "type": "string"
        },
        {
         "name": "cst_firstname",
         "rawType": "object",
         "type": "string"
        },
        {
         "name": "cst_lastname",
         "rawType": "object",
         "type": "string"
        },
        {
         "name": "cst_marital_status",
         "rawType": "object",
         "type": "string"
        },
        {
         "name": "cst_gndr",
         "rawType": "object",
         "type": "unknown"
        },
        {
         "name": "cst_create_date",
         "rawType": "datetime64[ns]",
         "type": "datetime"
        }
       ],
       "conversionMethod": "pd.DataFrame",
       "ref": "64ca31d1-e7c0-44c8-86a1-31a10eef456c",
       "rows": [
        [
         "0",
         "11000",
         "AW00011000",
         " Jon",
         "Yang ",
         "M",
         "M",
         "2025-10-06 00:00:00"
        ],
        [
         "1",
         "11001",
         "AW00011001",
         "Eugene",
         "Huang  ",
         "S",
         "M",
         "2025-10-06 00:00:00"
        ],
        [
         "2",
         "11002",
         "AW00011002",
         "Ruben",
         " Torres",
         "M",
         "M",
         "2025-10-06 00:00:00"
        ],
        [
         "3",
         "11003",
         "AW00011003",
         "Christy",
         "  Zhu",
         "S",
         "F",
         "2025-10-06 00:00:00"
        ],
        [
         "12",
         "11012",
         "AW00011012",
         "  Lauren",
         " Walker",
         "M",
         "F",
         "2025-10-06 00:00:00"
        ],
        [
         "13",
         "11013",
         "AW00011013",
         " Ian ",
         " Jenkins ",
         "M",
         "M",
         "2025-10-06 00:00:00"
        ],
        [
         "21",
         "11021",
         "AW00011021",
         " Destiny",
         "Wilson ",
         "S",
         "F",
         "2025-10-07 00:00:00"
        ],
        [
         "63",
         "11063",
         "AW00011063",
         " Angela  ",
         " Murphy  ",
         "S",
         "F",
         "2025-10-07 00:00:00"
        ],
        [
         "64",
         "11064",
         "AW00011064",
         "Chase",
         " Reed  ",
         "M",
         "M",
         "2025-10-07 00:00:00"
        ],
        [
         "65",
         "11065",
         "AW00011065",
         "Jessica  ",
         "Henderson ",
         "M",
         "F",
         "2025-10-07 00:00:00"
        ],
        [
         "66",
         "11066",
         "AW00011066",
         "Grace",
         "  Butler",
         "M",
         "F",
         "2025-10-07 00:00:00"
        ],
        [
         "67",
         "11067",
         "AW00011067",
         " Caleb",
         " Carter",
         "S",
         "M",
         "2025-10-07 00:00:00"
        ],
        [
         "70",
         "11070",
         "AW00011070",
         " Willie ",
         " Raji",
         "M",
         "M",
         "2025-10-07 00:00:00"
        ],
        [
         "71",
         "11071",
         "AW00011071",
         "Linda",
         " Serrano",
         "S",
         "F",
         "2025-10-07 00:00:00"
        ],
        [
         "86",
         "11086",
         "AW00011086",
         "Ryan",
         "  Brown",
         "M",
         "M",
         "2025-10-07 00:00:00"
        ],
        [
         "87",
         "11087",
         "AW00011087",
         "Tamara",
         " Liang",
         "M",
         "F",
         "2025-10-07 00:00:00"
        ],
        [
         "109",
         "11109",
         "AW00011109",
         " Ruben ",
         "Kapoor ",
         "S",
         "M",
         "2025-10-07 00:00:00"
        ],
        [
         "167",
         "11167",
         "AW00011167",
         "Jasmine",
         " Barnes",
         "S",
         null,
         "2025-10-07 00:00:00"
        ],
        [
         "168",
         "11168",
         "AW00011168",
         "David",
         " Rodriguez",
         "S",
         null,
         "2025-10-07 00:00:00"
        ],
        [
         "170",
         "11170",
         "AW00011170",
         "Carol",
         " Howard",
         "M",
         null,
         "2025-10-07 00:00:00"
        ],
        [
         "206",
         "11206",
         "AW00011206",
         "Blake",
         " Flores ",
         "M",
         null,
         "2025-10-08 00:00:00"
        ],
        [
         "208",
         "11208",
         "AW00011208",
         " Maria ",
         " Reed",
         "M",
         null,
         "2025-10-08 00:00:00"
        ]
       ],
       "shape": {
        "columns": 7,
        "rows": 22
       }
      },
      "text/html": [
       "<div>\n",
       "<style scoped>\n",
       "    .dataframe tbody tr th:only-of-type {\n",
       "        vertical-align: middle;\n",
       "    }\n",
       "\n",
       "    .dataframe tbody tr th {\n",
       "        vertical-align: top;\n",
       "    }\n",
       "\n",
       "    .dataframe thead th {\n",
       "        text-align: right;\n",
       "    }\n",
       "</style>\n",
       "<table border=\"1\" class=\"dataframe\">\n",
       "  <thead>\n",
       "    <tr style=\"text-align: right;\">\n",
       "      <th></th>\n",
       "      <th>cst_id</th>\n",
       "      <th>cst_key</th>\n",
       "      <th>cst_firstname</th>\n",
       "      <th>cst_lastname</th>\n",
       "      <th>cst_marital_status</th>\n",
       "      <th>cst_gndr</th>\n",
       "      <th>cst_create_date</th>\n",
       "    </tr>\n",
       "  </thead>\n",
       "  <tbody>\n",
       "    <tr>\n",
       "      <th>0</th>\n",
       "      <td>11000</td>\n",
       "      <td>AW00011000</td>\n",
       "      <td>Jon</td>\n",
       "      <td>Yang</td>\n",
       "      <td>M</td>\n",
       "      <td>M</td>\n",
       "      <td>2025-10-06</td>\n",
       "    </tr>\n",
       "    <tr>\n",
       "      <th>1</th>\n",
       "      <td>11001</td>\n",
       "      <td>AW00011001</td>\n",
       "      <td>Eugene</td>\n",
       "      <td>Huang</td>\n",
       "      <td>S</td>\n",
       "      <td>M</td>\n",
       "      <td>2025-10-06</td>\n",
       "    </tr>\n",
       "    <tr>\n",
       "      <th>2</th>\n",
       "      <td>11002</td>\n",
       "      <td>AW00011002</td>\n",
       "      <td>Ruben</td>\n",
       "      <td>Torres</td>\n",
       "      <td>M</td>\n",
       "      <td>M</td>\n",
       "      <td>2025-10-06</td>\n",
       "    </tr>\n",
       "    <tr>\n",
       "      <th>3</th>\n",
       "      <td>11003</td>\n",
       "      <td>AW00011003</td>\n",
       "      <td>Christy</td>\n",
       "      <td>Zhu</td>\n",
       "      <td>S</td>\n",
       "      <td>F</td>\n",
       "      <td>2025-10-06</td>\n",
       "    </tr>\n",
       "    <tr>\n",
       "      <th>12</th>\n",
       "      <td>11012</td>\n",
       "      <td>AW00011012</td>\n",
       "      <td>Lauren</td>\n",
       "      <td>Walker</td>\n",
       "      <td>M</td>\n",
       "      <td>F</td>\n",
       "      <td>2025-10-06</td>\n",
       "    </tr>\n",
       "    <tr>\n",
       "      <th>13</th>\n",
       "      <td>11013</td>\n",
       "      <td>AW00011013</td>\n",
       "      <td>Ian</td>\n",
       "      <td>Jenkins</td>\n",
       "      <td>M</td>\n",
       "      <td>M</td>\n",
       "      <td>2025-10-06</td>\n",
       "    </tr>\n",
       "    <tr>\n",
       "      <th>21</th>\n",
       "      <td>11021</td>\n",
       "      <td>AW00011021</td>\n",
       "      <td>Destiny</td>\n",
       "      <td>Wilson</td>\n",
       "      <td>S</td>\n",
       "      <td>F</td>\n",
       "      <td>2025-10-07</td>\n",
       "    </tr>\n",
       "    <tr>\n",
       "      <th>63</th>\n",
       "      <td>11063</td>\n",
       "      <td>AW00011063</td>\n",
       "      <td>Angela</td>\n",
       "      <td>Murphy</td>\n",
       "      <td>S</td>\n",
       "      <td>F</td>\n",
       "      <td>2025-10-07</td>\n",
       "    </tr>\n",
       "    <tr>\n",
       "      <th>64</th>\n",
       "      <td>11064</td>\n",
       "      <td>AW00011064</td>\n",
       "      <td>Chase</td>\n",
       "      <td>Reed</td>\n",
       "      <td>M</td>\n",
       "      <td>M</td>\n",
       "      <td>2025-10-07</td>\n",
       "    </tr>\n",
       "    <tr>\n",
       "      <th>65</th>\n",
       "      <td>11065</td>\n",
       "      <td>AW00011065</td>\n",
       "      <td>Jessica</td>\n",
       "      <td>Henderson</td>\n",
       "      <td>M</td>\n",
       "      <td>F</td>\n",
       "      <td>2025-10-07</td>\n",
       "    </tr>\n",
       "    <tr>\n",
       "      <th>66</th>\n",
       "      <td>11066</td>\n",
       "      <td>AW00011066</td>\n",
       "      <td>Grace</td>\n",
       "      <td>Butler</td>\n",
       "      <td>M</td>\n",
       "      <td>F</td>\n",
       "      <td>2025-10-07</td>\n",
       "    </tr>\n",
       "    <tr>\n",
       "      <th>67</th>\n",
       "      <td>11067</td>\n",
       "      <td>AW00011067</td>\n",
       "      <td>Caleb</td>\n",
       "      <td>Carter</td>\n",
       "      <td>S</td>\n",
       "      <td>M</td>\n",
       "      <td>2025-10-07</td>\n",
       "    </tr>\n",
       "    <tr>\n",
       "      <th>70</th>\n",
       "      <td>11070</td>\n",
       "      <td>AW00011070</td>\n",
       "      <td>Willie</td>\n",
       "      <td>Raji</td>\n",
       "      <td>M</td>\n",
       "      <td>M</td>\n",
       "      <td>2025-10-07</td>\n",
       "    </tr>\n",
       "    <tr>\n",
       "      <th>71</th>\n",
       "      <td>11071</td>\n",
       "      <td>AW00011071</td>\n",
       "      <td>Linda</td>\n",
       "      <td>Serrano</td>\n",
       "      <td>S</td>\n",
       "      <td>F</td>\n",
       "      <td>2025-10-07</td>\n",
       "    </tr>\n",
       "    <tr>\n",
       "      <th>86</th>\n",
       "      <td>11086</td>\n",
       "      <td>AW00011086</td>\n",
       "      <td>Ryan</td>\n",
       "      <td>Brown</td>\n",
       "      <td>M</td>\n",
       "      <td>M</td>\n",
       "      <td>2025-10-07</td>\n",
       "    </tr>\n",
       "    <tr>\n",
       "      <th>87</th>\n",
       "      <td>11087</td>\n",
       "      <td>AW00011087</td>\n",
       "      <td>Tamara</td>\n",
       "      <td>Liang</td>\n",
       "      <td>M</td>\n",
       "      <td>F</td>\n",
       "      <td>2025-10-07</td>\n",
       "    </tr>\n",
       "    <tr>\n",
       "      <th>109</th>\n",
       "      <td>11109</td>\n",
       "      <td>AW00011109</td>\n",
       "      <td>Ruben</td>\n",
       "      <td>Kapoor</td>\n",
       "      <td>S</td>\n",
       "      <td>M</td>\n",
       "      <td>2025-10-07</td>\n",
       "    </tr>\n",
       "    <tr>\n",
       "      <th>167</th>\n",
       "      <td>11167</td>\n",
       "      <td>AW00011167</td>\n",
       "      <td>Jasmine</td>\n",
       "      <td>Barnes</td>\n",
       "      <td>S</td>\n",
       "      <td>NaN</td>\n",
       "      <td>2025-10-07</td>\n",
       "    </tr>\n",
       "    <tr>\n",
       "      <th>168</th>\n",
       "      <td>11168</td>\n",
       "      <td>AW00011168</td>\n",
       "      <td>David</td>\n",
       "      <td>Rodriguez</td>\n",
       "      <td>S</td>\n",
       "      <td>NaN</td>\n",
       "      <td>2025-10-07</td>\n",
       "    </tr>\n",
       "    <tr>\n",
       "      <th>170</th>\n",
       "      <td>11170</td>\n",
       "      <td>AW00011170</td>\n",
       "      <td>Carol</td>\n",
       "      <td>Howard</td>\n",
       "      <td>M</td>\n",
       "      <td>NaN</td>\n",
       "      <td>2025-10-07</td>\n",
       "    </tr>\n",
       "    <tr>\n",
       "      <th>206</th>\n",
       "      <td>11206</td>\n",
       "      <td>AW00011206</td>\n",
       "      <td>Blake</td>\n",
       "      <td>Flores</td>\n",
       "      <td>M</td>\n",
       "      <td>NaN</td>\n",
       "      <td>2025-10-08</td>\n",
       "    </tr>\n",
       "    <tr>\n",
       "      <th>208</th>\n",
       "      <td>11208</td>\n",
       "      <td>AW00011208</td>\n",
       "      <td>Maria</td>\n",
       "      <td>Reed</td>\n",
       "      <td>M</td>\n",
       "      <td>NaN</td>\n",
       "      <td>2025-10-08</td>\n",
       "    </tr>\n",
       "  </tbody>\n",
       "</table>\n",
       "</div>"
      ],
      "text/plain": [
       "     cst_id     cst_key cst_firstname cst_lastname cst_marital_status  \\\n",
       "0     11000  AW00011000           Jon        Yang                   M   \n",
       "1     11001  AW00011001        Eugene      Huang                    S   \n",
       "2     11002  AW00011002         Ruben       Torres                  M   \n",
       "3     11003  AW00011003       Christy          Zhu                  S   \n",
       "12    11012  AW00011012        Lauren       Walker                  M   \n",
       "13    11013  AW00011013          Ian      Jenkins                   M   \n",
       "21    11021  AW00011021       Destiny      Wilson                   S   \n",
       "63    11063  AW00011063      Angela       Murphy                    S   \n",
       "64    11064  AW00011064         Chase       Reed                    M   \n",
       "65    11065  AW00011065     Jessica     Henderson                   M   \n",
       "66    11066  AW00011066         Grace       Butler                  M   \n",
       "67    11067  AW00011067         Caleb       Carter                  S   \n",
       "70    11070  AW00011070       Willie          Raji                  M   \n",
       "71    11071  AW00011071         Linda      Serrano                  S   \n",
       "86    11086  AW00011086          Ryan        Brown                  M   \n",
       "87    11087  AW00011087        Tamara        Liang                  M   \n",
       "109   11109  AW00011109        Ruben       Kapoor                   S   \n",
       "167   11167  AW00011167       Jasmine       Barnes                  S   \n",
       "168   11168  AW00011168         David    Rodriguez                  S   \n",
       "170   11170  AW00011170         Carol       Howard                  M   \n",
       "206   11206  AW00011206         Blake      Flores                   M   \n",
       "208   11208  AW00011208        Maria          Reed                  M   \n",
       "\n",
       "    cst_gndr cst_create_date  \n",
       "0          M      2025-10-06  \n",
       "1          M      2025-10-06  \n",
       "2          M      2025-10-06  \n",
       "3          F      2025-10-06  \n",
       "12         F      2025-10-06  \n",
       "13         M      2025-10-06  \n",
       "21         F      2025-10-07  \n",
       "63         F      2025-10-07  \n",
       "64         M      2025-10-07  \n",
       "65         F      2025-10-07  \n",
       "66         F      2025-10-07  \n",
       "67         M      2025-10-07  \n",
       "70         M      2025-10-07  \n",
       "71         F      2025-10-07  \n",
       "86         M      2025-10-07  \n",
       "87         F      2025-10-07  \n",
       "109        M      2025-10-07  \n",
       "167      NaN      2025-10-07  \n",
       "168      NaN      2025-10-07  \n",
       "170      NaN      2025-10-07  \n",
       "206      NaN      2025-10-08  \n",
       "208      NaN      2025-10-08  "
      ]
     },
     "execution_count": 217,
     "metadata": {},
     "output_type": "execute_result"
    }
   ],
   "source": [
    "new_df[(new_df['cst_lastname'] != new_df['cst_lastname'].str.strip())]"
   ]
  },
  {
   "cell_type": "code",
   "execution_count": 218,
   "metadata": {},
   "outputs": [
    {
     "data": {
      "application/vnd.microsoft.datawrangler.viewer.v0+json": {
       "columns": [
        {
         "name": "index",
         "rawType": "int64",
         "type": "integer"
        },
        {
         "name": "cst_id",
         "rawType": "int64",
         "type": "integer"
        },
        {
         "name": "cst_key",
         "rawType": "object",
         "type": "string"
        },
        {
         "name": "cst_firstname",
         "rawType": "object",
         "type": "string"
        },
        {
         "name": "cst_lastname",
         "rawType": "object",
         "type": "string"
        },
        {
         "name": "cst_marital_status",
         "rawType": "object",
         "type": "string"
        },
        {
         "name": "cst_gndr",
         "rawType": "object",
         "type": "unknown"
        },
        {
         "name": "cst_create_date",
         "rawType": "datetime64[ns]",
         "type": "datetime"
        }
       ],
       "conversionMethod": "pd.DataFrame",
       "ref": "5fd44d29-b667-4b0f-8b8b-0d620f65a9a3",
       "rows": [
        [
         "0",
         "11000",
         "AW00011000",
         " Jon",
         "Yang ",
         "M",
         "M",
         "2025-10-06 00:00:00"
        ],
        [
         "1",
         "11001",
         "AW00011001",
         "Eugene",
         "Huang  ",
         "S",
         "M",
         "2025-10-06 00:00:00"
        ],
        [
         "2",
         "11002",
         "AW00011002",
         "Ruben",
         " Torres",
         "M",
         "M",
         "2025-10-06 00:00:00"
        ],
        [
         "3",
         "11003",
         "AW00011003",
         "Christy",
         "  Zhu",
         "S",
         "F",
         "2025-10-06 00:00:00"
        ],
        [
         "4",
         "11004",
         "AW00011004",
         " Elizabeth",
         "Johnson",
         "S",
         "F",
         "2025-10-06 00:00:00"
        ],
        [
         "12",
         "11012",
         "AW00011012",
         "  Lauren",
         " Walker",
         "M",
         "F",
         "2025-10-06 00:00:00"
        ],
        [
         "13",
         "11013",
         "AW00011013",
         " Ian ",
         " Jenkins ",
         "M",
         "M",
         "2025-10-06 00:00:00"
        ],
        [
         "15",
         "11015",
         "AW00011015",
         "  Chloe",
         "Young",
         "S",
         "F",
         "2025-10-06 00:00:00"
        ],
        [
         "21",
         "11021",
         "AW00011021",
         " Destiny",
         "Wilson ",
         "S",
         "F",
         "2025-10-07 00:00:00"
        ],
        [
         "63",
         "11063",
         "AW00011063",
         " Angela  ",
         " Murphy  ",
         "S",
         "F",
         "2025-10-07 00:00:00"
        ],
        [
         "64",
         "11064",
         "AW00011064",
         "Chase",
         " Reed  ",
         "M",
         "M",
         "2025-10-07 00:00:00"
        ],
        [
         "65",
         "11065",
         "AW00011065",
         "Jessica  ",
         "Henderson ",
         "M",
         "F",
         "2025-10-07 00:00:00"
        ],
        [
         "66",
         "11066",
         "AW00011066",
         "Grace",
         "  Butler",
         "M",
         "F",
         "2025-10-07 00:00:00"
        ],
        [
         "67",
         "11067",
         "AW00011067",
         " Caleb",
         " Carter",
         "S",
         "M",
         "2025-10-07 00:00:00"
        ],
        [
         "70",
         "11070",
         "AW00011070",
         " Willie ",
         " Raji",
         "M",
         "M",
         "2025-10-07 00:00:00"
        ],
        [
         "71",
         "11071",
         "AW00011071",
         "Linda",
         " Serrano",
         "S",
         "F",
         "2025-10-07 00:00:00"
        ],
        [
         "86",
         "11086",
         "AW00011086",
         "Ryan",
         "  Brown",
         "M",
         "M",
         "2025-10-07 00:00:00"
        ],
        [
         "87",
         "11087",
         "AW00011087",
         "Tamara",
         " Liang",
         "M",
         "F",
         "2025-10-07 00:00:00"
        ],
        [
         "109",
         "11109",
         "AW00011109",
         " Ruben ",
         "Kapoor ",
         "S",
         "M",
         "2025-10-07 00:00:00"
        ],
        [
         "140",
         "11140",
         "AW00011140",
         " Javier ",
         "Alvarez",
         "S",
         "M",
         "2025-10-07 00:00:00"
        ],
        [
         "141",
         "11141",
         "AW00011141",
         " Nicole",
         "Ramirez",
         "M",
         "F",
         "2025-10-07 00:00:00"
        ],
        [
         "167",
         "11167",
         "AW00011167",
         "Jasmine",
         " Barnes",
         "S",
         null,
         "2025-10-07 00:00:00"
        ],
        [
         "168",
         "11168",
         "AW00011168",
         "David",
         " Rodriguez",
         "S",
         null,
         "2025-10-07 00:00:00"
        ],
        [
         "170",
         "11170",
         "AW00011170",
         "Carol",
         " Howard",
         "M",
         null,
         "2025-10-07 00:00:00"
        ],
        [
         "206",
         "11206",
         "AW00011206",
         "Blake",
         " Flores ",
         "M",
         null,
         "2025-10-08 00:00:00"
        ],
        [
         "208",
         "11208",
         "AW00011208",
         " Maria ",
         " Reed",
         "M",
         null,
         "2025-10-08 00:00:00"
        ],
        [
         "209",
         "11209",
         "AW00011209",
         " Allison ",
         "Evans",
         "M",
         null,
         "2025-10-08 00:00:00"
        ],
        [
         "229",
         "11229",
         "AW00011229",
         " Adrian ",
         "Stewart",
         "S",
         null,
         "2025-10-08 00:00:00"
        ],
        [
         "259",
         "11259",
         "AW00011259",
         "Victoria  ",
         "Stewart",
         "M",
         null,
         "2025-10-08 00:00:00"
        ]
       ],
       "shape": {
        "columns": 7,
        "rows": 29
       }
      },
      "text/html": [
       "<div>\n",
       "<style scoped>\n",
       "    .dataframe tbody tr th:only-of-type {\n",
       "        vertical-align: middle;\n",
       "    }\n",
       "\n",
       "    .dataframe tbody tr th {\n",
       "        vertical-align: top;\n",
       "    }\n",
       "\n",
       "    .dataframe thead th {\n",
       "        text-align: right;\n",
       "    }\n",
       "</style>\n",
       "<table border=\"1\" class=\"dataframe\">\n",
       "  <thead>\n",
       "    <tr style=\"text-align: right;\">\n",
       "      <th></th>\n",
       "      <th>cst_id</th>\n",
       "      <th>cst_key</th>\n",
       "      <th>cst_firstname</th>\n",
       "      <th>cst_lastname</th>\n",
       "      <th>cst_marital_status</th>\n",
       "      <th>cst_gndr</th>\n",
       "      <th>cst_create_date</th>\n",
       "    </tr>\n",
       "  </thead>\n",
       "  <tbody>\n",
       "    <tr>\n",
       "      <th>0</th>\n",
       "      <td>11000</td>\n",
       "      <td>AW00011000</td>\n",
       "      <td>Jon</td>\n",
       "      <td>Yang</td>\n",
       "      <td>M</td>\n",
       "      <td>M</td>\n",
       "      <td>2025-10-06</td>\n",
       "    </tr>\n",
       "    <tr>\n",
       "      <th>1</th>\n",
       "      <td>11001</td>\n",
       "      <td>AW00011001</td>\n",
       "      <td>Eugene</td>\n",
       "      <td>Huang</td>\n",
       "      <td>S</td>\n",
       "      <td>M</td>\n",
       "      <td>2025-10-06</td>\n",
       "    </tr>\n",
       "    <tr>\n",
       "      <th>2</th>\n",
       "      <td>11002</td>\n",
       "      <td>AW00011002</td>\n",
       "      <td>Ruben</td>\n",
       "      <td>Torres</td>\n",
       "      <td>M</td>\n",
       "      <td>M</td>\n",
       "      <td>2025-10-06</td>\n",
       "    </tr>\n",
       "    <tr>\n",
       "      <th>3</th>\n",
       "      <td>11003</td>\n",
       "      <td>AW00011003</td>\n",
       "      <td>Christy</td>\n",
       "      <td>Zhu</td>\n",
       "      <td>S</td>\n",
       "      <td>F</td>\n",
       "      <td>2025-10-06</td>\n",
       "    </tr>\n",
       "    <tr>\n",
       "      <th>4</th>\n",
       "      <td>11004</td>\n",
       "      <td>AW00011004</td>\n",
       "      <td>Elizabeth</td>\n",
       "      <td>Johnson</td>\n",
       "      <td>S</td>\n",
       "      <td>F</td>\n",
       "      <td>2025-10-06</td>\n",
       "    </tr>\n",
       "    <tr>\n",
       "      <th>12</th>\n",
       "      <td>11012</td>\n",
       "      <td>AW00011012</td>\n",
       "      <td>Lauren</td>\n",
       "      <td>Walker</td>\n",
       "      <td>M</td>\n",
       "      <td>F</td>\n",
       "      <td>2025-10-06</td>\n",
       "    </tr>\n",
       "    <tr>\n",
       "      <th>13</th>\n",
       "      <td>11013</td>\n",
       "      <td>AW00011013</td>\n",
       "      <td>Ian</td>\n",
       "      <td>Jenkins</td>\n",
       "      <td>M</td>\n",
       "      <td>M</td>\n",
       "      <td>2025-10-06</td>\n",
       "    </tr>\n",
       "    <tr>\n",
       "      <th>15</th>\n",
       "      <td>11015</td>\n",
       "      <td>AW00011015</td>\n",
       "      <td>Chloe</td>\n",
       "      <td>Young</td>\n",
       "      <td>S</td>\n",
       "      <td>F</td>\n",
       "      <td>2025-10-06</td>\n",
       "    </tr>\n",
       "    <tr>\n",
       "      <th>21</th>\n",
       "      <td>11021</td>\n",
       "      <td>AW00011021</td>\n",
       "      <td>Destiny</td>\n",
       "      <td>Wilson</td>\n",
       "      <td>S</td>\n",
       "      <td>F</td>\n",
       "      <td>2025-10-07</td>\n",
       "    </tr>\n",
       "    <tr>\n",
       "      <th>63</th>\n",
       "      <td>11063</td>\n",
       "      <td>AW00011063</td>\n",
       "      <td>Angela</td>\n",
       "      <td>Murphy</td>\n",
       "      <td>S</td>\n",
       "      <td>F</td>\n",
       "      <td>2025-10-07</td>\n",
       "    </tr>\n",
       "    <tr>\n",
       "      <th>64</th>\n",
       "      <td>11064</td>\n",
       "      <td>AW00011064</td>\n",
       "      <td>Chase</td>\n",
       "      <td>Reed</td>\n",
       "      <td>M</td>\n",
       "      <td>M</td>\n",
       "      <td>2025-10-07</td>\n",
       "    </tr>\n",
       "    <tr>\n",
       "      <th>65</th>\n",
       "      <td>11065</td>\n",
       "      <td>AW00011065</td>\n",
       "      <td>Jessica</td>\n",
       "      <td>Henderson</td>\n",
       "      <td>M</td>\n",
       "      <td>F</td>\n",
       "      <td>2025-10-07</td>\n",
       "    </tr>\n",
       "    <tr>\n",
       "      <th>66</th>\n",
       "      <td>11066</td>\n",
       "      <td>AW00011066</td>\n",
       "      <td>Grace</td>\n",
       "      <td>Butler</td>\n",
       "      <td>M</td>\n",
       "      <td>F</td>\n",
       "      <td>2025-10-07</td>\n",
       "    </tr>\n",
       "    <tr>\n",
       "      <th>67</th>\n",
       "      <td>11067</td>\n",
       "      <td>AW00011067</td>\n",
       "      <td>Caleb</td>\n",
       "      <td>Carter</td>\n",
       "      <td>S</td>\n",
       "      <td>M</td>\n",
       "      <td>2025-10-07</td>\n",
       "    </tr>\n",
       "    <tr>\n",
       "      <th>70</th>\n",
       "      <td>11070</td>\n",
       "      <td>AW00011070</td>\n",
       "      <td>Willie</td>\n",
       "      <td>Raji</td>\n",
       "      <td>M</td>\n",
       "      <td>M</td>\n",
       "      <td>2025-10-07</td>\n",
       "    </tr>\n",
       "    <tr>\n",
       "      <th>71</th>\n",
       "      <td>11071</td>\n",
       "      <td>AW00011071</td>\n",
       "      <td>Linda</td>\n",
       "      <td>Serrano</td>\n",
       "      <td>S</td>\n",
       "      <td>F</td>\n",
       "      <td>2025-10-07</td>\n",
       "    </tr>\n",
       "    <tr>\n",
       "      <th>86</th>\n",
       "      <td>11086</td>\n",
       "      <td>AW00011086</td>\n",
       "      <td>Ryan</td>\n",
       "      <td>Brown</td>\n",
       "      <td>M</td>\n",
       "      <td>M</td>\n",
       "      <td>2025-10-07</td>\n",
       "    </tr>\n",
       "    <tr>\n",
       "      <th>87</th>\n",
       "      <td>11087</td>\n",
       "      <td>AW00011087</td>\n",
       "      <td>Tamara</td>\n",
       "      <td>Liang</td>\n",
       "      <td>M</td>\n",
       "      <td>F</td>\n",
       "      <td>2025-10-07</td>\n",
       "    </tr>\n",
       "    <tr>\n",
       "      <th>109</th>\n",
       "      <td>11109</td>\n",
       "      <td>AW00011109</td>\n",
       "      <td>Ruben</td>\n",
       "      <td>Kapoor</td>\n",
       "      <td>S</td>\n",
       "      <td>M</td>\n",
       "      <td>2025-10-07</td>\n",
       "    </tr>\n",
       "    <tr>\n",
       "      <th>140</th>\n",
       "      <td>11140</td>\n",
       "      <td>AW00011140</td>\n",
       "      <td>Javier</td>\n",
       "      <td>Alvarez</td>\n",
       "      <td>S</td>\n",
       "      <td>M</td>\n",
       "      <td>2025-10-07</td>\n",
       "    </tr>\n",
       "    <tr>\n",
       "      <th>141</th>\n",
       "      <td>11141</td>\n",
       "      <td>AW00011141</td>\n",
       "      <td>Nicole</td>\n",
       "      <td>Ramirez</td>\n",
       "      <td>M</td>\n",
       "      <td>F</td>\n",
       "      <td>2025-10-07</td>\n",
       "    </tr>\n",
       "    <tr>\n",
       "      <th>167</th>\n",
       "      <td>11167</td>\n",
       "      <td>AW00011167</td>\n",
       "      <td>Jasmine</td>\n",
       "      <td>Barnes</td>\n",
       "      <td>S</td>\n",
       "      <td>NaN</td>\n",
       "      <td>2025-10-07</td>\n",
       "    </tr>\n",
       "    <tr>\n",
       "      <th>168</th>\n",
       "      <td>11168</td>\n",
       "      <td>AW00011168</td>\n",
       "      <td>David</td>\n",
       "      <td>Rodriguez</td>\n",
       "      <td>S</td>\n",
       "      <td>NaN</td>\n",
       "      <td>2025-10-07</td>\n",
       "    </tr>\n",
       "    <tr>\n",
       "      <th>170</th>\n",
       "      <td>11170</td>\n",
       "      <td>AW00011170</td>\n",
       "      <td>Carol</td>\n",
       "      <td>Howard</td>\n",
       "      <td>M</td>\n",
       "      <td>NaN</td>\n",
       "      <td>2025-10-07</td>\n",
       "    </tr>\n",
       "    <tr>\n",
       "      <th>206</th>\n",
       "      <td>11206</td>\n",
       "      <td>AW00011206</td>\n",
       "      <td>Blake</td>\n",
       "      <td>Flores</td>\n",
       "      <td>M</td>\n",
       "      <td>NaN</td>\n",
       "      <td>2025-10-08</td>\n",
       "    </tr>\n",
       "    <tr>\n",
       "      <th>208</th>\n",
       "      <td>11208</td>\n",
       "      <td>AW00011208</td>\n",
       "      <td>Maria</td>\n",
       "      <td>Reed</td>\n",
       "      <td>M</td>\n",
       "      <td>NaN</td>\n",
       "      <td>2025-10-08</td>\n",
       "    </tr>\n",
       "    <tr>\n",
       "      <th>209</th>\n",
       "      <td>11209</td>\n",
       "      <td>AW00011209</td>\n",
       "      <td>Allison</td>\n",
       "      <td>Evans</td>\n",
       "      <td>M</td>\n",
       "      <td>NaN</td>\n",
       "      <td>2025-10-08</td>\n",
       "    </tr>\n",
       "    <tr>\n",
       "      <th>229</th>\n",
       "      <td>11229</td>\n",
       "      <td>AW00011229</td>\n",
       "      <td>Adrian</td>\n",
       "      <td>Stewart</td>\n",
       "      <td>S</td>\n",
       "      <td>NaN</td>\n",
       "      <td>2025-10-08</td>\n",
       "    </tr>\n",
       "    <tr>\n",
       "      <th>259</th>\n",
       "      <td>11259</td>\n",
       "      <td>AW00011259</td>\n",
       "      <td>Victoria</td>\n",
       "      <td>Stewart</td>\n",
       "      <td>M</td>\n",
       "      <td>NaN</td>\n",
       "      <td>2025-10-08</td>\n",
       "    </tr>\n",
       "  </tbody>\n",
       "</table>\n",
       "</div>"
      ],
      "text/plain": [
       "     cst_id     cst_key cst_firstname cst_lastname cst_marital_status  \\\n",
       "0     11000  AW00011000           Jon        Yang                   M   \n",
       "1     11001  AW00011001        Eugene      Huang                    S   \n",
       "2     11002  AW00011002         Ruben       Torres                  M   \n",
       "3     11003  AW00011003       Christy          Zhu                  S   \n",
       "4     11004  AW00011004     Elizabeth      Johnson                  S   \n",
       "12    11012  AW00011012        Lauren       Walker                  M   \n",
       "13    11013  AW00011013          Ian      Jenkins                   M   \n",
       "15    11015  AW00011015         Chloe        Young                  S   \n",
       "21    11021  AW00011021       Destiny      Wilson                   S   \n",
       "63    11063  AW00011063      Angela       Murphy                    S   \n",
       "64    11064  AW00011064         Chase       Reed                    M   \n",
       "65    11065  AW00011065     Jessica     Henderson                   M   \n",
       "66    11066  AW00011066         Grace       Butler                  M   \n",
       "67    11067  AW00011067         Caleb       Carter                  S   \n",
       "70    11070  AW00011070       Willie          Raji                  M   \n",
       "71    11071  AW00011071         Linda      Serrano                  S   \n",
       "86    11086  AW00011086          Ryan        Brown                  M   \n",
       "87    11087  AW00011087        Tamara        Liang                  M   \n",
       "109   11109  AW00011109        Ruben       Kapoor                   S   \n",
       "140   11140  AW00011140       Javier       Alvarez                  S   \n",
       "141   11141  AW00011141        Nicole      Ramirez                  M   \n",
       "167   11167  AW00011167       Jasmine       Barnes                  S   \n",
       "168   11168  AW00011168         David    Rodriguez                  S   \n",
       "170   11170  AW00011170         Carol       Howard                  M   \n",
       "206   11206  AW00011206         Blake      Flores                   M   \n",
       "208   11208  AW00011208        Maria          Reed                  M   \n",
       "209   11209  AW00011209      Allison         Evans                  M   \n",
       "229   11229  AW00011229       Adrian       Stewart                  S   \n",
       "259   11259  AW00011259    Victoria        Stewart                  M   \n",
       "\n",
       "    cst_gndr cst_create_date  \n",
       "0          M      2025-10-06  \n",
       "1          M      2025-10-06  \n",
       "2          M      2025-10-06  \n",
       "3          F      2025-10-06  \n",
       "4          F      2025-10-06  \n",
       "12         F      2025-10-06  \n",
       "13         M      2025-10-06  \n",
       "15         F      2025-10-06  \n",
       "21         F      2025-10-07  \n",
       "63         F      2025-10-07  \n",
       "64         M      2025-10-07  \n",
       "65         F      2025-10-07  \n",
       "66         F      2025-10-07  \n",
       "67         M      2025-10-07  \n",
       "70         M      2025-10-07  \n",
       "71         F      2025-10-07  \n",
       "86         M      2025-10-07  \n",
       "87         F      2025-10-07  \n",
       "109        M      2025-10-07  \n",
       "140        M      2025-10-07  \n",
       "141        F      2025-10-07  \n",
       "167      NaN      2025-10-07  \n",
       "168      NaN      2025-10-07  \n",
       "170      NaN      2025-10-07  \n",
       "206      NaN      2025-10-08  \n",
       "208      NaN      2025-10-08  \n",
       "209      NaN      2025-10-08  \n",
       "229      NaN      2025-10-08  \n",
       "259      NaN      2025-10-08  "
      ]
     },
     "execution_count": 218,
     "metadata": {},
     "output_type": "execute_result"
    }
   ],
   "source": [
    "new_df[(new_df['cst_firstname'] != new_df['cst_firstname'].str.strip()) | \n",
    "       (new_df['cst_lastname'] != new_df['cst_lastname'].str.strip())]"
   ]
  },
  {
   "cell_type": "code",
   "execution_count": 219,
   "metadata": {},
   "outputs": [
    {
     "data": {
      "application/vnd.microsoft.datawrangler.viewer.v0+json": {
       "columns": [
        {
         "name": "index",
         "rawType": "int64",
         "type": "integer"
        },
        {
         "name": "cst_id",
         "rawType": "int64",
         "type": "integer"
        },
        {
         "name": "cst_key",
         "rawType": "object",
         "type": "string"
        },
        {
         "name": "cst_firstname",
         "rawType": "object",
         "type": "string"
        },
        {
         "name": "cst_lastname",
         "rawType": "object",
         "type": "string"
        },
        {
         "name": "cst_marital_status",
         "rawType": "object",
         "type": "string"
        },
        {
         "name": "cst_gndr",
         "rawType": "object",
         "type": "string"
        },
        {
         "name": "cst_create_date",
         "rawType": "datetime64[ns]",
         "type": "datetime"
        }
       ],
       "conversionMethod": "pd.DataFrame",
       "ref": "81194e21-7687-4a12-892c-511fb59f7a49",
       "rows": [],
       "shape": {
        "columns": 7,
        "rows": 0
       }
      },
      "text/html": [
       "<div>\n",
       "<style scoped>\n",
       "    .dataframe tbody tr th:only-of-type {\n",
       "        vertical-align: middle;\n",
       "    }\n",
       "\n",
       "    .dataframe tbody tr th {\n",
       "        vertical-align: top;\n",
       "    }\n",
       "\n",
       "    .dataframe thead th {\n",
       "        text-align: right;\n",
       "    }\n",
       "</style>\n",
       "<table border=\"1\" class=\"dataframe\">\n",
       "  <thead>\n",
       "    <tr style=\"text-align: right;\">\n",
       "      <th></th>\n",
       "      <th>cst_id</th>\n",
       "      <th>cst_key</th>\n",
       "      <th>cst_firstname</th>\n",
       "      <th>cst_lastname</th>\n",
       "      <th>cst_marital_status</th>\n",
       "      <th>cst_gndr</th>\n",
       "      <th>cst_create_date</th>\n",
       "    </tr>\n",
       "  </thead>\n",
       "  <tbody>\n",
       "  </tbody>\n",
       "</table>\n",
       "</div>"
      ],
      "text/plain": [
       "Empty DataFrame\n",
       "Columns: [cst_id, cst_key, cst_firstname, cst_lastname, cst_marital_status, cst_gndr, cst_create_date]\n",
       "Index: []"
      ]
     },
     "execution_count": 219,
     "metadata": {},
     "output_type": "execute_result"
    }
   ],
   "source": [
    "# So I will be striping the cst_firstname and cst_lastname\n",
    "\n",
    "new_df['cst_firstname'] = new_df['cst_firstname'].str.strip()\n",
    "new_df['cst_lastname'] = new_df['cst_lastname'].str.strip()\n",
    "\n",
    "new_df[(new_df['cst_firstname'] != new_df['cst_firstname'].str.strip()) | \n",
    "       (new_df['cst_lastname'] != new_df['cst_lastname'].str.strip())]"
   ]
  },
  {
   "cell_type": "code",
   "execution_count": 220,
   "metadata": {},
   "outputs": [
    {
     "data": {
      "application/vnd.microsoft.datawrangler.viewer.v0+json": {
       "columns": [
        {
         "name": "index",
         "rawType": "int64",
         "type": "integer"
        },
        {
         "name": "cst_id",
         "rawType": "int64",
         "type": "integer"
        },
        {
         "name": "cst_key",
         "rawType": "object",
         "type": "string"
        },
        {
         "name": "cst_firstname",
         "rawType": "object",
         "type": "string"
        },
        {
         "name": "cst_lastname",
         "rawType": "object",
         "type": "string"
        },
        {
         "name": "cst_marital_status",
         "rawType": "object",
         "type": "string"
        },
        {
         "name": "cst_gndr",
         "rawType": "object",
         "type": "string"
        },
        {
         "name": "cst_create_date",
         "rawType": "datetime64[ns]",
         "type": "datetime"
        }
       ],
       "conversionMethod": "pd.DataFrame",
       "ref": "312689f7-be28-4b5b-b491-2c38a079bff4",
       "rows": [
        [
         "0",
         "11000",
         "AW00011000",
         "Jon",
         "Yang",
         "M",
         "M",
         "2025-10-06 00:00:00"
        ],
        [
         "1",
         "11001",
         "AW00011001",
         "Eugene",
         "Huang",
         "S",
         "M",
         "2025-10-06 00:00:00"
        ],
        [
         "2",
         "11002",
         "AW00011002",
         "Ruben",
         "Torres",
         "M",
         "M",
         "2025-10-06 00:00:00"
        ],
        [
         "3",
         "11003",
         "AW00011003",
         "Christy",
         "Zhu",
         "S",
         "F",
         "2025-10-06 00:00:00"
        ],
        [
         "4",
         "11004",
         "AW00011004",
         "Elizabeth",
         "Johnson",
         "S",
         "F",
         "2025-10-06 00:00:00"
        ]
       ],
       "shape": {
        "columns": 7,
        "rows": 5
       }
      },
      "text/html": [
       "<div>\n",
       "<style scoped>\n",
       "    .dataframe tbody tr th:only-of-type {\n",
       "        vertical-align: middle;\n",
       "    }\n",
       "\n",
       "    .dataframe tbody tr th {\n",
       "        vertical-align: top;\n",
       "    }\n",
       "\n",
       "    .dataframe thead th {\n",
       "        text-align: right;\n",
       "    }\n",
       "</style>\n",
       "<table border=\"1\" class=\"dataframe\">\n",
       "  <thead>\n",
       "    <tr style=\"text-align: right;\">\n",
       "      <th></th>\n",
       "      <th>cst_id</th>\n",
       "      <th>cst_key</th>\n",
       "      <th>cst_firstname</th>\n",
       "      <th>cst_lastname</th>\n",
       "      <th>cst_marital_status</th>\n",
       "      <th>cst_gndr</th>\n",
       "      <th>cst_create_date</th>\n",
       "    </tr>\n",
       "  </thead>\n",
       "  <tbody>\n",
       "    <tr>\n",
       "      <th>0</th>\n",
       "      <td>11000</td>\n",
       "      <td>AW00011000</td>\n",
       "      <td>Jon</td>\n",
       "      <td>Yang</td>\n",
       "      <td>M</td>\n",
       "      <td>M</td>\n",
       "      <td>2025-10-06</td>\n",
       "    </tr>\n",
       "    <tr>\n",
       "      <th>1</th>\n",
       "      <td>11001</td>\n",
       "      <td>AW00011001</td>\n",
       "      <td>Eugene</td>\n",
       "      <td>Huang</td>\n",
       "      <td>S</td>\n",
       "      <td>M</td>\n",
       "      <td>2025-10-06</td>\n",
       "    </tr>\n",
       "    <tr>\n",
       "      <th>2</th>\n",
       "      <td>11002</td>\n",
       "      <td>AW00011002</td>\n",
       "      <td>Ruben</td>\n",
       "      <td>Torres</td>\n",
       "      <td>M</td>\n",
       "      <td>M</td>\n",
       "      <td>2025-10-06</td>\n",
       "    </tr>\n",
       "    <tr>\n",
       "      <th>3</th>\n",
       "      <td>11003</td>\n",
       "      <td>AW00011003</td>\n",
       "      <td>Christy</td>\n",
       "      <td>Zhu</td>\n",
       "      <td>S</td>\n",
       "      <td>F</td>\n",
       "      <td>2025-10-06</td>\n",
       "    </tr>\n",
       "    <tr>\n",
       "      <th>4</th>\n",
       "      <td>11004</td>\n",
       "      <td>AW00011004</td>\n",
       "      <td>Elizabeth</td>\n",
       "      <td>Johnson</td>\n",
       "      <td>S</td>\n",
       "      <td>F</td>\n",
       "      <td>2025-10-06</td>\n",
       "    </tr>\n",
       "  </tbody>\n",
       "</table>\n",
       "</div>"
      ],
      "text/plain": [
       "   cst_id     cst_key cst_firstname cst_lastname cst_marital_status cst_gndr  \\\n",
       "0   11000  AW00011000           Jon         Yang                  M        M   \n",
       "1   11001  AW00011001        Eugene        Huang                  S        M   \n",
       "2   11002  AW00011002         Ruben       Torres                  M        M   \n",
       "3   11003  AW00011003       Christy          Zhu                  S        F   \n",
       "4   11004  AW00011004     Elizabeth      Johnson                  S        F   \n",
       "\n",
       "  cst_create_date  \n",
       "0      2025-10-06  \n",
       "1      2025-10-06  \n",
       "2      2025-10-06  \n",
       "3      2025-10-06  \n",
       "4      2025-10-06  "
      ]
     },
     "execution_count": 220,
     "metadata": {},
     "output_type": "execute_result"
    }
   ],
   "source": [
    "new_df.head()"
   ]
  },
  {
   "cell_type": "markdown",
   "metadata": {},
   "source": [
    "##### Notice 3: Data Standardization & Consistency"
   ]
  },
  {
   "cell_type": "code",
   "execution_count": 221,
   "metadata": {},
   "outputs": [
    {
     "name": "stdout",
     "output_type": "stream",
     "text": [
      "['M' 'F' nan]\n"
     ]
    }
   ],
   "source": [
    "print(new_df['cst_gndr'].unique())"
   ]
  },
  {
   "cell_type": "code",
   "execution_count": 222,
   "metadata": {},
   "outputs": [
    {
     "data": {
      "application/vnd.microsoft.datawrangler.viewer.v0+json": {
       "columns": [
        {
         "name": "index",
         "rawType": "int64",
         "type": "integer"
        },
        {
         "name": "cst_id",
         "rawType": "int64",
         "type": "integer"
        },
        {
         "name": "cst_key",
         "rawType": "object",
         "type": "string"
        },
        {
         "name": "cst_firstname",
         "rawType": "object",
         "type": "string"
        },
        {
         "name": "cst_lastname",
         "rawType": "object",
         "type": "string"
        },
        {
         "name": "cst_marital_status",
         "rawType": "object",
         "type": "string"
        },
        {
         "name": "cst_gndr",
         "rawType": "object",
         "type": "string"
        },
        {
         "name": "cst_create_date",
         "rawType": "datetime64[ns]",
         "type": "datetime"
        }
       ],
       "conversionMethod": "pd.DataFrame",
       "ref": "bbe95a09-d3c6-4853-9e75-0134ebc6a67e",
       "rows": [
        [
         "0",
         "11000",
         "AW00011000",
         "Jon",
         "Yang",
         "M",
         "Male",
         "2025-10-06 00:00:00"
        ],
        [
         "1",
         "11001",
         "AW00011001",
         "Eugene",
         "Huang",
         "S",
         "Male",
         "2025-10-06 00:00:00"
        ],
        [
         "2",
         "11002",
         "AW00011002",
         "Ruben",
         "Torres",
         "M",
         "Male",
         "2025-10-06 00:00:00"
        ],
        [
         "3",
         "11003",
         "AW00011003",
         "Christy",
         "Zhu",
         "S",
         "Female",
         "2025-10-06 00:00:00"
        ],
        [
         "4",
         "11004",
         "AW00011004",
         "Elizabeth",
         "Johnson",
         "S",
         "Female",
         "2025-10-06 00:00:00"
        ],
        [
         "5",
         "11005",
         "AW00011005",
         "Julio",
         "Ruiz",
         "S",
         "Male",
         "2025-10-06 00:00:00"
        ],
        [
         "6",
         "11006",
         "AW00011006",
         "Janet",
         "Alvarez",
         "S",
         "Female",
         "2025-10-06 00:00:00"
        ],
        [
         "7",
         "11007",
         "AW00011007",
         "Marco",
         "Mehta",
         "M",
         "Male",
         "2025-10-06 00:00:00"
        ],
        [
         "8",
         "11008",
         "AW00011008",
         "Rob",
         "Verhoff",
         "S",
         "Female",
         "2025-10-06 00:00:00"
        ],
        [
         "9",
         "11009",
         "AW00011009",
         "Shannon",
         "Carlson",
         "S",
         "Male",
         "2025-10-06 00:00:00"
        ],
        [
         "10",
         "11010",
         "AW00011010",
         "Jacquelyn",
         "Suarez",
         "S",
         "Female",
         "2025-10-06 00:00:00"
        ],
        [
         "11",
         "11011",
         "AW00011011",
         "Curtis",
         "Lu",
         "M",
         "Male",
         "2025-10-06 00:00:00"
        ],
        [
         "12",
         "11012",
         "AW00011012",
         "Lauren",
         "Walker",
         "M",
         "Female",
         "2025-10-06 00:00:00"
        ],
        [
         "13",
         "11013",
         "AW00011013",
         "Ian",
         "Jenkins",
         "M",
         "Male",
         "2025-10-06 00:00:00"
        ],
        [
         "14",
         "11014",
         "AW00011014",
         "Sydney",
         "Bennett",
         "S",
         "Female",
         "2025-10-06 00:00:00"
        ],
        [
         "15",
         "11015",
         "AW00011015",
         "Chloe",
         "Young",
         "S",
         "Female",
         "2025-10-06 00:00:00"
        ],
        [
         "16",
         "11016",
         "AW00011016",
         "Wyatt",
         "Hill",
         "M",
         "Male",
         "2025-10-07 00:00:00"
        ],
        [
         "17",
         "11017",
         "AW00011017",
         "Shannon",
         "Wang",
         "S",
         "Female",
         "2025-10-07 00:00:00"
        ],
        [
         "18",
         "11018",
         "AW00011018",
         "Clarence",
         "Rai",
         "S",
         "Male",
         "2025-10-07 00:00:00"
        ],
        [
         "19",
         "11019",
         "AW00011019",
         "Luke",
         "Lal",
         "S",
         "Male",
         "2025-10-07 00:00:00"
        ],
        [
         "20",
         "11020",
         "AW00011020",
         "Jordan",
         "King",
         "S",
         "Male",
         "2025-10-07 00:00:00"
        ],
        [
         "21",
         "11021",
         "AW00011021",
         "Destiny",
         "Wilson",
         "S",
         "Female",
         "2025-10-07 00:00:00"
        ],
        [
         "22",
         "11022",
         "AW00011022",
         "Ethan",
         "Zhang",
         "M",
         "Male",
         "2025-10-07 00:00:00"
        ],
        [
         "23",
         "11023",
         "AW00011023",
         "Seth",
         "Edwards",
         "M",
         "Male",
         "2025-10-07 00:00:00"
        ],
        [
         "24",
         "11024",
         "AW00011024",
         "Russell",
         "Xie",
         "M",
         "Male",
         "2025-10-07 00:00:00"
        ],
        [
         "25",
         "11025",
         "AW00011025",
         "Alejandro",
         "Beck",
         "M",
         "Male",
         "2025-10-07 00:00:00"
        ],
        [
         "26",
         "11026",
         "AW00011026",
         "Harold",
         "Sai",
         "S",
         "Male",
         "2025-10-07 00:00:00"
        ],
        [
         "27",
         "11027",
         "AW00011027",
         "Jessie",
         "Zhao",
         "M",
         "Male",
         "2025-10-07 00:00:00"
        ],
        [
         "28",
         "11028",
         "AW00011028",
         "Jill",
         "Jimenez",
         "M",
         "Female",
         "2025-10-07 00:00:00"
        ],
        [
         "29",
         "11029",
         "AW00011029",
         "Jimmy",
         "Moreno",
         "M",
         "Male",
         "2025-10-07 00:00:00"
        ],
        [
         "30",
         "11030",
         "AW00011030",
         "Bethany",
         "Yuan",
         "M",
         "Female",
         "2025-10-07 00:00:00"
        ],
        [
         "31",
         "11031",
         "AW00011031",
         "Theresa",
         "Ramos",
         "M",
         "Female",
         "2025-10-07 00:00:00"
        ],
        [
         "32",
         "11032",
         "AW00011032",
         "Denise",
         "Stone",
         "M",
         "Female",
         "2025-10-07 00:00:00"
        ],
        [
         "33",
         "11033",
         "AW00011033",
         "Jaime",
         "Nath",
         "M",
         "Male",
         "2025-10-07 00:00:00"
        ],
        [
         "34",
         "11034",
         "AW00011034",
         "Ebony",
         "Gonzalez",
         "M",
         "Female",
         "2025-10-07 00:00:00"
        ],
        [
         "35",
         "11035",
         "AW00011035",
         "Wendy",
         "Dominguez",
         "M",
         "Female",
         "2025-10-07 00:00:00"
        ],
        [
         "36",
         "11036",
         "AW00011036",
         "Jennifer",
         "Russell",
         "M",
         "Female",
         "2025-10-07 00:00:00"
        ],
        [
         "37",
         "11037",
         "AW00011037",
         "Chloe",
         "Garcia",
         "S",
         "Female",
         "2025-10-07 00:00:00"
        ],
        [
         "38",
         "11038",
         "AW00011038",
         "Diana",
         "Hernandez",
         "M",
         "Female",
         "2025-10-07 00:00:00"
        ],
        [
         "39",
         "11039",
         "AW00011039",
         "Marc",
         "Martin",
         "M",
         "Male",
         "2025-10-07 00:00:00"
        ],
        [
         "40",
         "11040",
         "AW00011040",
         "Jesse",
         "Murphy",
         "M",
         "Male",
         "2025-10-07 00:00:00"
        ],
        [
         "41",
         "11041",
         "AW00011041",
         "Amanda",
         "Carter",
         "M",
         "Female",
         "2025-10-07 00:00:00"
        ],
        [
         "42",
         "11042",
         "AW00011042",
         "Megan",
         "Sanchez",
         "M",
         "Female",
         "2025-10-07 00:00:00"
        ],
        [
         "43",
         "11043",
         "AW00011043",
         "Nathan",
         "Simmons",
         "M",
         "Male",
         "2025-10-07 00:00:00"
        ],
        [
         "44",
         "11044",
         "AW00011044",
         "Adam",
         "Flores",
         "M",
         "Male",
         "2025-10-07 00:00:00"
        ],
        [
         "45",
         "11045",
         "AW00011045",
         "Leonard",
         "Nara",
         "S",
         "Male",
         "2025-10-07 00:00:00"
        ],
        [
         "46",
         "11046",
         "AW00011046",
         "Christine",
         "Yuan",
         "M",
         "Female",
         "2025-10-07 00:00:00"
        ],
        [
         "47",
         "11047",
         "AW00011047",
         "Jaclyn",
         "Lu",
         "M",
         "Female",
         "2025-10-07 00:00:00"
        ],
        [
         "48",
         "11048",
         "AW00011048",
         "Jeremy",
         "Powell",
         "M",
         "Male",
         "2025-10-07 00:00:00"
        ],
        [
         "49",
         "11049",
         "AW00011049",
         "Carol",
         "Rai",
         "S",
         "Female",
         "2025-10-07 00:00:00"
        ]
       ],
       "shape": {
        "columns": 7,
        "rows": 18484
       }
      },
      "text/html": [
       "<div>\n",
       "<style scoped>\n",
       "    .dataframe tbody tr th:only-of-type {\n",
       "        vertical-align: middle;\n",
       "    }\n",
       "\n",
       "    .dataframe tbody tr th {\n",
       "        vertical-align: top;\n",
       "    }\n",
       "\n",
       "    .dataframe thead th {\n",
       "        text-align: right;\n",
       "    }\n",
       "</style>\n",
       "<table border=\"1\" class=\"dataframe\">\n",
       "  <thead>\n",
       "    <tr style=\"text-align: right;\">\n",
       "      <th></th>\n",
       "      <th>cst_id</th>\n",
       "      <th>cst_key</th>\n",
       "      <th>cst_firstname</th>\n",
       "      <th>cst_lastname</th>\n",
       "      <th>cst_marital_status</th>\n",
       "      <th>cst_gndr</th>\n",
       "      <th>cst_create_date</th>\n",
       "    </tr>\n",
       "  </thead>\n",
       "  <tbody>\n",
       "    <tr>\n",
       "      <th>0</th>\n",
       "      <td>11000</td>\n",
       "      <td>AW00011000</td>\n",
       "      <td>Jon</td>\n",
       "      <td>Yang</td>\n",
       "      <td>M</td>\n",
       "      <td>Male</td>\n",
       "      <td>2025-10-06</td>\n",
       "    </tr>\n",
       "    <tr>\n",
       "      <th>1</th>\n",
       "      <td>11001</td>\n",
       "      <td>AW00011001</td>\n",
       "      <td>Eugene</td>\n",
       "      <td>Huang</td>\n",
       "      <td>S</td>\n",
       "      <td>Male</td>\n",
       "      <td>2025-10-06</td>\n",
       "    </tr>\n",
       "    <tr>\n",
       "      <th>2</th>\n",
       "      <td>11002</td>\n",
       "      <td>AW00011002</td>\n",
       "      <td>Ruben</td>\n",
       "      <td>Torres</td>\n",
       "      <td>M</td>\n",
       "      <td>Male</td>\n",
       "      <td>2025-10-06</td>\n",
       "    </tr>\n",
       "    <tr>\n",
       "      <th>3</th>\n",
       "      <td>11003</td>\n",
       "      <td>AW00011003</td>\n",
       "      <td>Christy</td>\n",
       "      <td>Zhu</td>\n",
       "      <td>S</td>\n",
       "      <td>Female</td>\n",
       "      <td>2025-10-06</td>\n",
       "    </tr>\n",
       "    <tr>\n",
       "      <th>4</th>\n",
       "      <td>11004</td>\n",
       "      <td>AW00011004</td>\n",
       "      <td>Elizabeth</td>\n",
       "      <td>Johnson</td>\n",
       "      <td>S</td>\n",
       "      <td>Female</td>\n",
       "      <td>2025-10-06</td>\n",
       "    </tr>\n",
       "    <tr>\n",
       "      <th>...</th>\n",
       "      <td>...</td>\n",
       "      <td>...</td>\n",
       "      <td>...</td>\n",
       "      <td>...</td>\n",
       "      <td>...</td>\n",
       "      <td>...</td>\n",
       "      <td>...</td>\n",
       "    </tr>\n",
       "    <tr>\n",
       "      <th>18486</th>\n",
       "      <td>29479</td>\n",
       "      <td>AW00029479</td>\n",
       "      <td>Tommy</td>\n",
       "      <td>Tang</td>\n",
       "      <td>M</td>\n",
       "      <td>Unknown</td>\n",
       "      <td>2026-01-25</td>\n",
       "    </tr>\n",
       "    <tr>\n",
       "      <th>18487</th>\n",
       "      <td>29480</td>\n",
       "      <td>AW00029480</td>\n",
       "      <td>Nina</td>\n",
       "      <td>Raji</td>\n",
       "      <td>S</td>\n",
       "      <td>Unknown</td>\n",
       "      <td>2026-01-25</td>\n",
       "    </tr>\n",
       "    <tr>\n",
       "      <th>18488</th>\n",
       "      <td>29481</td>\n",
       "      <td>AW00029481</td>\n",
       "      <td>Ivan</td>\n",
       "      <td>Suri</td>\n",
       "      <td>S</td>\n",
       "      <td>Unknown</td>\n",
       "      <td>2026-01-25</td>\n",
       "    </tr>\n",
       "    <tr>\n",
       "      <th>18489</th>\n",
       "      <td>29482</td>\n",
       "      <td>AW00029482</td>\n",
       "      <td>Clayton</td>\n",
       "      <td>Zhang</td>\n",
       "      <td>M</td>\n",
       "      <td>Unknown</td>\n",
       "      <td>2026-01-25</td>\n",
       "    </tr>\n",
       "    <tr>\n",
       "      <th>18491</th>\n",
       "      <td>29483</td>\n",
       "      <td>AW00029483</td>\n",
       "      <td>Marc</td>\n",
       "      <td>Navarro</td>\n",
       "      <td>M</td>\n",
       "      <td>Unknown</td>\n",
       "      <td>2026-01-27</td>\n",
       "    </tr>\n",
       "  </tbody>\n",
       "</table>\n",
       "<p>18484 rows × 7 columns</p>\n",
       "</div>"
      ],
      "text/plain": [
       "       cst_id     cst_key cst_firstname cst_lastname cst_marital_status  \\\n",
       "0       11000  AW00011000           Jon         Yang                  M   \n",
       "1       11001  AW00011001        Eugene        Huang                  S   \n",
       "2       11002  AW00011002         Ruben       Torres                  M   \n",
       "3       11003  AW00011003       Christy          Zhu                  S   \n",
       "4       11004  AW00011004     Elizabeth      Johnson                  S   \n",
       "...       ...         ...           ...          ...                ...   \n",
       "18486   29479  AW00029479         Tommy         Tang                  M   \n",
       "18487   29480  AW00029480          Nina         Raji                  S   \n",
       "18488   29481  AW00029481          Ivan         Suri                  S   \n",
       "18489   29482  AW00029482       Clayton        Zhang                  M   \n",
       "18491   29483  AW00029483          Marc      Navarro                  M   \n",
       "\n",
       "      cst_gndr cst_create_date  \n",
       "0         Male      2025-10-06  \n",
       "1         Male      2025-10-06  \n",
       "2         Male      2025-10-06  \n",
       "3       Female      2025-10-06  \n",
       "4       Female      2025-10-06  \n",
       "...        ...             ...  \n",
       "18486  Unknown      2026-01-25  \n",
       "18487  Unknown      2026-01-25  \n",
       "18488  Unknown      2026-01-25  \n",
       "18489  Unknown      2026-01-25  \n",
       "18491  Unknown      2026-01-27  \n",
       "\n",
       "[18484 rows x 7 columns]"
      ]
     },
     "execution_count": 222,
     "metadata": {},
     "output_type": "execute_result"
    }
   ],
   "source": [
    "# Function to standardize gender values\n",
    "def standardization(x):\n",
    "    if pd.isna(x):  # Check for NaN values\n",
    "        return 'Unknown'\n",
    "    \n",
    "    x = x.upper()  # Convert to uppercase for consistency\n",
    "    \n",
    "    if x == 'F':\n",
    "        return 'Female'\n",
    "    elif x == 'M':\n",
    "        return 'Male'\n",
    "    else:\n",
    "        return 'Unknown'\n",
    "\n",
    "# Apply function to the column\n",
    "new_df['cst_gndr'] = new_df['cst_gndr'].apply(standardization)\n",
    "\n",
    "new_df"
   ]
  },
  {
   "cell_type": "code",
   "execution_count": 223,
   "metadata": {},
   "outputs": [
    {
     "name": "stdout",
     "output_type": "stream",
     "text": [
      "(4569, 7)\n"
     ]
    }
   ],
   "source": [
    "print(new_df[new_df['cst_gndr'] == 'Unknown'].shape)"
   ]
  },
  {
   "cell_type": "code",
   "execution_count": 224,
   "metadata": {},
   "outputs": [
    {
     "name": "stdout",
     "output_type": "stream",
     "text": [
      "(13915, 7)\n"
     ]
    }
   ],
   "source": [
    "print(new_df[new_df['cst_gndr'] != 'Unknown'].shape)"
   ]
  },
  {
   "cell_type": "code",
   "execution_count": 225,
   "metadata": {},
   "outputs": [
    {
     "name": "stdout",
     "output_type": "stream",
     "text": [
      "['M' 'S']\n"
     ]
    }
   ],
   "source": [
    "print(new_df['cst_marital_status'].unique())"
   ]
  },
  {
   "cell_type": "code",
   "execution_count": 226,
   "metadata": {},
   "outputs": [
    {
     "data": {
      "application/vnd.microsoft.datawrangler.viewer.v0+json": {
       "columns": [
        {
         "name": "index",
         "rawType": "int64",
         "type": "integer"
        },
        {
         "name": "cst_id",
         "rawType": "int64",
         "type": "integer"
        },
        {
         "name": "cst_key",
         "rawType": "object",
         "type": "string"
        },
        {
         "name": "cst_firstname",
         "rawType": "object",
         "type": "string"
        },
        {
         "name": "cst_lastname",
         "rawType": "object",
         "type": "string"
        },
        {
         "name": "cst_marital_status",
         "rawType": "object",
         "type": "string"
        },
        {
         "name": "cst_gndr",
         "rawType": "object",
         "type": "string"
        },
        {
         "name": "cst_create_date",
         "rawType": "datetime64[ns]",
         "type": "datetime"
        }
       ],
       "conversionMethod": "pd.DataFrame",
       "ref": "1c2f12c2-5b9b-433b-b1ab-afc2e281343e",
       "rows": [
        [
         "0",
         "11000",
         "AW00011000",
         "Jon",
         "Yang",
         "Married",
         "Male",
         "2025-10-06 00:00:00"
        ],
        [
         "1",
         "11001",
         "AW00011001",
         "Eugene",
         "Huang",
         "Single",
         "Male",
         "2025-10-06 00:00:00"
        ],
        [
         "2",
         "11002",
         "AW00011002",
         "Ruben",
         "Torres",
         "Married",
         "Male",
         "2025-10-06 00:00:00"
        ],
        [
         "3",
         "11003",
         "AW00011003",
         "Christy",
         "Zhu",
         "Single",
         "Female",
         "2025-10-06 00:00:00"
        ],
        [
         "4",
         "11004",
         "AW00011004",
         "Elizabeth",
         "Johnson",
         "Single",
         "Female",
         "2025-10-06 00:00:00"
        ],
        [
         "5",
         "11005",
         "AW00011005",
         "Julio",
         "Ruiz",
         "Single",
         "Male",
         "2025-10-06 00:00:00"
        ],
        [
         "6",
         "11006",
         "AW00011006",
         "Janet",
         "Alvarez",
         "Single",
         "Female",
         "2025-10-06 00:00:00"
        ],
        [
         "7",
         "11007",
         "AW00011007",
         "Marco",
         "Mehta",
         "Married",
         "Male",
         "2025-10-06 00:00:00"
        ],
        [
         "8",
         "11008",
         "AW00011008",
         "Rob",
         "Verhoff",
         "Single",
         "Female",
         "2025-10-06 00:00:00"
        ],
        [
         "9",
         "11009",
         "AW00011009",
         "Shannon",
         "Carlson",
         "Single",
         "Male",
         "2025-10-06 00:00:00"
        ],
        [
         "10",
         "11010",
         "AW00011010",
         "Jacquelyn",
         "Suarez",
         "Single",
         "Female",
         "2025-10-06 00:00:00"
        ],
        [
         "11",
         "11011",
         "AW00011011",
         "Curtis",
         "Lu",
         "Married",
         "Male",
         "2025-10-06 00:00:00"
        ],
        [
         "12",
         "11012",
         "AW00011012",
         "Lauren",
         "Walker",
         "Married",
         "Female",
         "2025-10-06 00:00:00"
        ],
        [
         "13",
         "11013",
         "AW00011013",
         "Ian",
         "Jenkins",
         "Married",
         "Male",
         "2025-10-06 00:00:00"
        ],
        [
         "14",
         "11014",
         "AW00011014",
         "Sydney",
         "Bennett",
         "Single",
         "Female",
         "2025-10-06 00:00:00"
        ],
        [
         "15",
         "11015",
         "AW00011015",
         "Chloe",
         "Young",
         "Single",
         "Female",
         "2025-10-06 00:00:00"
        ],
        [
         "16",
         "11016",
         "AW00011016",
         "Wyatt",
         "Hill",
         "Married",
         "Male",
         "2025-10-07 00:00:00"
        ],
        [
         "17",
         "11017",
         "AW00011017",
         "Shannon",
         "Wang",
         "Single",
         "Female",
         "2025-10-07 00:00:00"
        ],
        [
         "18",
         "11018",
         "AW00011018",
         "Clarence",
         "Rai",
         "Single",
         "Male",
         "2025-10-07 00:00:00"
        ],
        [
         "19",
         "11019",
         "AW00011019",
         "Luke",
         "Lal",
         "Single",
         "Male",
         "2025-10-07 00:00:00"
        ],
        [
         "20",
         "11020",
         "AW00011020",
         "Jordan",
         "King",
         "Single",
         "Male",
         "2025-10-07 00:00:00"
        ],
        [
         "21",
         "11021",
         "AW00011021",
         "Destiny",
         "Wilson",
         "Single",
         "Female",
         "2025-10-07 00:00:00"
        ],
        [
         "22",
         "11022",
         "AW00011022",
         "Ethan",
         "Zhang",
         "Married",
         "Male",
         "2025-10-07 00:00:00"
        ],
        [
         "23",
         "11023",
         "AW00011023",
         "Seth",
         "Edwards",
         "Married",
         "Male",
         "2025-10-07 00:00:00"
        ],
        [
         "24",
         "11024",
         "AW00011024",
         "Russell",
         "Xie",
         "Married",
         "Male",
         "2025-10-07 00:00:00"
        ],
        [
         "25",
         "11025",
         "AW00011025",
         "Alejandro",
         "Beck",
         "Married",
         "Male",
         "2025-10-07 00:00:00"
        ],
        [
         "26",
         "11026",
         "AW00011026",
         "Harold",
         "Sai",
         "Single",
         "Male",
         "2025-10-07 00:00:00"
        ],
        [
         "27",
         "11027",
         "AW00011027",
         "Jessie",
         "Zhao",
         "Married",
         "Male",
         "2025-10-07 00:00:00"
        ],
        [
         "28",
         "11028",
         "AW00011028",
         "Jill",
         "Jimenez",
         "Married",
         "Female",
         "2025-10-07 00:00:00"
        ],
        [
         "29",
         "11029",
         "AW00011029",
         "Jimmy",
         "Moreno",
         "Married",
         "Male",
         "2025-10-07 00:00:00"
        ],
        [
         "30",
         "11030",
         "AW00011030",
         "Bethany",
         "Yuan",
         "Married",
         "Female",
         "2025-10-07 00:00:00"
        ],
        [
         "31",
         "11031",
         "AW00011031",
         "Theresa",
         "Ramos",
         "Married",
         "Female",
         "2025-10-07 00:00:00"
        ],
        [
         "32",
         "11032",
         "AW00011032",
         "Denise",
         "Stone",
         "Married",
         "Female",
         "2025-10-07 00:00:00"
        ],
        [
         "33",
         "11033",
         "AW00011033",
         "Jaime",
         "Nath",
         "Married",
         "Male",
         "2025-10-07 00:00:00"
        ],
        [
         "34",
         "11034",
         "AW00011034",
         "Ebony",
         "Gonzalez",
         "Married",
         "Female",
         "2025-10-07 00:00:00"
        ],
        [
         "35",
         "11035",
         "AW00011035",
         "Wendy",
         "Dominguez",
         "Married",
         "Female",
         "2025-10-07 00:00:00"
        ],
        [
         "36",
         "11036",
         "AW00011036",
         "Jennifer",
         "Russell",
         "Married",
         "Female",
         "2025-10-07 00:00:00"
        ],
        [
         "37",
         "11037",
         "AW00011037",
         "Chloe",
         "Garcia",
         "Single",
         "Female",
         "2025-10-07 00:00:00"
        ],
        [
         "38",
         "11038",
         "AW00011038",
         "Diana",
         "Hernandez",
         "Married",
         "Female",
         "2025-10-07 00:00:00"
        ],
        [
         "39",
         "11039",
         "AW00011039",
         "Marc",
         "Martin",
         "Married",
         "Male",
         "2025-10-07 00:00:00"
        ],
        [
         "40",
         "11040",
         "AW00011040",
         "Jesse",
         "Murphy",
         "Married",
         "Male",
         "2025-10-07 00:00:00"
        ],
        [
         "41",
         "11041",
         "AW00011041",
         "Amanda",
         "Carter",
         "Married",
         "Female",
         "2025-10-07 00:00:00"
        ],
        [
         "42",
         "11042",
         "AW00011042",
         "Megan",
         "Sanchez",
         "Married",
         "Female",
         "2025-10-07 00:00:00"
        ],
        [
         "43",
         "11043",
         "AW00011043",
         "Nathan",
         "Simmons",
         "Married",
         "Male",
         "2025-10-07 00:00:00"
        ],
        [
         "44",
         "11044",
         "AW00011044",
         "Adam",
         "Flores",
         "Married",
         "Male",
         "2025-10-07 00:00:00"
        ],
        [
         "45",
         "11045",
         "AW00011045",
         "Leonard",
         "Nara",
         "Single",
         "Male",
         "2025-10-07 00:00:00"
        ],
        [
         "46",
         "11046",
         "AW00011046",
         "Christine",
         "Yuan",
         "Married",
         "Female",
         "2025-10-07 00:00:00"
        ],
        [
         "47",
         "11047",
         "AW00011047",
         "Jaclyn",
         "Lu",
         "Married",
         "Female",
         "2025-10-07 00:00:00"
        ],
        [
         "48",
         "11048",
         "AW00011048",
         "Jeremy",
         "Powell",
         "Married",
         "Male",
         "2025-10-07 00:00:00"
        ],
        [
         "49",
         "11049",
         "AW00011049",
         "Carol",
         "Rai",
         "Single",
         "Female",
         "2025-10-07 00:00:00"
        ]
       ],
       "shape": {
        "columns": 7,
        "rows": 18484
       }
      },
      "text/html": [
       "<div>\n",
       "<style scoped>\n",
       "    .dataframe tbody tr th:only-of-type {\n",
       "        vertical-align: middle;\n",
       "    }\n",
       "\n",
       "    .dataframe tbody tr th {\n",
       "        vertical-align: top;\n",
       "    }\n",
       "\n",
       "    .dataframe thead th {\n",
       "        text-align: right;\n",
       "    }\n",
       "</style>\n",
       "<table border=\"1\" class=\"dataframe\">\n",
       "  <thead>\n",
       "    <tr style=\"text-align: right;\">\n",
       "      <th></th>\n",
       "      <th>cst_id</th>\n",
       "      <th>cst_key</th>\n",
       "      <th>cst_firstname</th>\n",
       "      <th>cst_lastname</th>\n",
       "      <th>cst_marital_status</th>\n",
       "      <th>cst_gndr</th>\n",
       "      <th>cst_create_date</th>\n",
       "    </tr>\n",
       "  </thead>\n",
       "  <tbody>\n",
       "    <tr>\n",
       "      <th>0</th>\n",
       "      <td>11000</td>\n",
       "      <td>AW00011000</td>\n",
       "      <td>Jon</td>\n",
       "      <td>Yang</td>\n",
       "      <td>Married</td>\n",
       "      <td>Male</td>\n",
       "      <td>2025-10-06</td>\n",
       "    </tr>\n",
       "    <tr>\n",
       "      <th>1</th>\n",
       "      <td>11001</td>\n",
       "      <td>AW00011001</td>\n",
       "      <td>Eugene</td>\n",
       "      <td>Huang</td>\n",
       "      <td>Single</td>\n",
       "      <td>Male</td>\n",
       "      <td>2025-10-06</td>\n",
       "    </tr>\n",
       "    <tr>\n",
       "      <th>2</th>\n",
       "      <td>11002</td>\n",
       "      <td>AW00011002</td>\n",
       "      <td>Ruben</td>\n",
       "      <td>Torres</td>\n",
       "      <td>Married</td>\n",
       "      <td>Male</td>\n",
       "      <td>2025-10-06</td>\n",
       "    </tr>\n",
       "    <tr>\n",
       "      <th>3</th>\n",
       "      <td>11003</td>\n",
       "      <td>AW00011003</td>\n",
       "      <td>Christy</td>\n",
       "      <td>Zhu</td>\n",
       "      <td>Single</td>\n",
       "      <td>Female</td>\n",
       "      <td>2025-10-06</td>\n",
       "    </tr>\n",
       "    <tr>\n",
       "      <th>4</th>\n",
       "      <td>11004</td>\n",
       "      <td>AW00011004</td>\n",
       "      <td>Elizabeth</td>\n",
       "      <td>Johnson</td>\n",
       "      <td>Single</td>\n",
       "      <td>Female</td>\n",
       "      <td>2025-10-06</td>\n",
       "    </tr>\n",
       "    <tr>\n",
       "      <th>...</th>\n",
       "      <td>...</td>\n",
       "      <td>...</td>\n",
       "      <td>...</td>\n",
       "      <td>...</td>\n",
       "      <td>...</td>\n",
       "      <td>...</td>\n",
       "      <td>...</td>\n",
       "    </tr>\n",
       "    <tr>\n",
       "      <th>18486</th>\n",
       "      <td>29479</td>\n",
       "      <td>AW00029479</td>\n",
       "      <td>Tommy</td>\n",
       "      <td>Tang</td>\n",
       "      <td>Married</td>\n",
       "      <td>Unknown</td>\n",
       "      <td>2026-01-25</td>\n",
       "    </tr>\n",
       "    <tr>\n",
       "      <th>18487</th>\n",
       "      <td>29480</td>\n",
       "      <td>AW00029480</td>\n",
       "      <td>Nina</td>\n",
       "      <td>Raji</td>\n",
       "      <td>Single</td>\n",
       "      <td>Unknown</td>\n",
       "      <td>2026-01-25</td>\n",
       "    </tr>\n",
       "    <tr>\n",
       "      <th>18488</th>\n",
       "      <td>29481</td>\n",
       "      <td>AW00029481</td>\n",
       "      <td>Ivan</td>\n",
       "      <td>Suri</td>\n",
       "      <td>Single</td>\n",
       "      <td>Unknown</td>\n",
       "      <td>2026-01-25</td>\n",
       "    </tr>\n",
       "    <tr>\n",
       "      <th>18489</th>\n",
       "      <td>29482</td>\n",
       "      <td>AW00029482</td>\n",
       "      <td>Clayton</td>\n",
       "      <td>Zhang</td>\n",
       "      <td>Married</td>\n",
       "      <td>Unknown</td>\n",
       "      <td>2026-01-25</td>\n",
       "    </tr>\n",
       "    <tr>\n",
       "      <th>18491</th>\n",
       "      <td>29483</td>\n",
       "      <td>AW00029483</td>\n",
       "      <td>Marc</td>\n",
       "      <td>Navarro</td>\n",
       "      <td>Married</td>\n",
       "      <td>Unknown</td>\n",
       "      <td>2026-01-27</td>\n",
       "    </tr>\n",
       "  </tbody>\n",
       "</table>\n",
       "<p>18484 rows × 7 columns</p>\n",
       "</div>"
      ],
      "text/plain": [
       "       cst_id     cst_key cst_firstname cst_lastname cst_marital_status  \\\n",
       "0       11000  AW00011000           Jon         Yang            Married   \n",
       "1       11001  AW00011001        Eugene        Huang             Single   \n",
       "2       11002  AW00011002         Ruben       Torres            Married   \n",
       "3       11003  AW00011003       Christy          Zhu             Single   \n",
       "4       11004  AW00011004     Elizabeth      Johnson             Single   \n",
       "...       ...         ...           ...          ...                ...   \n",
       "18486   29479  AW00029479         Tommy         Tang            Married   \n",
       "18487   29480  AW00029480          Nina         Raji             Single   \n",
       "18488   29481  AW00029481          Ivan         Suri             Single   \n",
       "18489   29482  AW00029482       Clayton        Zhang            Married   \n",
       "18491   29483  AW00029483          Marc      Navarro            Married   \n",
       "\n",
       "      cst_gndr cst_create_date  \n",
       "0         Male      2025-10-06  \n",
       "1         Male      2025-10-06  \n",
       "2         Male      2025-10-06  \n",
       "3       Female      2025-10-06  \n",
       "4       Female      2025-10-06  \n",
       "...        ...             ...  \n",
       "18486  Unknown      2026-01-25  \n",
       "18487  Unknown      2026-01-25  \n",
       "18488  Unknown      2026-01-25  \n",
       "18489  Unknown      2026-01-25  \n",
       "18491  Unknown      2026-01-27  \n",
       "\n",
       "[18484 rows x 7 columns]"
      ]
     },
     "execution_count": 226,
     "metadata": {},
     "output_type": "execute_result"
    }
   ],
   "source": [
    "## A function to standardize the cst_marital_status column\n",
    "def standardize_cst_marital_status(x):\n",
    "    x = x.strip().upper()  # Convert to uppercase for consistency\n",
    "    \n",
    "    if x == 'S':\n",
    "        return 'Single'\n",
    "    elif x == 'M':\n",
    "        return 'Married'\n",
    "    else:\n",
    "        return 'Unknown'\n",
    "    \n",
    "# Apply function to the column\n",
    "\n",
    "new_df['cst_marital_status'] = new_df['cst_marital_status'].apply(standardize_cst_marital_status)\n",
    "\n",
    "new_df"
   ]
  },
  {
   "cell_type": "code",
   "execution_count": 227,
   "metadata": {},
   "outputs": [
    {
     "name": "stdout",
     "output_type": "stream",
     "text": [
      "(0, 7)\n"
     ]
    }
   ],
   "source": [
    "print(new_df[new_df['cst_marital_status'] == 'Unknown'].shape)"
   ]
  },
  {
   "cell_type": "code",
   "execution_count": null,
   "metadata": {},
   "outputs": [
    {
     "name": "stdout",
     "output_type": "stream",
     "text": [
      "(18484, 7)\n"
     ]
    },
    {
     "ename": "",
     "evalue": "",
     "output_type": "error",
     "traceback": [
      "\u001b[1;31mThe Kernel crashed while executing code in the current cell or a previous cell. \n",
      "\u001b[1;31mPlease review the code in the cell(s) to identify a possible cause of the failure. \n",
      "\u001b[1;31mClick <a href='https://aka.ms/vscodeJupyterKernelCrash'>here</a> for more info. \n",
      "\u001b[1;31mView Jupyter <a href='command:jupyter.viewOutput'>log</a> for further details."
     ]
    }
   ],
   "source": [
    "print(new_df[new_df['cst_marital_status']!= 'Unknown'].shape)"
   ]
  }
 ],
 "metadata": {
  "kernelspec": {
   "display_name": "warehouse_env",
   "language": "python",
   "name": "python3"
  },
  "language_info": {
   "codemirror_mode": {
    "name": "ipython",
    "version": 3
   },
   "file_extension": ".py",
   "mimetype": "text/x-python",
   "name": "python",
   "nbconvert_exporter": "python",
   "pygments_lexer": "ipython3",
   "version": "3.13.2"
  }
 },
 "nbformat": 4,
 "nbformat_minor": 2
}

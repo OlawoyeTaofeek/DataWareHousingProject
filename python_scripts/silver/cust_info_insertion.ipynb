{
 "cells": [
  {
   "cell_type": "code",
   "execution_count": 68,
   "metadata": {},
   "outputs": [],
   "source": [
    "import pandas as pd  \n",
    "import numpy as np  "
   ]
  },
  {
   "cell_type": "code",
   "execution_count": 69,
   "metadata": {},
   "outputs": [],
   "source": [
    "## Additional Functions needed\n",
    "\n",
    "# Function to standardize marital status values\n",
    "def standardize_cst_marital_status(x):\n",
    "    x = x.strip().upper()  # Convert to uppercase for consistency\n",
    "    \n",
    "    if x == 'S':\n",
    "        return 'Single'\n",
    "    elif x == 'M':\n",
    "        return 'Married'\n",
    "    else:\n",
    "        return 'Unknown'\n",
    "    \n",
    "# Function to standardize gender values\n",
    "def standardization(x):\n",
    "    if pd.isna(x):  # Check for NaN values\n",
    "        return 'Unknown'\n",
    "    \n",
    "    x = x.upper()  # Convert to uppercase for consistency\n",
    "    return 'Female' if x == 'F' else 'Male' if x == 'M' else 'Unknown'"
   ]
  },
  {
   "cell_type": "code",
   "execution_count": 70,
   "metadata": {},
   "outputs": [],
   "source": [
    "import os\n",
    "from datetime import datetime"
   ]
  },
  {
   "cell_type": "code",
   "execution_count": 71,
   "metadata": {},
   "outputs": [
    {
     "name": "stdout",
     "output_type": "stream",
     "text": [
      "(18484, 8)\n"
     ]
    }
   ],
   "source": [
    "def clean_cust_info(filepath: str) -> pd.DataFrame:\n",
    "    \"\"\"Cleans customer information data from a CSV file.\"\"\"\n",
    "    \n",
    "    # Check if the file exists\n",
    "    if not os.path.exists(filepath):\n",
    "        raise FileNotFoundError(f\"CSV file not found: {filepath}\")\n",
    "\n",
    "    # Load the data\n",
    "    df = pd.read_csv(filepath)\n",
    "\n",
    "    # Check if the file is empty\n",
    "    if df.empty:\n",
    "        return \"The file must have been empty\"\n",
    "\n",
    "    # Convert creation date to datetime\n",
    "    df['cst_create_date'] = pd.to_datetime(df['cst_create_date'], format='%Y-%m-%d')\n",
    "\n",
    "    # Rank by latest creation date\n",
    "    df['latest_ranking'] = df.groupby('cst_id')['cst_create_date'].rank(method='first', ascending=False)\n",
    "\n",
    "    # Filter only latest records\n",
    "    new_df = df[df['latest_ranking'] == 1].copy()\n",
    "    new_df.drop(columns=['latest_ranking'], inplace=True)  # Drop ranking column\n",
    "\n",
    "    # Convert cst_id to integer \n",
    "    new_df['cst_id'] = new_df['cst_id'].astype(int)\n",
    "\n",
    "    # Strip first and last names\n",
    "    new_df['cst_firstname'] = new_df['cst_firstname'].str.strip()\n",
    "    new_df['cst_lastname'] = new_df['cst_lastname'].str.strip()\n",
    "\n",
    "    # Standardize gender and marital status\n",
    "    new_df['cst_gndr'] = new_df['cst_gndr'].apply(standardization)\n",
    "    new_df['cst_marital_status'] = new_df['cst_marital_status'].apply(standardize_cst_marital_status)\n",
    "    new_df['dwh_create_date'] = datetime.now()\n",
    "    return new_df\n",
    "\n",
    "## Example usage:\n",
    "filepath = \"C:/Users/user/Desktop/FullDataAnalyticsProject/python_scripts/bronze/uncleaned_crm_datasets/crm_cust_info.csv\"\n",
    "cleaned_data = clean_cust_info(filepath=filepath)\n",
    "print(cleaned_data.shape)"
   ]
  },
  {
   "cell_type": "code",
   "execution_count": 72,
   "metadata": {},
   "outputs": [
    {
     "data": {
      "application/vnd.microsoft.datawrangler.viewer.v0+json": {
       "columns": [
        {
         "name": "index",
         "rawType": "int64",
         "type": "integer"
        },
        {
         "name": "cst_id",
         "rawType": "int64",
         "type": "integer"
        },
        {
         "name": "Number_of_duplicates",
         "rawType": "int64",
         "type": "integer"
        }
       ],
       "conversionMethod": "pd.DataFrame",
       "ref": "33200099-7328-4bc6-a8e8-d6f46ad4d845",
       "rows": [],
       "shape": {
        "columns": 2,
        "rows": 0
       }
      },
      "text/html": [
       "<div>\n",
       "<style scoped>\n",
       "    .dataframe tbody tr th:only-of-type {\n",
       "        vertical-align: middle;\n",
       "    }\n",
       "\n",
       "    .dataframe tbody tr th {\n",
       "        vertical-align: top;\n",
       "    }\n",
       "\n",
       "    .dataframe thead th {\n",
       "        text-align: right;\n",
       "    }\n",
       "</style>\n",
       "<table border=\"1\" class=\"dataframe\">\n",
       "  <thead>\n",
       "    <tr style=\"text-align: right;\">\n",
       "      <th></th>\n",
       "      <th>cst_id</th>\n",
       "      <th>Number_of_duplicates</th>\n",
       "    </tr>\n",
       "  </thead>\n",
       "  <tbody>\n",
       "  </tbody>\n",
       "</table>\n",
       "</div>"
      ],
      "text/plain": [
       "Empty DataFrame\n",
       "Columns: [cst_id, Number_of_duplicates]\n",
       "Index: []"
      ]
     },
     "execution_count": 72,
     "metadata": {},
     "output_type": "execute_result"
    }
   ],
   "source": [
    "## Data Cleaning Checks\n",
    "# Group by 'cst_id' and count occurrences, keeping NaN values\n",
    "duplicates = cleaned_data.groupby('cst_id', dropna=False).size().reset_index(name='Number_of_duplicates')\n",
    "\n",
    "# Filter for duplicates (count > 1) OR where 'cst_id' is NaN\n",
    "duplicates_filtered = duplicates[duplicates['Number_of_duplicates'] > 1]\n",
    "\n",
    "duplicates_filtered"
   ]
  },
  {
   "cell_type": "code",
   "execution_count": 73,
   "metadata": {},
   "outputs": [
    {
     "data": {
      "application/vnd.microsoft.datawrangler.viewer.v0+json": {
       "columns": [
        {
         "name": "index",
         "rawType": "int64",
         "type": "integer"
        },
        {
         "name": "cst_id",
         "rawType": "int64",
         "type": "integer"
        },
        {
         "name": "cst_key",
         "rawType": "object",
         "type": "string"
        },
        {
         "name": "cst_firstname",
         "rawType": "object",
         "type": "string"
        },
        {
         "name": "cst_lastname",
         "rawType": "object",
         "type": "string"
        },
        {
         "name": "cst_marital_status",
         "rawType": "object",
         "type": "string"
        },
        {
         "name": "cst_gndr",
         "rawType": "object",
         "type": "string"
        },
        {
         "name": "cst_create_date",
         "rawType": "datetime64[ns]",
         "type": "datetime"
        },
        {
         "name": "dwh_create_date",
         "rawType": "datetime64[us]",
         "type": "unknown"
        }
       ],
       "conversionMethod": "pd.DataFrame",
       "ref": "57d7f5f8-9300-4b9a-8bbd-2c2f94629cf8",
       "rows": [
        [
         "18471",
         "29466",
         "AW00029466",
         "Lance",
         "Jimenez",
         "Married",
         "Male",
         "2026-01-27 00:00:00",
         "2025-03-27 17:04:26.539424"
        ]
       ],
       "shape": {
        "columns": 8,
        "rows": 1
       }
      },
      "text/html": [
       "<div>\n",
       "<style scoped>\n",
       "    .dataframe tbody tr th:only-of-type {\n",
       "        vertical-align: middle;\n",
       "    }\n",
       "\n",
       "    .dataframe tbody tr th {\n",
       "        vertical-align: top;\n",
       "    }\n",
       "\n",
       "    .dataframe thead th {\n",
       "        text-align: right;\n",
       "    }\n",
       "</style>\n",
       "<table border=\"1\" class=\"dataframe\">\n",
       "  <thead>\n",
       "    <tr style=\"text-align: right;\">\n",
       "      <th></th>\n",
       "      <th>cst_id</th>\n",
       "      <th>cst_key</th>\n",
       "      <th>cst_firstname</th>\n",
       "      <th>cst_lastname</th>\n",
       "      <th>cst_marital_status</th>\n",
       "      <th>cst_gndr</th>\n",
       "      <th>cst_create_date</th>\n",
       "      <th>dwh_create_date</th>\n",
       "    </tr>\n",
       "  </thead>\n",
       "  <tbody>\n",
       "    <tr>\n",
       "      <th>18471</th>\n",
       "      <td>29466</td>\n",
       "      <td>AW00029466</td>\n",
       "      <td>Lance</td>\n",
       "      <td>Jimenez</td>\n",
       "      <td>Married</td>\n",
       "      <td>Male</td>\n",
       "      <td>2026-01-27</td>\n",
       "      <td>2025-03-27 17:04:26.539424</td>\n",
       "    </tr>\n",
       "  </tbody>\n",
       "</table>\n",
       "</div>"
      ],
      "text/plain": [
       "       cst_id     cst_key cst_firstname cst_lastname cst_marital_status  \\\n",
       "18471   29466  AW00029466         Lance      Jimenez            Married   \n",
       "\n",
       "      cst_gndr cst_create_date            dwh_create_date  \n",
       "18471     Male      2026-01-27 2025-03-27 17:04:26.539424  "
      ]
     },
     "execution_count": 73,
     "metadata": {},
     "output_type": "execute_result"
    }
   ],
   "source": [
    "cleaned_data[cleaned_data['cst_id'] == 29466]"
   ]
  },
  {
   "cell_type": "code",
   "execution_count": 74,
   "metadata": {},
   "outputs": [
    {
     "data": {
      "application/vnd.microsoft.datawrangler.viewer.v0+json": {
       "columns": [
        {
         "name": "index",
         "rawType": "int64",
         "type": "integer"
        },
        {
         "name": "cst_id",
         "rawType": "int64",
         "type": "integer"
        },
        {
         "name": "cst_key",
         "rawType": "object",
         "type": "string"
        },
        {
         "name": "cst_firstname",
         "rawType": "object",
         "type": "string"
        },
        {
         "name": "cst_lastname",
         "rawType": "object",
         "type": "string"
        },
        {
         "name": "cst_marital_status",
         "rawType": "object",
         "type": "string"
        },
        {
         "name": "cst_gndr",
         "rawType": "object",
         "type": "string"
        },
        {
         "name": "cst_create_date",
         "rawType": "datetime64[ns]",
         "type": "datetime"
        },
        {
         "name": "dwh_create_date",
         "rawType": "datetime64[us]",
         "type": "unknown"
        }
       ],
       "conversionMethod": "pd.DataFrame",
       "ref": "7423bd43-03c3-41f9-902d-904f3b83315e",
       "rows": [],
       "shape": {
        "columns": 8,
        "rows": 0
       }
      },
      "text/html": [
       "<div>\n",
       "<style scoped>\n",
       "    .dataframe tbody tr th:only-of-type {\n",
       "        vertical-align: middle;\n",
       "    }\n",
       "\n",
       "    .dataframe tbody tr th {\n",
       "        vertical-align: top;\n",
       "    }\n",
       "\n",
       "    .dataframe thead th {\n",
       "        text-align: right;\n",
       "    }\n",
       "</style>\n",
       "<table border=\"1\" class=\"dataframe\">\n",
       "  <thead>\n",
       "    <tr style=\"text-align: right;\">\n",
       "      <th></th>\n",
       "      <th>cst_id</th>\n",
       "      <th>cst_key</th>\n",
       "      <th>cst_firstname</th>\n",
       "      <th>cst_lastname</th>\n",
       "      <th>cst_marital_status</th>\n",
       "      <th>cst_gndr</th>\n",
       "      <th>cst_create_date</th>\n",
       "      <th>dwh_create_date</th>\n",
       "    </tr>\n",
       "  </thead>\n",
       "  <tbody>\n",
       "  </tbody>\n",
       "</table>\n",
       "</div>"
      ],
      "text/plain": [
       "Empty DataFrame\n",
       "Columns: [cst_id, cst_key, cst_firstname, cst_lastname, cst_marital_status, cst_gndr, cst_create_date, dwh_create_date]\n",
       "Index: []"
      ]
     },
     "execution_count": 74,
     "metadata": {},
     "output_type": "execute_result"
    }
   ],
   "source": [
    "cleaned_data[(cleaned_data['cst_firstname'] != cleaned_data['cst_firstname'].str.strip())]"
   ]
  },
  {
   "cell_type": "code",
   "execution_count": 75,
   "metadata": {},
   "outputs": [
    {
     "data": {
      "application/vnd.microsoft.datawrangler.viewer.v0+json": {
       "columns": [
        {
         "name": "index",
         "rawType": "int64",
         "type": "integer"
        },
        {
         "name": "cst_id",
         "rawType": "int64",
         "type": "integer"
        },
        {
         "name": "cst_key",
         "rawType": "object",
         "type": "string"
        },
        {
         "name": "cst_firstname",
         "rawType": "object",
         "type": "string"
        },
        {
         "name": "cst_lastname",
         "rawType": "object",
         "type": "string"
        },
        {
         "name": "cst_marital_status",
         "rawType": "object",
         "type": "string"
        },
        {
         "name": "cst_gndr",
         "rawType": "object",
         "type": "string"
        },
        {
         "name": "cst_create_date",
         "rawType": "datetime64[ns]",
         "type": "datetime"
        },
        {
         "name": "dwh_create_date",
         "rawType": "datetime64[us]",
         "type": "unknown"
        }
       ],
       "conversionMethod": "pd.DataFrame",
       "ref": "3e0f236f-e7d5-46e7-a654-713d18f084af",
       "rows": [],
       "shape": {
        "columns": 8,
        "rows": 0
       }
      },
      "text/html": [
       "<div>\n",
       "<style scoped>\n",
       "    .dataframe tbody tr th:only-of-type {\n",
       "        vertical-align: middle;\n",
       "    }\n",
       "\n",
       "    .dataframe tbody tr th {\n",
       "        vertical-align: top;\n",
       "    }\n",
       "\n",
       "    .dataframe thead th {\n",
       "        text-align: right;\n",
       "    }\n",
       "</style>\n",
       "<table border=\"1\" class=\"dataframe\">\n",
       "  <thead>\n",
       "    <tr style=\"text-align: right;\">\n",
       "      <th></th>\n",
       "      <th>cst_id</th>\n",
       "      <th>cst_key</th>\n",
       "      <th>cst_firstname</th>\n",
       "      <th>cst_lastname</th>\n",
       "      <th>cst_marital_status</th>\n",
       "      <th>cst_gndr</th>\n",
       "      <th>cst_create_date</th>\n",
       "      <th>dwh_create_date</th>\n",
       "    </tr>\n",
       "  </thead>\n",
       "  <tbody>\n",
       "  </tbody>\n",
       "</table>\n",
       "</div>"
      ],
      "text/plain": [
       "Empty DataFrame\n",
       "Columns: [cst_id, cst_key, cst_firstname, cst_lastname, cst_marital_status, cst_gndr, cst_create_date, dwh_create_date]\n",
       "Index: []"
      ]
     },
     "execution_count": 75,
     "metadata": {},
     "output_type": "execute_result"
    }
   ],
   "source": [
    "cleaned_data[(cleaned_data['cst_lastname'] != cleaned_data['cst_lastname'].str.strip())]"
   ]
  },
  {
   "cell_type": "code",
   "execution_count": 76,
   "metadata": {},
   "outputs": [
    {
     "name": "stdout",
     "output_type": "stream",
     "text": [
      "['Male' 'Female' 'Unknown']\n"
     ]
    }
   ],
   "source": [
    "print(cleaned_data['cst_gndr'].unique())"
   ]
  },
  {
   "cell_type": "code",
   "execution_count": 77,
   "metadata": {},
   "outputs": [
    {
     "name": "stdout",
     "output_type": "stream",
     "text": [
      "cst_gndr\n",
      "Male       7067\n",
      "Female     6848\n",
      "Unknown    4569\n",
      "Name: count, dtype: int64\n"
     ]
    }
   ],
   "source": [
    "print(cleaned_data['cst_gndr'].value_counts())"
   ]
  },
  {
   "cell_type": "code",
   "execution_count": 78,
   "metadata": {},
   "outputs": [
    {
     "data": {
      "application/vnd.microsoft.datawrangler.viewer.v0+json": {
       "columns": [
        {
         "name": "index",
         "rawType": "int64",
         "type": "integer"
        },
        {
         "name": "cst_id",
         "rawType": "int64",
         "type": "integer"
        },
        {
         "name": "cst_key",
         "rawType": "object",
         "type": "string"
        },
        {
         "name": "cst_firstname",
         "rawType": "object",
         "type": "string"
        },
        {
         "name": "cst_lastname",
         "rawType": "object",
         "type": "string"
        },
        {
         "name": "cst_marital_status",
         "rawType": "object",
         "type": "string"
        },
        {
         "name": "cst_gndr",
         "rawType": "object",
         "type": "string"
        },
        {
         "name": "cst_create_date",
         "rawType": "datetime64[ns]",
         "type": "datetime"
        },
        {
         "name": "dwh_create_date",
         "rawType": "datetime64[us]",
         "type": "unknown"
        }
       ],
       "conversionMethod": "pd.DataFrame",
       "ref": "48320f37-02a9-462f-b9c1-dda2bbd2c2c3",
       "rows": [
        [
         "0",
         "11000",
         "AW00011000",
         "Jon",
         "Yang",
         "Married",
         "Male",
         "2025-10-06 00:00:00",
         "2025-03-27 17:04:26.539424"
        ],
        [
         "1",
         "11001",
         "AW00011001",
         "Eugene",
         "Huang",
         "Single",
         "Male",
         "2025-10-06 00:00:00",
         "2025-03-27 17:04:26.539424"
        ],
        [
         "2",
         "11002",
         "AW00011002",
         "Ruben",
         "Torres",
         "Married",
         "Male",
         "2025-10-06 00:00:00",
         "2025-03-27 17:04:26.539424"
        ],
        [
         "3",
         "11003",
         "AW00011003",
         "Christy",
         "Zhu",
         "Single",
         "Female",
         "2025-10-06 00:00:00",
         "2025-03-27 17:04:26.539424"
        ],
        [
         "4",
         "11004",
         "AW00011004",
         "Elizabeth",
         "Johnson",
         "Single",
         "Female",
         "2025-10-06 00:00:00",
         "2025-03-27 17:04:26.539424"
        ]
       ],
       "shape": {
        "columns": 8,
        "rows": 5
       }
      },
      "text/html": [
       "<div>\n",
       "<style scoped>\n",
       "    .dataframe tbody tr th:only-of-type {\n",
       "        vertical-align: middle;\n",
       "    }\n",
       "\n",
       "    .dataframe tbody tr th {\n",
       "        vertical-align: top;\n",
       "    }\n",
       "\n",
       "    .dataframe thead th {\n",
       "        text-align: right;\n",
       "    }\n",
       "</style>\n",
       "<table border=\"1\" class=\"dataframe\">\n",
       "  <thead>\n",
       "    <tr style=\"text-align: right;\">\n",
       "      <th></th>\n",
       "      <th>cst_id</th>\n",
       "      <th>cst_key</th>\n",
       "      <th>cst_firstname</th>\n",
       "      <th>cst_lastname</th>\n",
       "      <th>cst_marital_status</th>\n",
       "      <th>cst_gndr</th>\n",
       "      <th>cst_create_date</th>\n",
       "      <th>dwh_create_date</th>\n",
       "    </tr>\n",
       "  </thead>\n",
       "  <tbody>\n",
       "    <tr>\n",
       "      <th>0</th>\n",
       "      <td>11000</td>\n",
       "      <td>AW00011000</td>\n",
       "      <td>Jon</td>\n",
       "      <td>Yang</td>\n",
       "      <td>Married</td>\n",
       "      <td>Male</td>\n",
       "      <td>2025-10-06</td>\n",
       "      <td>2025-03-27 17:04:26.539424</td>\n",
       "    </tr>\n",
       "    <tr>\n",
       "      <th>1</th>\n",
       "      <td>11001</td>\n",
       "      <td>AW00011001</td>\n",
       "      <td>Eugene</td>\n",
       "      <td>Huang</td>\n",
       "      <td>Single</td>\n",
       "      <td>Male</td>\n",
       "      <td>2025-10-06</td>\n",
       "      <td>2025-03-27 17:04:26.539424</td>\n",
       "    </tr>\n",
       "    <tr>\n",
       "      <th>2</th>\n",
       "      <td>11002</td>\n",
       "      <td>AW00011002</td>\n",
       "      <td>Ruben</td>\n",
       "      <td>Torres</td>\n",
       "      <td>Married</td>\n",
       "      <td>Male</td>\n",
       "      <td>2025-10-06</td>\n",
       "      <td>2025-03-27 17:04:26.539424</td>\n",
       "    </tr>\n",
       "    <tr>\n",
       "      <th>3</th>\n",
       "      <td>11003</td>\n",
       "      <td>AW00011003</td>\n",
       "      <td>Christy</td>\n",
       "      <td>Zhu</td>\n",
       "      <td>Single</td>\n",
       "      <td>Female</td>\n",
       "      <td>2025-10-06</td>\n",
       "      <td>2025-03-27 17:04:26.539424</td>\n",
       "    </tr>\n",
       "    <tr>\n",
       "      <th>4</th>\n",
       "      <td>11004</td>\n",
       "      <td>AW00011004</td>\n",
       "      <td>Elizabeth</td>\n",
       "      <td>Johnson</td>\n",
       "      <td>Single</td>\n",
       "      <td>Female</td>\n",
       "      <td>2025-10-06</td>\n",
       "      <td>2025-03-27 17:04:26.539424</td>\n",
       "    </tr>\n",
       "  </tbody>\n",
       "</table>\n",
       "</div>"
      ],
      "text/plain": [
       "   cst_id     cst_key cst_firstname cst_lastname cst_marital_status cst_gndr  \\\n",
       "0   11000  AW00011000           Jon         Yang            Married     Male   \n",
       "1   11001  AW00011001        Eugene        Huang             Single     Male   \n",
       "2   11002  AW00011002         Ruben       Torres            Married     Male   \n",
       "3   11003  AW00011003       Christy          Zhu             Single   Female   \n",
       "4   11004  AW00011004     Elizabeth      Johnson             Single   Female   \n",
       "\n",
       "  cst_create_date            dwh_create_date  \n",
       "0      2025-10-06 2025-03-27 17:04:26.539424  \n",
       "1      2025-10-06 2025-03-27 17:04:26.539424  \n",
       "2      2025-10-06 2025-03-27 17:04:26.539424  \n",
       "3      2025-10-06 2025-03-27 17:04:26.539424  \n",
       "4      2025-10-06 2025-03-27 17:04:26.539424  "
      ]
     },
     "execution_count": 78,
     "metadata": {},
     "output_type": "execute_result"
    }
   ],
   "source": [
    "cleaned_data.head()"
   ]
  },
  {
   "cell_type": "code",
   "execution_count": 79,
   "metadata": {},
   "outputs": [
    {
     "data": {
      "application/vnd.microsoft.datawrangler.viewer.v0+json": {
       "columns": [
        {
         "name": "index",
         "rawType": "int64",
         "type": "integer"
        },
        {
         "name": "cst_id",
         "rawType": "int64",
         "type": "integer"
        },
        {
         "name": "cst_key",
         "rawType": "object",
         "type": "string"
        },
        {
         "name": "cst_firstname",
         "rawType": "object",
         "type": "string"
        },
        {
         "name": "cst_lastname",
         "rawType": "object",
         "type": "string"
        },
        {
         "name": "cst_marital_status",
         "rawType": "object",
         "type": "string"
        },
        {
         "name": "cst_gndr",
         "rawType": "object",
         "type": "string"
        },
        {
         "name": "cst_create_date",
         "rawType": "datetime64[ns]",
         "type": "datetime"
        },
        {
         "name": "dwh_create_date",
         "rawType": "datetime64[us]",
         "type": "unknown"
        }
       ],
       "conversionMethod": "pd.DataFrame",
       "ref": "f641ce06-d072-4070-a520-bd06eedf5701",
       "rows": [
        [
         "18471",
         "29466",
         "AW00029466",
         "Lance",
         "Jimenez",
         "Married",
         "Male",
         "2026-01-27 00:00:00",
         "2025-03-27 17:04:26.539424"
        ]
       ],
       "shape": {
        "columns": 8,
        "rows": 1
       }
      },
      "text/html": [
       "<div>\n",
       "<style scoped>\n",
       "    .dataframe tbody tr th:only-of-type {\n",
       "        vertical-align: middle;\n",
       "    }\n",
       "\n",
       "    .dataframe tbody tr th {\n",
       "        vertical-align: top;\n",
       "    }\n",
       "\n",
       "    .dataframe thead th {\n",
       "        text-align: right;\n",
       "    }\n",
       "</style>\n",
       "<table border=\"1\" class=\"dataframe\">\n",
       "  <thead>\n",
       "    <tr style=\"text-align: right;\">\n",
       "      <th></th>\n",
       "      <th>cst_id</th>\n",
       "      <th>cst_key</th>\n",
       "      <th>cst_firstname</th>\n",
       "      <th>cst_lastname</th>\n",
       "      <th>cst_marital_status</th>\n",
       "      <th>cst_gndr</th>\n",
       "      <th>cst_create_date</th>\n",
       "      <th>dwh_create_date</th>\n",
       "    </tr>\n",
       "  </thead>\n",
       "  <tbody>\n",
       "    <tr>\n",
       "      <th>18471</th>\n",
       "      <td>29466</td>\n",
       "      <td>AW00029466</td>\n",
       "      <td>Lance</td>\n",
       "      <td>Jimenez</td>\n",
       "      <td>Married</td>\n",
       "      <td>Male</td>\n",
       "      <td>2026-01-27</td>\n",
       "      <td>2025-03-27 17:04:26.539424</td>\n",
       "    </tr>\n",
       "  </tbody>\n",
       "</table>\n",
       "</div>"
      ],
      "text/plain": [
       "       cst_id     cst_key cst_firstname cst_lastname cst_marital_status  \\\n",
       "18471   29466  AW00029466         Lance      Jimenez            Married   \n",
       "\n",
       "      cst_gndr cst_create_date            dwh_create_date  \n",
       "18471     Male      2026-01-27 2025-03-27 17:04:26.539424  "
      ]
     },
     "execution_count": 79,
     "metadata": {},
     "output_type": "execute_result"
    }
   ],
   "source": [
    "cleaned_data[cleaned_data['cst_id'] == 29466]"
   ]
  },
  {
   "cell_type": "code",
   "execution_count": 80,
   "metadata": {},
   "outputs": [
    {
     "name": "stdout",
     "output_type": "stream",
     "text": [
      "['Married' 'Single']\n"
     ]
    }
   ],
   "source": [
    "print(cleaned_data['cst_marital_status'].unique())"
   ]
  },
  {
   "cell_type": "code",
   "execution_count": 81,
   "metadata": {},
   "outputs": [
    {
     "name": "stdout",
     "output_type": "stream",
     "text": [
      "cst_marital_status\n",
      "Married    10011\n",
      "Single      8473\n",
      "Name: count, dtype: int64\n"
     ]
    }
   ],
   "source": [
    "print(cleaned_data['cst_marital_status'].value_counts())"
   ]
  },
  {
   "cell_type": "code",
   "execution_count": 82,
   "metadata": {},
   "outputs": [
    {
     "name": "stdout",
     "output_type": "stream",
     "text": [
      "Folder 'cleaned_datasets' created successfully!\n"
     ]
    }
   ],
   "source": [
    "folder_path = \"cleaned_datasets\"\n",
    "os.makedirs(folder_path, exist_ok=True)  # Avoids error if folder exists\n",
    "\n",
    "print(f\"Folder '{folder_path}' created successfully!\")"
   ]
  },
  {
   "cell_type": "code",
   "execution_count": 83,
   "metadata": {},
   "outputs": [],
   "source": [
    "cleaned_data.to_csv(f'{os.path.join('cleaned_datasets', 'crm_cust_info.csv')}', \n",
    "                    index=False, date_format=\"%y-%m-%d %H:%M:%S\")"
   ]
  },
  {
   "cell_type": "code",
   "execution_count": null,
   "metadata": {},
   "outputs": [],
   "source": []
  }
 ],
 "metadata": {
  "kernelspec": {
   "display_name": "warehouse_env",
   "language": "python",
   "name": "python3"
  },
  "language_info": {
   "codemirror_mode": {
    "name": "ipython",
    "version": 3
   },
   "file_extension": ".py",
   "mimetype": "text/x-python",
   "name": "python",
   "nbconvert_exporter": "python",
   "pygments_lexer": "ipython3",
   "version": "3.13.2"
  }
 },
 "nbformat": 4,
 "nbformat_minor": 2
}
